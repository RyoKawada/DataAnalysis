{
 "cells": [
  {
   "cell_type": "code",
   "execution_count": 60,
   "id": "b735c49d-b0d4-4444-bdfd-9af9049d60dd",
   "metadata": {},
   "outputs": [
    {
     "data": {
      "text/plain": [
       "((5250, 1201), (2250, 1201), (2250, 2))"
      ]
     },
     "execution_count": 60,
     "metadata": {},
     "output_type": "execute_result"
    }
   ],
   "source": [
    "import pandas as pd, gc\n",
    "import numpy  as np\n",
    "\n",
    "import matplotlib.pyplot as plt\n",
    "\n",
    "train  = pd.read_csv(\"train.csv\")\n",
    "test   = pd.read_csv(\"test.csv\")\n",
    "submit = pd.read_csv(\"solution_format.csv\")\n",
    "\n",
    "train.shape, test.shape, submit.shape"
   ]
  },
  {
   "cell_type": "markdown",
   "id": "8e06b9fe-77ff-46e8-90d0-ac160f139b61",
   "metadata": {},
   "source": [
    "- labels: target variable with 0 being 'real', and 1 being 'fake'"
   ]
  },
  {
   "cell_type": "code",
   "execution_count": 2,
   "id": "8696bce2-cf5c-4272-9336-726775133a11",
   "metadata": {},
   "outputs": [
    {
     "data": {
      "text/plain": [
       "0    3850\n",
       "1    1400\n",
       "Name: labels, dtype: int64"
      ]
     },
     "execution_count": 2,
     "metadata": {},
     "output_type": "execute_result"
    }
   ],
   "source": [
    "train[\"labels\"].value_counts()"
   ]
  },
  {
   "cell_type": "code",
   "execution_count": null,
   "id": "db05e425-ec80-4e3e-a376-703f013ac46f",
   "metadata": {},
   "outputs": [],
   "source": []
  },
  {
   "cell_type": "code",
   "execution_count": null,
   "id": "2e05e5e8-c7cc-4d26-9456-19ed5b165e8d",
   "metadata": {},
   "outputs": [],
   "source": []
  },
  {
   "cell_type": "markdown",
   "id": "e3f6bef8-58c2-4f06-8ebe-eed47768348b",
   "metadata": {},
   "source": [
    "# CROSS VALIDATION"
   ]
  },
  {
   "cell_type": "code",
   "execution_count": 93,
   "id": "76020986-b185-482e-9d62-918f171aebc4",
   "metadata": {},
   "outputs": [
    {
     "name": "stderr",
     "output_type": "stream",
     "text": [
      "0it [00:00, ?it/s]"
     ]
    },
    {
     "name": "stdout",
     "output_type": "stream",
     "text": [
      "Fold: 1\n"
     ]
    },
    {
     "name": "stderr",
     "output_type": "stream",
     "text": [
      "1it [03:52, 232.11s/it]"
     ]
    },
    {
     "name": "stdout",
     "output_type": "stream",
     "text": [
      "Fold: 2\n"
     ]
    },
    {
     "name": "stderr",
     "output_type": "stream",
     "text": [
      "2it [09:14, 285.23s/it]"
     ]
    },
    {
     "name": "stdout",
     "output_type": "stream",
     "text": [
      "Fold: 3\n"
     ]
    },
    {
     "name": "stderr",
     "output_type": "stream",
     "text": [
      "3it [13:33, 273.14s/it]"
     ]
    },
    {
     "name": "stdout",
     "output_type": "stream",
     "text": [
      "Fold: 4\n"
     ]
    },
    {
     "name": "stderr",
     "output_type": "stream",
     "text": [
      "4it [18:39, 286.30s/it]"
     ]
    },
    {
     "name": "stdout",
     "output_type": "stream",
     "text": [
      "Fold: 5\n"
     ]
    },
    {
     "name": "stderr",
     "output_type": "stream",
     "text": [
      "5it [23:07, 277.41s/it]"
     ]
    },
    {
     "name": "stdout",
     "output_type": "stream",
     "text": [
      "CPU times: user 1h 16min 43s, sys: 14.7 s, total: 1h 16min 58s\n",
      "Wall time: 23min 7s\n"
     ]
    },
    {
     "name": "stderr",
     "output_type": "stream",
     "text": [
      "\n"
     ]
    }
   ],
   "source": [
    "%%time\n",
    "\n",
    "import warnings\n",
    "\n",
    "warnings.simplefilter(\"ignore\")\n",
    "\n",
    "import lightgbm as lgb\n",
    "import xgboost  as xgb\n",
    "import catboost as cat\n",
    "\n",
    "from tqdm import tqdm\n",
    "from sklearn.model_selection import StratifiedKFold\n",
    "\n",
    "lgb_params = {\n",
    "    \"objective\"             : \"binary\",\n",
    "    \"metric\"                : \"binary_logloss\",\n",
    "    \"learning_rate\"         :  0.01,\n",
    "    \"n_estimators\"          :  1000,\n",
    "    \"random_state\"          :  2023,\n",
    "    \"importance_type\"       : \"gain\"\n",
    "}\n",
    "\n",
    "xgb_params = {\n",
    "    'objective'            : 'binary:logistic',\n",
    "    'eval_metric'          : 'logloss',\n",
    "    'learning_rate'        :  0.01,\n",
    "    'n_estimators'         :  1000,\n",
    "    'random_state'         :  2023\n",
    "}\n",
    "\n",
    "cat_params = {\n",
    "    \"objective\"               : \"CrossEntropy\",\n",
    "    \"learning_rate\"           : 0.01,\n",
    "    \"n_estimators\"            : 1000\n",
    "   \n",
    "}\n",
    "\n",
    "fold = 5\n",
    "\n",
    "skf = list(StratifiedKFold(n_splits=fold, random_state=2023, shuffle=True).split(X=train, y=train[\"labels\"]))\n",
    "oof = pd.DataFrame(np.zeros((len(train), )))\n",
    "\n",
    "df_imp  = pd.DataFrame()\n",
    "models  = {}\n",
    "\n",
    "for i, (tr_i, va_i) in tqdm(enumerate(skf)):\n",
    "    print('Fold:', i+1)\n",
    "    \n",
    "    # training data\n",
    "    train_x = train.iloc[tr_i, 1:]\n",
    "    valid_x = train.iloc[va_i, 1:]\n",
    "    \n",
    "    # label data\n",
    "    train_y = train.iloc[tr_i, 0]\n",
    "    valid_y = train.iloc[va_i, 0]\n",
    "    \n",
    "    # model\n",
    "#     model = lgb.LGBMClassifier(**lgb_params)\n",
    "    model = xgb.XGBClassifier(**xgb_params)\n",
    "#     model = cat.CatBoostClassifier(**cat_params)\n",
    "    \n",
    "    model.fit(train_x, train_y,\n",
    "              eval_set=[(valid_x, valid_y)],\n",
    "              early_stopping_rounds=20,\n",
    "              verbose=0)\n",
    "    \n",
    "    # SAVE MODEL, PREDICT VALID OOF\n",
    "    models[f\"FOLD{i}:\"] = model\n",
    "    \n",
    "    predict = model.predict_proba(valid_x)[:,0]\n",
    "    \n",
    "    oof.loc[va_i, 0] = predict"
   ]
  },
  {
   "cell_type": "code",
   "execution_count": 94,
   "id": "33cbc884-8303-43be-9e84-f2c731aa6d9a",
   "metadata": {},
   "outputs": [],
   "source": [
    "from sklearn.metrics import f1_score\n",
    "\n",
    "# FIND BEST THRESHOLD TO CONVERT PROBS INTO 1s AND 0s\n",
    "scores     = []\n",
    "thresholds = []\n",
    "\n",
    "best_score     = 0\n",
    "best_threshold = 0\n",
    "\n",
    "for threshold in np.arange(0.4, 0.8, 0.01):\n",
    "    preds = (oof.values.reshape(-1) < threshold).astype(\"int\")\n",
    "    score = f1_score(train[\"labels\"].values.reshape(-1), preds, average=\"macro\")\n",
    "    \n",
    "    scores.append(score)\n",
    "    thresholds.append(threshold)\n",
    "    \n",
    "    if score > best_score:\n",
    "        best_score = score\n",
    "        best_threshold = threshold"
   ]
  },
  {
   "cell_type": "code",
   "execution_count": 95,
   "id": "44c33508-d97e-4156-a227-b69cecb71ffa",
   "metadata": {},
   "outputs": [
    {
     "data": {
      "image/png": "[encoded data removed]",
      "text/plain": [
       "<Figure size 1080x360 with 1 Axes>"
      ]
     },
     "metadata": {
      "needs_background": "light"
     },
     "output_type": "display_data"
    }
   ],
   "source": [
    "import matplotlib.pyplot as plt\n",
    "\n",
    "plt.figure(figsize=(15,5))\n",
    "plt.plot(thresholds, scores, \"-o\", color=\"blue\")\n",
    "plt.scatter([best_threshold], [best_score], color=\"blue\", s=300, alpha=0.5)\n",
    "plt.xlabel(\"Threshold\", size=14)\n",
    "plt.ylabel(\"Validation F1 Score\", size=14)\n",
    "plt.title(f\"Treshold vs F1_Score with Best F1_Score = {best_score:.3f} at Best Threshold = {best_threshold:.3}\", size=18)\n",
    "plt.show()"
   ]
  },
  {
   "cell_type": "code",
   "execution_count": 96,
   "id": "a9d74b01-9d98-4ebe-8e96-e567dbb8cfa4",
   "metadata": {},
   "outputs": [
    {
     "name": "stdout",
     "output_type": "stream",
     "text": [
      "==> Overall F1 = 0.8117304611197682\n"
     ]
    }
   ],
   "source": [
    "# COMPUTE F1 SCORE OVERALL\n",
    "score = f1_score(train[\"labels\"].values, (oof.values.reshape(-1) < best_threshold).astype('int'), average='macro')\n",
    "print('==> Overall F1 =', score)\n",
    "\n",
    "# ==> Overall F1 = 0.8143067375264466: LGB Best Threshold = 0.72\n",
    "# ==> Overall F1 = 0.8117304611197682: XGB Best Threshold = 0.71\n",
    "# ==> Overall F1 = 0.8331520382188877: CAT Best Threshold = 0.68"
   ]
  },
  {
   "cell_type": "code",
   "execution_count": 97,
   "id": "8579305f-c518-4d44-891d-5880fd8d2c02",
   "metadata": {},
   "outputs": [],
   "source": [
    "x_test = test.iloc[:,1:]\n",
    "\n",
    "p_proba_test = 0\n",
    "\n",
    "for key in models.keys():\n",
    "    p_proba_test += models[key].predict_proba(x_test)[:,0]\n",
    "\n",
    "p_proba_test /= fold\n",
    "p_test        = (p_proba_test < best_threshold).astype(int)"
   ]
  },
  {
   "cell_type": "code",
   "execution_count": 82,
   "id": "588eb404-874f-440a-a263-d57353eb623e",
   "metadata": {},
   "outputs": [],
   "source": [
    "submit[\"labels\"] = p_test\n",
    "\n",
    "# final submission\n",
    "submit.iloc[:,:2].to_csv(\"submission.csv\", index=False)"
   ]
  },
  {
   "cell_type": "code",
   "execution_count": 92,
   "id": "de71c8bc-4b7c-47a9-bc4d-93734bb58f47",
   "metadata": {},
   "outputs": [],
   "source": [
    "# submit[\"labels_lgb_proba\"] = p_proba_test\n",
    "# submit[\"labels_lgb\"]       = p_test"
   ]
  },
  {
   "cell_type": "code",
   "execution_count": 98,
   "id": "17f05c07-0bc0-4685-802c-afff213acf05",
   "metadata": {},
   "outputs": [],
   "source": [
    "# submit[\"labels_xgb_proba\"] = p_proba_test\n",
    "# submit[\"labels_xgb\"]       = p_test"
   ]
  },
  {
   "cell_type": "code",
   "execution_count": 86,
   "id": "88f8eeee-128d-4d5e-816e-0a4ed2cffebf",
   "metadata": {},
   "outputs": [],
   "source": [
    "# submit[\"labels_cat_proba\"] = p_proba_test\n",
    "# submit[\"labels_cat\"]       = p_test"
   ]
  },
  {
   "cell_type": "code",
   "execution_count": 99,
   "id": "71ff4ba3-c8d5-4c96-bc63-29606d53da59",
   "metadata": {},
   "outputs": [],
   "source": [
    "submit[\"labels\"] = ((submit[\"labels_lgb\"] + submit[\"labels_xgb\"] + submit[\"labels_cat\"]) >= 1).astype(int)\n",
    "\n",
    "# final submission\n",
    "submit.iloc[:,:2].to_csv(\"submission_ensemble.csv\", index=False)"
   ]
  },
  {
   "cell_type": "code",
   "execution_count": 4,
   "id": "5bec668e-1b75-4ee0-9295-c52df46fbeaf",
   "metadata": {},
   "outputs": [],
   "source": [
    "threshold = 2.2\n",
    "\n",
    "submit[\"labels\"] = ((submit[\"labels_cat_proba\"] + submit[\"labels_lgb_proba\"] + submit[\"labels_xgb_proba\"]) < threshold).astype(int)\n",
    "\n",
    "submit.iloc[:,:2].to_csv(\"submission_ensemble4.csv\", index=False)"
   ]
  },
  {
   "cell_type": "code",
   "execution_count": null,
   "id": "0e3ab69a-1aca-4bd1-ae0c-10b913e24709",
   "metadata": {},
   "outputs": [],
   "source": []
  },
  {
   "cell_type": "code",
   "execution_count": null,
   "id": "dcbae5d2-67be-4099-97d1-4ff3732b20c2",
   "metadata": {},
   "outputs": [],
   "source": []
  },
  {
   "cell_type": "code",
   "execution_count": null,
   "id": "54222470-fd83-49ea-9561-dea138a866ce",
   "metadata": {},
   "outputs": [],
   "source": []
  }
 ],
 "metadata": {
  "kernelspec": {
   "display_name": "Python 3",
   "language": "python",
   "name": "python3"
  },
  "language_info": {
   "codemirror_mode": {
    "name": "ipython",
    "version": 3
   },
   "file_extension": ".py",
   "mimetype": "text/x-python",
   "name": "python",
   "nbconvert_exporter": "python",
   "pygments_lexer": "ipython3",
   "version": "3.8.8"
  }
 },
 "nbformat": 4,
 "nbformat_minor": 5
}
