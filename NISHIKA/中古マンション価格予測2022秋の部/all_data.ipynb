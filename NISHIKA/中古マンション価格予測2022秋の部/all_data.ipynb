{
 "cells": [
  {
   "cell_type": "markdown",
   "id": "94171852-331d-4016-9bb1-20f9502beef3",
   "metadata": {},
   "source": [
    "##### 対数をとるのは、価格が高い家の予測誤差も、価格が低い家の予測誤差も等しく結果に影響するようにするため。RMSEだと、予測値と実際の値の差が非常に大きいデータがあった場合に、他の予測精度がよかったとしても、差が大きくなってしまったデータに全体の予測精度が大きく影響を受ける。一方で、正解値、予測値それぞれの対数をとることで、予測値・実際の値およびその値の差が小さくなり、あるデータの評価が全体に及ぼす影響を比較的小さくすることができる。"
   ]
  },
  {
   "cell_type": "code",
   "execution_count": 1,
   "id": "b208d307-492f-4d4e-9316-bf6f76424fa2",
   "metadata": {},
   "outputs": [
    {
     "name": "stdout",
     "output_type": "stream",
     "text": [
      "Memory usage of dataframe is 163.00 MB\n",
      "Memory usage after optimization is: 144.73 MB\n",
      "Decreased by 11.2%\n"
     ]
    }
   ],
   "source": [
    "import warnings\n",
    "import pandas as pd\n",
    "import numpy as np\n",
    "\n",
    "from sklearn.metrics import mean_absolute_error\n",
    "\n",
    "pd.set_option(\"display.max_columns\", 50)\n",
    "warnings.simplefilter(\"ignore\")\n",
    "\n",
    "test   = pd.read_csv(\"test.csv\")\n",
    "submit = pd.read_csv(\"sample_submission.csv\")\n",
    "\n",
    "train = pd.DataFrame()\n",
    "\n",
    "# extraction train data\n",
    "for i in range(1, 48):\n",
    "    if i < 10:\n",
    "        train = pd.concat([train, pd.read_csv(f\"train/0{i}.csv\")])\n",
    "    else:\n",
    "        train = pd.concat([train, pd.read_csv(f\"train/{i}.csv\")])\n",
    "\n",
    "\n",
    "# function for reduce memory\n",
    "def reduce_mem_usage(df):\n",
    "    start_mem = df.memory_usage().sum() / 1024**2\n",
    "    print('Memory usage of dataframe is {:.2f} MB'.format(start_mem))\n",
    "    \n",
    "    for col in df.columns:\n",
    "        col_type = df[col].dtype\n",
    "        \n",
    "        if col_type != object:\n",
    "            c_min = df[col].min()\n",
    "            c_max = df[col].max()\n",
    "            if str(col_type)[:3] == 'int':\n",
    "                if c_min > np.iinfo(np.int8).min and c_max < np.iinfo(np.int8).max:\n",
    "                    df[col] = df[col].astype(np.int8)\n",
    "                elif c_min > np.iinfo(np.int16).min and c_max < np.iinfo(np.int16).max:\n",
    "                    df[col] = df[col].astype(np.int16)\n",
    "                elif c_min > np.iinfo(np.int32).min and c_max < np.iinfo(np.int32).max:\n",
    "                    df[col] = df[col].astype(np.int32)\n",
    "                elif c_min > np.iinfo(np.int64).min and c_max < np.iinfo(np.int64).max:\n",
    "                    df[col] = df[col].astype(np.int64)  \n",
    "            else:\n",
    "                if c_min > np.finfo(np.float16).min and c_max < np.finfo(np.float16).max:\n",
    "                    df[col] = df[col].astype(np.float16)\n",
    "                elif c_min > np.finfo(np.float32).min and c_max < np.finfo(np.float32).max:\n",
    "                    df[col] = df[col].astype(np.float32)\n",
    "                else:\n",
    "                    df[col] = df[col].astype(np.float64)\n",
    "        else:\n",
    "            pass\n",
    "\n",
    "    end_mem = df.memory_usage().sum() / 1024**2\n",
    "    print('Memory usage after optimization is: {:.2f} MB'.format(end_mem))\n",
    "    print('Decreased by {:.1f}%'.format(100 * (start_mem - end_mem) / start_mem))\n",
    "    \n",
    "    return df\n",
    "\n",
    "train = reduce_mem_usage(train)\n",
    "\n",
    "train = train.reset_index(drop=True)\n",
    "\n",
    "df = pd.concat([train, test])"
   ]
  },
  {
   "cell_type": "code",
   "execution_count": 2,
   "id": "588356ef-2136-4b29-834e-88230a470a07",
   "metadata": {},
   "outputs": [],
   "source": [
    "# ------ 建築年 ------\n",
    "def convert_wareki_to_seireki(wareki):\n",
    "    if wareki == wareki:\n",
    "        # convert 戦前\n",
    "        if wareki == \"戦前\":\n",
    "            wareki = \"昭和20年\"\n",
    "            \n",
    "        # storing number\n",
    "        value = wareki[2:-1]\n",
    "        \n",
    "        if value == \"元\":\n",
    "            value = 1\n",
    "        else:\n",
    "            value = int(value)\n",
    "        \n",
    "        # convert 元号\n",
    "        if \"昭和\" in wareki:\n",
    "            seireki = 1925 + value\n",
    "        elif \"平成\" in wareki:\n",
    "            seireki = 1988 + value\n",
    "        elif \"令和\" in wareki:\n",
    "            seireki = 2018 + value    \n",
    "    else:\n",
    "        seireki = wareki\n",
    "    return seireki"
   ]
  },
  {
   "cell_type": "markdown",
   "id": "07d6ecfb-7b7f-43b6-9fe6-b1206afe30ca",
   "metadata": {},
   "source": [
    "# 特徴エンジニアリング"
   ]
  },
  {
   "cell_type": "code",
   "execution_count": 3,
   "id": "404bf6a4-6caf-43ac-b719-7a2f8ab02baa",
   "metadata": {},
   "outputs": [],
   "source": [
    "# Basic feature enginnering\n",
    "\n",
    "# ------ 面積（㎡） ------\n",
    "df[\"面積（㎡）\"] = df[\"面積（㎡）\"].replace(\"2000㎡以上\", \"2000\").astype(int)\n",
    "\n",
    "# ------ 建築年 ------ datatype: int\n",
    "df[\"建築年\"] = df[\"建築年\"].apply(lambda x: convert_wareki_to_seireki(x))\n",
    "\n",
    "# ------ 最寄駅：距離（分） ------\n",
    "df[\"最寄駅：距離（分）\"] = df[\"最寄駅：距離（分）\"].replace([\"30分?60分\",\"1H?1H30\",\"1H30?2H\", \"2H?\"], [\"45\",\"75\",\"105\",\"120\"])\n",
    "\n",
    "# ------ 市区町村コード ------\n",
    "df[\"市区町村コード\"] = df[\"市区町村コード\"].astype(\"category\")\n",
    "\n",
    "# --------------------------------------------------------\n",
    "# 取引時点  ---  取引時点_enc\n",
    "\n",
    "enc_dic = {}\n",
    "\n",
    "for i, e in enumerate(sorted(list(set(df[\"取引時点\"])))):\n",
    "    enc_dic[e] = i\n",
    "\n",
    "df[\"取引時点_enc\"] = df[\"取引時点\"].map(enc_dic)"
   ]
  },
  {
   "cell_type": "code",
   "execution_count": 4,
   "id": "d64e9814-53cb-4882-a959-349be8eb462b",
   "metadata": {},
   "outputs": [
    {
     "data": {
      "text/plain": [
       "ID                   0\n",
       "種類                   0\n",
       "地域              758115\n",
       "市区町村コード              0\n",
       "都道府県名                0\n",
       "市区町村名                0\n",
       "地区名                671\n",
       "最寄駅：名称            2752\n",
       "最寄駅：距離（分）        23178\n",
       "間取り              27916\n",
       "面積（㎡）                0\n",
       "土地の形状           758115\n",
       "間口              758115\n",
       "延床面積（㎡）         758115\n",
       "建築年              22108\n",
       "建物の構造            21221\n",
       "用途               80518\n",
       "今後の利用目的         367504\n",
       "前面道路：方位         758115\n",
       "前面道路：種類         758115\n",
       "前面道路：幅員（ｍ）      758115\n",
       "都市計画             20328\n",
       "建ぺい率（％）          24861\n",
       "容積率（％）           24861\n",
       "取引時点                 0\n",
       "改装               73123\n",
       "取引の事情等          738867\n",
       "取引価格（総額）_log     21405\n",
       "取引時点_enc             0\n",
       "dtype: int64"
      ]
     },
     "execution_count": 4,
     "metadata": {},
     "output_type": "execute_result"
    }
   ],
   "source": [
    "df.isnull().sum()"
   ]
  },
  {
   "cell_type": "code",
   "execution_count": 5,
   "id": "b59ffd2e-09b0-498a-b3f2-6e7c4e3286b4",
   "metadata": {},
   "outputs": [
    {
     "data": {
      "text/plain": [
       "ID                 int64\n",
       "種類                object\n",
       "地域               float64\n",
       "市区町村コード         category\n",
       "都道府県名             object\n",
       "市区町村名             object\n",
       "地区名               object\n",
       "最寄駅：名称            object\n",
       "最寄駅：距離（分）         object\n",
       "間取り               object\n",
       "面積（㎡）              int64\n",
       "土地の形状            float64\n",
       "間口               float64\n",
       "延床面積（㎡）          float64\n",
       "建築年              float64\n",
       "建物の構造             object\n",
       "用途                object\n",
       "今後の利用目的           object\n",
       "前面道路：方位          float64\n",
       "前面道路：種類          float64\n",
       "前面道路：幅員（ｍ）       float64\n",
       "都市計画              object\n",
       "建ぺい率（％）          float64\n",
       "容積率（％）           float64\n",
       "取引時点              object\n",
       "改装                object\n",
       "取引の事情等            object\n",
       "取引価格（総額）_log     float16\n",
       "取引時点_enc           int64\n",
       "dtype: object"
      ]
     },
     "execution_count": 5,
     "metadata": {},
     "output_type": "execute_result"
    }
   ],
   "source": [
    "df.dtypes"
   ]
  },
  {
   "cell_type": "code",
   "execution_count": 9,
   "id": "433e8bb9-db97-427d-8723-72b32d5c6020",
   "metadata": {},
   "outputs": [],
   "source": [
    "# 15\n",
    "features = [\"都道府県名\",\"面積（㎡）\",\"建築年\",\"最寄駅：距離（分）\",\"最寄駅：名称\",\"市区町村コード\",\n",
    "            \"地区名\",\"間取り\",\"建物の構造\",\"用途\",\"今後の利用目的\",\"都市計画\",\"改装\",\n",
    "             \"取引の事情等\",\"取引時点_enc\"]\n",
    "\n",
    "train = df.iloc[:len(train)].copy()\n",
    "test  = df.iloc[len(train):].copy()\n",
    "\n",
    "x_train = train[features]\n",
    "y_train = train[[\"取引価格（総額）_log\"]]\n",
    "\n",
    "x_test  = test[features]\n",
    "\n",
    "# if you want to use to change the type of data--------------------------------------------------------\n",
    "\n",
    "# for col in df.columns:\n",
    "#     if df[col].dtype == \"O\":\n",
    "#         df[col] = df[col].astype(\"category\")"
   ]
  },
  {
   "cell_type": "code",
   "execution_count": 67,
   "id": "614577ff-20af-4da6-bcf9-9738e2266134",
   "metadata": {},
   "outputs": [
    {
     "data": {
      "text/plain": [
       "都道府県名              object\n",
       "面積（㎡）               int64\n",
       "建築年               float64\n",
       "最寄駅：距離（分）           int64\n",
       "最寄駅：名称           category\n",
       "市区町村コード          category\n",
       "地区名                object\n",
       "間取り                object\n",
       "建物の構造              object\n",
       "用途                 object\n",
       "今後の利用目的            object\n",
       "都市計画               object\n",
       "改装                 object\n",
       "取引の事情等             object\n",
       "取引時点_enc            int64\n",
       "取引価格（総額）_log      float16\n",
       "最寄駅：名称_enc          int64\n",
       "取引価格（総額）          float16\n",
       "最寄駅：名称_target     float64\n",
       "市区町村コード_enc         int64\n",
       "市区町村_target       float64\n",
       "地区名_enc             int64\n",
       "地区名_target        float16\n",
       "間取り_enc             int64\n",
       "建物の構造_enc           int64\n",
       "dtype: object"
      ]
     },
     "execution_count": 67,
     "metadata": {},
     "output_type": "execute_result"
    }
   ],
   "source": [
    "x_train.dtypes"
   ]
  },
  {
   "cell_type": "code",
   "execution_count": 72,
   "id": "07476d03-cd64-45af-82b7-aecf6331cc5a",
   "metadata": {},
   "outputs": [
    {
     "data": {
      "text/plain": [
       "都道府県名                 0\n",
       "面積（㎡）                 0\n",
       "建築年                   0\n",
       "最寄駅：距離（分）             0\n",
       "最寄駅：名称                0\n",
       "市区町村コード               0\n",
       "地区名                   0\n",
       "間取り                   0\n",
       "建物の構造                 0\n",
       "用途                    0\n",
       "今後の利用目的               0\n",
       "都市計画              18440\n",
       "改装                69339\n",
       "取引の事情等           715116\n",
       "取引時点_enc              0\n",
       "取引価格（総額）_log          0\n",
       "最寄駅：名称_enc            0\n",
       "取引価格（総額）              0\n",
       "最寄駅：名称_target         0\n",
       "市区町村コード_enc           0\n",
       "市区町村_target           0\n",
       "地区名_enc               0\n",
       "地区名_target            0\n",
       "間取り_enc               0\n",
       "建物の構造_enc             0\n",
       "用途_enc                0\n",
       "今後の利用目的_enc           0\n",
       "dtype: int64"
      ]
     },
     "execution_count": 72,
     "metadata": {},
     "output_type": "execute_result"
    }
   ],
   "source": [
    "x_train.isnull().sum()"
   ]
  },
  {
   "cell_type": "code",
   "execution_count": 12,
   "id": "aaf157a2-86e2-49b4-87ec-78d3d0fb8489",
   "metadata": {},
   "outputs": [
    {
     "data": {
      "text/html": [
       "<div>\n",
       "<style scoped>\n",
       "    .dataframe tbody tr th:only-of-type {\n",
       "        vertical-align: middle;\n",
       "    }\n",
       "\n",
       "    .dataframe tbody tr th {\n",
       "        vertical-align: top;\n",
       "    }\n",
       "\n",
       "    .dataframe thead th {\n",
       "        text-align: right;\n",
       "    }\n",
       "</style>\n",
       "<table border=\"1\" class=\"dataframe\">\n",
       "  <thead>\n",
       "    <tr style=\"text-align: right;\">\n",
       "      <th></th>\n",
       "      <th>面積（㎡）</th>\n",
       "      <th>建築年</th>\n",
       "      <th>取引時点_enc</th>\n",
       "      <th>取引価格（総額）_log</th>\n",
       "    </tr>\n",
       "  </thead>\n",
       "  <tbody>\n",
       "    <tr>\n",
       "      <th>面積（㎡）</th>\n",
       "      <td>1.000000</td>\n",
       "      <td>0.052178</td>\n",
       "      <td>-0.017275</td>\n",
       "      <td>0.368999</td>\n",
       "    </tr>\n",
       "    <tr>\n",
       "      <th>建築年</th>\n",
       "      <td>0.052178</td>\n",
       "      <td>1.000000</td>\n",
       "      <td>0.136947</td>\n",
       "      <td>0.540332</td>\n",
       "    </tr>\n",
       "    <tr>\n",
       "      <th>取引時点_enc</th>\n",
       "      <td>-0.017275</td>\n",
       "      <td>0.136947</td>\n",
       "      <td>1.000000</td>\n",
       "      <td>0.110127</td>\n",
       "    </tr>\n",
       "    <tr>\n",
       "      <th>取引価格（総額）_log</th>\n",
       "      <td>0.368999</td>\n",
       "      <td>0.540332</td>\n",
       "      <td>0.110127</td>\n",
       "      <td>1.000000</td>\n",
       "    </tr>\n",
       "  </tbody>\n",
       "</table>\n",
       "</div>"
      ],
      "text/plain": [
       "                 面積（㎡）       建築年  取引時点_enc  取引価格（総額）_log\n",
       "面積（㎡）         1.000000  0.052178 -0.017275      0.368999\n",
       "建築年           0.052178  1.000000  0.136947      0.540332\n",
       "取引時点_enc     -0.017275  0.136947  1.000000      0.110127\n",
       "取引価格（総額）_log  0.368999  0.540332  0.110127      1.000000"
      ]
     },
     "execution_count": 12,
     "metadata": {},
     "output_type": "execute_result"
    }
   ],
   "source": [
    "pd.concat([x_train, y_train], axis=1).corr()"
   ]
  },
  {
   "cell_type": "markdown",
   "id": "12a7a305-a52c-41db-8f2c-910bb0311105",
   "metadata": {},
   "source": [
    "# 建築年"
   ]
  },
  {
   "cell_type": "code",
   "execution_count": 22,
   "id": "62953380-6fcb-4b33-a61e-1a6d16ed978a",
   "metadata": {},
   "outputs": [],
   "source": [
    "# remove null\n",
    "median = df.groupby(\"市区町村コード\")[\"建築年\"].agg([\"median\"]).reset_index()\n",
    "\n",
    "x_train  = pd.merge(x_train, median, on=\"市区町村コード\", how=\"left\")\n",
    "x_test   = pd.merge(x_test, median, on=\"市区町村コード\", how=\"left\")\n",
    "\n",
    "x_train.loc[x_train[\"建築年\"].isnull(), \"建築年\"] = x_train[\"median\"]\n",
    "x_test.loc[x_test[\"建築年\"].isnull(), \"建築年\"] = x_test[\"median\"]\n",
    "\n",
    "# 1つ 福岡県のデータが nan のため、大体の県平均で補完\n",
    "x_train.loc[x_train[\"建築年\"].isnull(), \"建築年\"] = 1995.0\n",
    "\n",
    "del x_train[\"median\"]\n",
    "del x_test[\"median\"]\n",
    "del median"
   ]
  },
  {
   "cell_type": "markdown",
   "id": "dbb0fd1d-6944-4be3-95a7-6261f656b9cc",
   "metadata": {},
   "source": [
    "# 最寄駅：距離（分）"
   ]
  },
  {
   "cell_type": "code",
   "execution_count": 60,
   "id": "ee7b5f97-650e-4b82-8b31-02d89abe12e8",
   "metadata": {},
   "outputs": [],
   "source": [
    "# remove null\n",
    "\n",
    "data = df[~df[\"最寄駅：距離（分）\"].isnull()]\n",
    "data[\"最寄駅：距離（分）\"] = data[\"最寄駅：距離（分）\"].astype(int)\n",
    "\n",
    "dis_station  = data.groupby(\"最寄駅：名称\")[\"最寄駅：距離（分）\"].agg([\"mean\"]).reset_index()\n",
    "dis_areaname = data.groupby(\"市区町村名\")[\"最寄駅：距離（分）\"].agg([\"mean\"]).reset_index()\n",
    "dis_district = data.groupby(\"地区名\")[\"最寄駅：距離（分）\"].agg([\"mean\"]).reset_index()\n",
    "dis_cityplan = data.groupby(\"都市計画\")[\"最寄駅：距離（分）\"].agg([\"mean\"]).reset_index()\n",
    "dis_usage    = data.groupby(\"用途\")[\"最寄駅：距離（分）\"].agg([\"mean\"]).reset_index()\n",
    "\n",
    "\n",
    "train = pd.merge(train, dis_station, on=\"最寄駅：名称\", how=\"left\").rename(columns={\"mean\":\"最寄駅_mean\"})\n",
    "test  = pd.merge(test, dis_station, on=\"最寄駅：名称\", how=\"left\").rename(columns={\"mean\":\"最寄駅_mean\"})\n",
    "\n",
    "train = pd.merge(train, dis_areaname, on=\"市区町村名\", how=\"left\").rename(columns={\"mean\":\"市区町村_mean\"})\n",
    "test  = pd.merge(test, dis_areaname, on=\"市区町村名\", how=\"left\").rename(columns={\"mean\":\"市区町村_mean\"})\n",
    "\n",
    "train = pd.merge(train, dis_district, on=\"地区名\", how=\"left\").rename(columns={\"mean\":\"地区_mean\"})\n",
    "test  = pd.merge(test, dis_district, on=\"地区名\", how=\"left\").rename(columns={\"mean\":\"地区_mean\"})\n",
    "\n",
    "train = pd.merge(train, dis_cityplan, on=\"都市計画\", how=\"left\").rename(columns={\"mean\":\"都市計画_mean\"})\n",
    "test  = pd.merge(test, dis_cityplan, on=\"都市計画\", how=\"left\").rename(columns={\"mean\":\"都市計画_mean\"})\n",
    "\n",
    "train = pd.merge(train, dis_usage, on=\"用途\", how=\"left\").rename(columns={\"mean\":\"用途_mean\"})\n",
    "test  = pd.merge(test, dis_usage, on=\"用途\", how=\"left\").rename(columns={\"mean\":\"用途_mean\"})\n",
    "\n",
    "\n",
    "x_train.loc[x_train[\"最寄駅：距離（分）\"].isnull(), \"最寄駅：距離（分）\"] = train[\"最寄駅_mean\"]\n",
    "x_train.loc[x_train[\"最寄駅：距離（分）\"].isnull(), \"最寄駅：距離（分）\"] = train[\"市区町村_mean\"]\n",
    "x_train.loc[x_train[\"最寄駅：距離（分）\"].isnull(), \"最寄駅：距離（分）\"] = train[\"地区_mean\"]\n",
    "x_train.loc[x_train[\"最寄駅：距離（分）\"].isnull(), \"最寄駅：距離（分）\"] = train[\"都市計画_mean\"]\n",
    "x_train.loc[x_train[\"最寄駅：距離（分）\"].isnull(), \"最寄駅：距離（分）\"] = train[\"用途_mean\"]\n",
    "\n",
    "x_test.loc[x_test[\"最寄駅：距離（分）\"].isnull(), \"最寄駅：距離（分）\"] = test[\"最寄駅_mean\"]\n",
    "x_test.loc[x_test[\"最寄駅：距離（分）\"].isnull(), \"最寄駅：距離（分）\"] = test[\"市区町村_mean\"]\n",
    "x_test.loc[x_test[\"最寄駅：距離（分）\"].isnull(), \"最寄駅：距離（分）\"] = test[\"地区_mean\"]\n",
    "x_test.loc[x_test[\"最寄駅：距離（分）\"].isnull(), \"最寄駅：距離（分）\"] = test[\"都市計画_mean\"]\n",
    "x_test.loc[x_test[\"最寄駅：距離（分）\"].isnull(), \"最寄駅：距離（分）\"] = test[\"用途_mean\"]\n",
    "\n",
    "x_train[\"最寄駅：距離（分）\"] = x_train[\"最寄駅：距離（分）\"].astype(int)\n",
    "x_test[\"最寄駅：距離（分）\"]  = x_test[\"最寄駅：距離（分）\"].astype(int)\n",
    "\n",
    "del data, dis_station, dis_areaname, dis_district, dis_cityplan, dis_usage \n",
    "\n",
    "target = x_train.groupby(\"最寄駅：距離（分）\")[\"取引価格（総額）\"].mean()\n",
    "x_train[\"最寄駅：距離（分）_target\"] = x_train[\"最寄駅：距離（分）\"].map(target)\n",
    "x_test[\"最寄駅：距離（分）_target\"] = x_test[\"最寄駅：距離（分）\"].map(target)\n",
    "\n",
    "del target\n",
    "\n",
    "print(x_train.isnull().sum())\n",
    "print()\n",
    "print(x_test.isnull().sum())"
   ]
  },
  {
   "cell_type": "markdown",
   "id": "bbe1b214-0e10-4fbd-9f41-67f7de99f275",
   "metadata": {},
   "source": [
    "# 最寄駅：名称"
   ]
  },
  {
   "cell_type": "code",
   "execution_count": 39,
   "id": "42a090d1-1ec5-43dd-8432-95fbf860b58f",
   "metadata": {},
   "outputs": [],
   "source": [
    "# concat target\n",
    "x_train = pd.concat([x_train, y_train], axis=1)\n",
    "\n",
    "# remove the nulldata\n",
    "x_train = x_train[~x_train[\"最寄駅：名称\"].isnull()].reset_index(drop=True)\n",
    "\n",
    "# remove null\n",
    "x_test.iloc[21267, 4] = \"別府大学\"\n",
    "x_test.iloc[21385, 4] = \"美栄橋\" \n",
    "x_test.iloc[21389, 4] = \"奥武山公園\"\n",
    "x_test.iloc[21394, 4] = \"金沢\"\n",
    "x_test.iloc[21397, 4] = \"安里\"\n",
    "x_test.iloc[21399, 4] = \"浦添前田\"\n",
    "x_test.iloc[21400, 4] = \"コザ\"\n",
    "x_test.iloc[21401, 4] = \"大里\"\n",
    "x_test.iloc[21402, 4] = \"コザ\"\n",
    "x_test.iloc[21403, 4] = \"比屋根\"\n",
    "x_test.iloc[21404, 4] = \"与儀\""
   ]
  },
  {
   "cell_type": "code",
   "execution_count": 91,
   "id": "a6263dd4-fe51-4624-90e2-26563e462494",
   "metadata": {},
   "outputs": [],
   "source": [
    "# from sklearn.preprocessing import LabelEncoder\n",
    "\n",
    "# a = list(x_train[\"最寄駅：名称\"].unique())\n",
    "# b = list(x_test[\"最寄駅：名称\"].unique())\n",
    "\n",
    "# le = LabelEncoder()\n",
    "# le.fit(a+b)\n",
    "# print(le.classes_.shape)\n",
    "\n",
    "# x_train[\"最寄駅：名称_enc\"] = le.transform(x_train[\"最寄駅：名称\"])\n",
    "# x_test[\"最寄駅：名称_enc\"] = le.transform(x_test[\"最寄駅：名称\"])\n",
    "\n",
    "# # convert the type of data to category\n",
    "# x_train[\"最寄駅：名称\"] = x_train[\"最寄駅：名称\"].astype(\"category\")\n",
    "# x_test[\"最寄駅：名称\"] = x_test[\"最寄駅：名称\"].astype(\"category\")\n",
    "\n",
    "# -------- target endocing \n",
    "x_train[\"取引価格（総額）\"] = np.exp(x_train[\"取引価格（総額）_log\"])\n",
    "target = x_train.groupby(\"最寄駅：名称\")[\"取引価格（総額）\"].mean()\n",
    "\n",
    "x_train[\"最寄駅：名称_target\"] = x_train[\"最寄駅：名称\"].map(target)\n",
    "x_test[\"最寄駅：名称_target\"] = x_test[\"最寄駅：名称\"].map(target)\n",
    "\n",
    "x_test[\"最寄駅：名称_target\"].iloc[[1325]] = 1264.0\n",
    "x_test[\"最寄駅：名称_target\"].iloc[[15935]] = 1320.0\n",
    "x_test[\"最寄駅：名称_target\"].iloc[[19837]] = 1275.0\n",
    "x_test.iloc[21400:21405][\"最寄駅：名称_target\"] = 1174.0\n",
    "\n",
    "# del target"
   ]
  },
  {
   "cell_type": "code",
   "execution_count": null,
   "id": "a7907ea3-347f-4791-963b-745dea387dd2",
   "metadata": {},
   "outputs": [],
   "source": [
    "# 市区町村_target       5\n",
    "# 地区名_target       30"
   ]
  },
  {
   "cell_type": "markdown",
   "id": "f190c36b-4404-4f12-b744-b3428a34f4eb",
   "metadata": {},
   "source": [
    "# 市区町村コード（市区町村名も同じユニーク数）"
   ]
  },
  {
   "cell_type": "code",
   "execution_count": 44,
   "id": "842a1b32-2e32-4531-b2f4-f6aec877869f",
   "metadata": {},
   "outputs": [
    {
     "name": "stdout",
     "output_type": "stream",
     "text": [
      "(615,)\n"
     ]
    }
   ],
   "source": [
    "# label encode\n",
    "le = LabelEncoder()\n",
    "le.fit(list(x_train[\"市区町村コード\"])+list(x_test[\"市区町村コード\"]))\n",
    "print(le.classes_.shape)\n",
    "\n",
    "x_train[\"市区町村コード_enc\"] = le.transform(x_train[\"市区町村コード\"]).astype(int)\n",
    "x_test[\"市区町村コード_enc\"] = le.transform(x_test[\"市区町村コード\"]).astype(int)\n",
    "\n",
    "# target encode\n",
    "target = x_train.groupby(\"市区町村コード\")[\"取引価格（総額）\"].mean()\n",
    "x_train[\"市区町村_target\"] = x_train[\"市区町村コード\"].map(target)\n",
    "x_test[\"市区町村_target\"] = x_test[\"市区町村コード\"].map(target)\n",
    "\n",
    "x_test[\"市区町村_target\"].fillna(1502.0, inplace=True)\n",
    "\n",
    "del target"
   ]
  },
  {
   "cell_type": "markdown",
   "id": "1167ad5d-6694-4e1a-b08f-e79767a03bed",
   "metadata": {},
   "source": [
    "# 地区名"
   ]
  },
  {
   "cell_type": "code",
   "execution_count": 48,
   "id": "58a10685-de7b-4e24-8c0d-73b94ef2f2dc",
   "metadata": {},
   "outputs": [
    {
     "name": "stdout",
     "output_type": "stream",
     "text": [
      "(12222,)\n"
     ]
    }
   ],
   "source": [
    "# fill na\n",
    "x_train[\"地区名\"] = x_train[\"地区名\"].fillna(x_train[\"最寄駅：名称\"])\n",
    "x_test.loc[x_test[\"地区名\"].isnull(), \"地区名\"] = \"鶴見\"\n",
    "\n",
    "# label encode\n",
    "le = LabelEncoder()\n",
    "le.fit(list(x_train[\"地区名\"])+list(x_test[\"地区名\"]))\n",
    "print(le.classes_.shape)\n",
    "\n",
    "x_train[\"地区名_enc\"] = le.transform(x_train[\"地区名\"]).astype(int)\n",
    "x_test[\"地区名_enc\"] = le.transform(x_test[\"地区名\"]).astype(int)\n",
    "\n",
    "# convert the type of data to category\n",
    "x_train[\"最寄駅：名称\"] = x_train[\"最寄駅：名称\"].astype(\"category\")\n",
    "x_test[\"最寄駅：名称\"] = x_test[\"最寄駅：名称\"].astype(\"category\")\n",
    "\n",
    "# target encode\n",
    "x_train[\"取引価格（総額）\"] = np.exp(x_train[\"取引価格（総額）_log\"])\n",
    "target = x_train.groupby(\"地区名\")[\"取引価格（総額）\"].mean()\n",
    "\n",
    "x_train[\"地区名_target\"] = x_train[\"地区名\"].map(target)\n",
    "x_test[\"地区名_target\"] = x_test[\"地区名\"].map(target)\n",
    "\n",
    "x_test[\"地区名_target\"].iloc[2258:2261] = 1268.0\n",
    "x_test[\"地区名_target\"].iloc[12783] = 1128.0\n",
    "x_test[\"地区名_target\"].fillna(1200.0, inplace=True)\n",
    "\n",
    "del target"
   ]
  },
  {
   "cell_type": "markdown",
   "id": "704c100f-36b3-4ae2-b997-a023b2ed4134",
   "metadata": {},
   "source": [
    "# 間取り"
   ]
  },
  {
   "cell_type": "code",
   "execution_count": 56,
   "id": "e7f1923d-c9f6-46e9-b6db-e2fadf8b83e1",
   "metadata": {},
   "outputs": [
    {
     "name": "stdout",
     "output_type": "stream",
     "text": [
      "(67,)\n"
     ]
    }
   ],
   "source": [
    "x_train[\"間取り\"].fillna(\"missing\", inplace=True)\n",
    "x_test[\"間取り\"].fillna(\"missing\", inplace=True)\n",
    "\n",
    "# label encode\n",
    "le = LabelEncoder()\n",
    "le.fit(list(x_train[\"間取り\"])+list(x_test[\"間取り\"]))\n",
    "print(le.classes_.shape)\n",
    "\n",
    "x_train[\"間取り_enc\"] = le.transform(x_train[\"間取り\"]).astype(int)\n",
    "x_test[\"間取り_enc\"] = le.transform(x_test[\"間取り\"]).astype(int)\n",
    "\n",
    "# convert the type of data to category\n",
    "x_train[\"間取り\"] = x_train[\"間取り\"].astype(\"category\")\n",
    "x_test[\"間取り\"] = x_test[\"間取り\"].astype(\"category\")"
   ]
  },
  {
   "cell_type": "markdown",
   "id": "fb43b63b-9c00-47cc-b992-5d82026d20fb",
   "metadata": {},
   "source": [
    "# 建物の構造"
   ]
  },
  {
   "cell_type": "code",
   "execution_count": 58,
   "id": "198887e2-0ff0-4a06-9775-37b746f0eaec",
   "metadata": {},
   "outputs": [],
   "source": [
    "x_train[\"建物の構造\"].fillna(\"missing\", inplace=True)\n",
    "x_test[\"建物の構造\"].fillna(\"missing\", inplace=True)\n",
    "\n",
    "# label encode\n",
    "le = LabelEncoder()\n",
    "le.fit(list(x_train[\"建物の構造\"])+list(x_test[\"建物の構造\"]))\n",
    "print(le.classes_.shape)\n",
    "\n",
    "x_train[\"建物の構造_enc\"] = le.transform(x_train[\"建物の構造\"]).astype(int)\n",
    "x_test[\"建物の構造_enc\"] = le.transform(x_test[\"建物の構造\"]).astype(int)\n",
    "\n",
    "# convert the type of data to category\n",
    "x_train[\"建物の構造\"] = x_train[\"建物の構造\"].astype(\"category\")\n",
    "x_test[\"建物の構造\"] = x_test[\"建物の構造\"].astype(\"category\")"
   ]
  },
  {
   "cell_type": "markdown",
   "id": "a28936bd-45b7-4d7c-9199-384634f3e7f2",
   "metadata": {},
   "source": [
    "# 用途"
   ]
  },
  {
   "cell_type": "code",
   "execution_count": 70,
   "id": "39bcc772-ebe9-4405-b8af-8e0ddb5e7491",
   "metadata": {},
   "outputs": [
    {
     "name": "stdout",
     "output_type": "stream",
     "text": [
      "(24,)\n"
     ]
    }
   ],
   "source": [
    "x_train[\"用途\"].fillna(\"missing\", inplace=True)\n",
    "x_test[\"用途\"].fillna(\"missing\", inplace=True)\n",
    "\n",
    "# label encode\n",
    "le = LabelEncoder()\n",
    "le.fit(list(x_train[\"用途\"])+list(x_test[\"用途\"]))\n",
    "print(le.classes_.shape)\n",
    "\n",
    "x_train[\"用途_enc\"] = le.transform(x_train[\"用途\"]).astype(int)\n",
    "x_test[\"用途_enc\"] = le.transform(x_test[\"用途\"]).astype(int)\n",
    "\n",
    "# convert the type of data to category\n",
    "x_train[\"用途\"] = x_train[\"用途\"].astype(\"category\")\n",
    "x_test[\"用途\"] = x_test[\"用途\"].astype(\"category\")"
   ]
  },
  {
   "cell_type": "markdown",
   "id": "10aec436-3c64-4603-bfff-87382ce23ac9",
   "metadata": {},
   "source": [
    "# 今後の利用目的"
   ]
  },
  {
   "cell_type": "code",
   "execution_count": 71,
   "id": "cf2d8d7a-0e66-4d30-b83f-6de843825e29",
   "metadata": {},
   "outputs": [
    {
     "name": "stdout",
     "output_type": "stream",
     "text": [
      "(9,)\n"
     ]
    }
   ],
   "source": [
    "# オープンフロア　（店舗／事務所）\n",
    "# train data\n",
    "x_train[\"今後の利用目的\"][(x_train[\"間取り\"] == \"オープンフロア\") & (x_train[\"今後の利用目的\"].isnull())] = x_train[\"今後の利用目的\"].value_counts().index[2] + \"/\" + x_train[\"今後の利用目的\"].value_counts().index[3]\n",
    "x_train[\"今後の利用目的\"][(x_train[\"間取り\"] == \"１Ｋ\") & (x_train[\"今後の利用目的\"].isnull())] = x_train[\"今後の利用目的\"].value_counts().index[0] + \"/\" + x_train[\"今後の利用目的\"].value_counts().index[1]\n",
    "x_train[\"今後の利用目的\"][(x_train[\"間取り\"] == \"１ＬＤＫ\") & (x_train[\"今後の利用目的\"].isnull())] = x_train[\"今後の利用目的\"].value_counts().index[0] + \"/\" + x_train[\"今後の利用目的\"].value_counts().index[1]\n",
    "x_train[\"今後の利用目的\"][(x_train[\"間取り\"] == \"missing\") & (x_train[\"今後の利用目的\"].isnull())] = x_train[\"今後の利用目的\"].value_counts().index[0] + \"/\" + x_train[\"今後の利用目的\"].value_counts().index[1]\n",
    "x_train[\"今後の利用目的\"][(x_train[\"間取り\"] == \"２ＤＫ\") & (x_train[\"今後の利用目的\"].isnull())] = x_train[\"今後の利用目的\"].value_counts().index[0] + \"/\" + x_train[\"今後の利用目的\"].value_counts().index[1]\n",
    "x_train[\"今後の利用目的\"][(x_train[\"間取り\"] == \"１ＤＫ\") & (x_train[\"今後の利用目的\"].isnull())] = x_train[\"今後の利用目的\"].value_counts().index[0] + \"/\" + x_train[\"今後の利用目的\"].value_counts().index[1]\n",
    "x_train[\"今後の利用目的\"][(x_train[\"間取り\"] == \"１Ｒ\") & (x_train[\"今後の利用目的\"].isnull())] = x_train[\"今後の利用目的\"].value_counts().index[0] + \"/\" + x_train[\"今後の利用目的\"].value_counts().index[1]\n",
    "x_train[\"今後の利用目的\"][(x_train[\"間取り\"] == \"２Ｋ\") & (x_train[\"今後の利用目的\"].isnull())] = x_train[\"今後の利用目的\"].value_counts().index[0] + \"/\" + x_train[\"今後の利用目的\"].value_counts().index[1]\n",
    "\n",
    "# test data\n",
    "x_test[\"今後の利用目的\"][(x_test[\"間取り\"] == \"オープンフロア\") & (x_test[\"今後の利用目的\"].isnull())] = x_train[\"今後の利用目的\"].value_counts().index[2] + \"/\" + x_train[\"今後の利用目的\"].value_counts().index[3]\n",
    "x_test[\"今後の利用目的\"][(x_test[\"間取り\"] == \"１Ｋ\") & (x_test[\"今後の利用目的\"].isnull())] = x_train[\"今後の利用目的\"].value_counts().index[0] + \"/\" + x_train[\"今後の利用目的\"].value_counts().index[1]\n",
    "x_test[\"今後の利用目的\"][(x_test[\"間取り\"] == \"１ＬＤＫ\") & (x_test[\"今後の利用目的\"].isnull())] = x_train[\"今後の利用目的\"].value_counts().index[0] + \"/\" + x_train[\"今後の利用目的\"].value_counts().index[1]\n",
    "x_test[\"今後の利用目的\"][(x_test[\"間取り\"] == \"missing\") & (x_test[\"今後の利用目的\"].isnull())] = x_train[\"今後の利用目的\"].value_counts().index[0] + \"/\" + x_train[\"今後の利用目的\"].value_counts().index[1]\n",
    "x_test[\"今後の利用目的\"][(x_test[\"間取り\"] == \"２ＤＫ\") & (x_test[\"今後の利用目的\"].isnull())] = x_train[\"今後の利用目的\"].value_counts().index[0] + \"/\" + x_train[\"今後の利用目的\"].value_counts().index[1]\n",
    "x_test[\"今後の利用目的\"][(x_test[\"間取り\"] == \"１ＤＫ\") & (x_test[\"今後の利用目的\"].isnull())] = x_train[\"今後の利用目的\"].value_counts().index[0] + \"/\" + x_train[\"今後の利用目的\"].value_counts().index[1]\n",
    "x_test[\"今後の利用目的\"][(x_test[\"間取り\"] == \"１Ｒ\") & (x_test[\"今後の利用目的\"].isnull())] = x_train[\"今後の利用目的\"].value_counts().index[0] + \"/\" + x_train[\"今後の利用目的\"].value_counts().index[1]\n",
    "x_test[\"今後の利用目的\"][(x_test[\"間取り\"] == \"２Ｋ\") & (x_test[\"今後の利用目的\"].isnull())] = x_train[\"今後の利用目的\"].value_counts().index[0] + \"/\" + x_train[\"今後の利用目的\"].value_counts().index[1]\n",
    "\n",
    "x_train[\"今後の利用目的\"].fillna(x_train[\"今後の利用目的\"].value_counts().index[0], inplace=True)\n",
    "x_test[\"今後の利用目的\"].fillna(x_train[\"今後の利用目的\"].value_counts().index[0], inplace=True)\n",
    "\n",
    "# label encode\n",
    "le = LabelEncoder()\n",
    "le.fit(list(x_train[\"今後の利用目的\"])+list(x_test[\"今後の利用目的\"]))\n",
    "print(le.classes_.shape)\n",
    "\n",
    "x_train[\"今後の利用目的_enc\"] = le.transform(x_train[\"今後の利用目的\"]).astype(int)\n",
    "x_test[\"今後の利用目的_enc\"] = le.transform(x_test[\"今後の利用目的\"]).astype(int)\n",
    "\n",
    "# convert the type of data to category\n",
    "x_train[\"今後の利用目的\"] = x_train[\"今後の利用目的\"].astype(\"category\")\n",
    "x_test[\"今後の利用目的\"] = x_test[\"今後の利用目的\"].astype(\"category\")"
   ]
  },
  {
   "cell_type": "markdown",
   "id": "8af8f85f-3f21-4a51-bd4c-a4d7d984b5d9",
   "metadata": {},
   "source": [
    "# 都市計画"
   ]
  },
  {
   "cell_type": "code",
   "execution_count": 82,
   "id": "5bc286ea-dcdd-423d-8e49-3e4fad3a79a3",
   "metadata": {},
   "outputs": [
    {
     "name": "stderr",
     "output_type": "stream",
     "text": [
      "100%|██████████| 12222/12222 [35:51<00:00,  5.68it/s] \n",
      "100%|██████████| 12222/12222 [01:35<00:00, 128.65it/s]\n"
     ]
    },
    {
     "name": "stdout",
     "output_type": "stream",
     "text": [
      "(16,)\n"
     ]
    }
   ],
   "source": [
    "from tqdm import tqdm\n",
    "\n",
    "areas = set(list(x_train[\"地区名\"].unique()) + list(x_test[\"地区名\"].unique()))\n",
    "\n",
    "# fill na\n",
    "for area in tqdm(areas):\n",
    "    if len(x_train[x_train[\"地区名\"] == area][\"都市計画\"].value_counts()) > 0:\n",
    "        x_train.loc[(x_train[\"地区名\"] == area) & (x_train[\"都市計画\"].isnull()), \"都市計画\"] = x_train[x_train[\"地区名\"] == area][\"都市計画\"].value_counts().index[0]\n",
    "    else:\n",
    "        x_train.loc[(x_train[\"地区名\"] == area) & (x_train[\"都市計画\"].isnull()), \"都市計画\"] = \"商業地域\"\n",
    "\n",
    "# fill na\n",
    "for area in tqdm(areas):\n",
    "    if len(x_test[x_test[\"地区名\"] == area][\"都市計画\"].value_counts()) > 0:\n",
    "        x_test.loc[(x_test[\"地区名\"] == area) & (x_test[\"都市計画\"].isnull()), \"都市計画\"] = x_test[x_test[\"地区名\"] == area][\"都市計画\"].value_counts().index[0]\n",
    "    else:\n",
    "        x_test.loc[(x_test[\"地区名\"] == area) & (x_test[\"都市計画\"].isnull()), \"都市計画\"] = \"商業地域\"        \n",
    "\n",
    "# label encode\n",
    "le = LabelEncoder()\n",
    "le.fit(list(x_train[\"都市計画\"])+list(x_test[\"都市計画\"]))\n",
    "print(le.classes_.shape)\n",
    "\n",
    "x_train[\"都市計画_enc\"] = le.transform(x_train[\"都市計画\"]).astype(int)\n",
    "x_test[\"都市計画_enc\"] = le.transform(x_test[\"都市計画\"]).astype(int)\n",
    "\n",
    "# convert the type of data to category\n",
    "x_train[\"都市計画\"] = x_train[\"都市計画\"].astype(\"category\")\n",
    "x_test[\"都市計画\"] = x_test[\"都市計画\"].astype(\"category\")"
   ]
  },
  {
   "cell_type": "markdown",
   "id": "6097c6eb-469e-4862-8f7d-bda40efeee59",
   "metadata": {},
   "source": [
    "# 都道府県名"
   ]
  },
  {
   "cell_type": "code",
   "execution_count": 85,
   "id": "09c8efb1-d64b-43e8-b441-52c67823ed7a",
   "metadata": {},
   "outputs": [
    {
     "name": "stdout",
     "output_type": "stream",
     "text": [
      "(47,)\n"
     ]
    }
   ],
   "source": [
    "# label encode\n",
    "le = LabelEncoder()\n",
    "le.fit(list(x_train[\"都道府県名\"])+list(x_test[\"都道府県名\"]))\n",
    "print(le.classes_.shape)\n",
    "\n",
    "x_train[\"都道府県名_enc\"] = le.transform(x_train[\"都道府県名\"]).astype(int)\n",
    "x_test[\"都道府県名_enc\"] = le.transform(x_test[\"都道府県名\"]).astype(int)\n",
    "\n",
    "# convert the type of data to category\n",
    "x_train[\"都道府県名\"] = x_train[\"都道府県名\"].astype(\"category\")\n",
    "x_test[\"都道府県名\"] = x_test[\"都道府県名\"].astype(\"category\")"
   ]
  },
  {
   "cell_type": "markdown",
   "id": "13de4cb5-0b7f-4ec6-8f2e-886e2e7dc94b",
   "metadata": {},
   "source": [
    "# 改装"
   ]
  },
  {
   "cell_type": "code",
   "execution_count": 87,
   "id": "29acd9d0-85b2-4e1a-af8e-eb0660cc87a6",
   "metadata": {},
   "outputs": [
    {
     "name": "stdout",
     "output_type": "stream",
     "text": [
      "(3,)\n"
     ]
    }
   ],
   "source": [
    "x_train[\"改装\"].fillna(\"missing\", inplace=True)\n",
    "x_test[\"改装\"].fillna(\"missing\", inplace=True)\n",
    "\n",
    "# label encode\n",
    "le = LabelEncoder()\n",
    "le.fit(list(x_train[\"改装\"])+list(x_test[\"改装\"]))\n",
    "print(le.classes_.shape)\n",
    "\n",
    "x_train[\"改装_enc\"] = le.transform(x_train[\"改装\"]).astype(int)\n",
    "x_test[\"改装_enc\"] = le.transform(x_test[\"改装\"]).astype(int)\n",
    "\n",
    "# convert the type of data to category\n",
    "x_train[\"改装\"] = x_train[\"改装\"].astype(\"category\")\n",
    "x_test[\"改装\"] = x_test[\"改装\"].astype(\"category\")"
   ]
  },
  {
   "cell_type": "markdown",
   "id": "42f9bfb8-982c-4813-b996-a4679ecf644f",
   "metadata": {},
   "source": [
    "# 取引の事情等"
   ]
  },
  {
   "cell_type": "code",
   "execution_count": 89,
   "id": "c63baa63-4104-4486-818f-6b10ebd392ea",
   "metadata": {},
   "outputs": [
    {
     "name": "stdout",
     "output_type": "stream",
     "text": [
      "(10,)\n"
     ]
    }
   ],
   "source": [
    "x_train[\"取引の事情等\"].fillna(\"missing\", inplace=True)\n",
    "x_test[\"取引の事情等\"].fillna(\"missing\", inplace=True)\n",
    "\n",
    "# label encode\n",
    "le = LabelEncoder()\n",
    "le.fit(list(x_train[\"取引の事情等\"])+list(x_test[\"取引の事情等\"]))\n",
    "print(le.classes_.shape)\n",
    "\n",
    "x_train[\"取引の事情等_enc\"] = le.transform(x_train[\"取引の事情等\"]).astype(int)\n",
    "x_test[\"取引の事情等_enc\"] = le.transform(x_test[\"取引の事情等\"]).astype(int)\n",
    "\n",
    "# convert the type of data to category\n",
    "x_train[\"取引の事情等\"] = x_train[\"取引の事情等\"].astype(\"category\")\n",
    "x_test[\"取引の事情等\"] = x_test[\"取引の事情等\"].astype(\"category\")"
   ]
  },
  {
   "cell_type": "code",
   "execution_count": null,
   "id": "fb06cdbf-9777-4589-952f-ef6cc208f7fe",
   "metadata": {},
   "outputs": [],
   "source": [
    "x_train.to_csv(\"train1.csv\", index=False)\n",
    "x_test.to_csv(\"test1.csv\", index=False)"
   ]
  },
  {
   "cell_type": "code",
   "execution_count": 188,
   "id": "7dd06757-1a32-484d-9927-203212fb89e3",
   "metadata": {},
   "outputs": [
    {
     "name": "stdout",
     "output_type": "stream",
     "text": [
      "都道府県名               0\n",
      "面積（㎡）               0\n",
      "建築年                 0\n",
      "最寄駅：距離（分）           0\n",
      "最寄駅：名称              0\n",
      "市区町村コード             0\n",
      "地区名                 0\n",
      "間取り                 0\n",
      "建物の構造               0\n",
      "用途                  0\n",
      "今後の利用目的             0\n",
      "都市計画                0\n",
      "改装                  0\n",
      "取引の事情等              0\n",
      "取引時点_enc            0\n",
      "取引価格（総額）_log        0\n",
      "最寄駅：名称_enc          0\n",
      "取引価格（総額）            0\n",
      "最寄駅：名称_target       0\n",
      "市区町村コード_enc         0\n",
      "市区町村_target         0\n",
      "地区名_enc             0\n",
      "地区名_target          0\n",
      "間取り_enc             0\n",
      "建物の構造_enc           0\n",
      "用途_enc              0\n",
      "今後の利用目的_enc         0\n",
      "都市計画_enc            0\n",
      "都道府県名_enc           0\n",
      "改装_enc              0\n",
      "取引の事情等_enc          0\n",
      "最寄駅：距離（分）_target    0\n",
      "dtype: int64\n",
      "\n",
      "都道府県名               0\n",
      "面積（㎡）               0\n",
      "建築年                 0\n",
      "最寄駅：距離（分）           0\n",
      "最寄駅：名称              0\n",
      "市区町村コード             0\n",
      "地区名                 0\n",
      "間取り                 0\n",
      "建物の構造               0\n",
      "用途                  0\n",
      "今後の利用目的             0\n",
      "都市計画                0\n",
      "改装                  0\n",
      "取引の事情等              0\n",
      "取引時点_enc            0\n",
      "最寄駅：名称_enc          0\n",
      "最寄駅：名称_target       0\n",
      "市区町村コード_enc         0\n",
      "市区町村_target         0\n",
      "地区名_enc             0\n",
      "地区名_target          0\n",
      "間取り_enc             0\n",
      "建物の構造_enc           0\n",
      "用途_enc              0\n",
      "今後の利用目的_enc         0\n",
      "都市計画_enc            0\n",
      "都道府県名_enc           0\n",
      "改装_enc              0\n",
      "取引の事情等_enc          0\n",
      "最寄駅：距離（分）_target    0\n",
      "dtype: int64\n"
     ]
    }
   ],
   "source": [
    "print(x_train.isnull().sum())\n",
    "print()\n",
    "print(x_test.isnull().sum())"
   ]
  },
  {
   "cell_type": "code",
   "execution_count": 189,
   "id": "62308919-d328-4b77-86ee-98d3c8f86a79",
   "metadata": {},
   "outputs": [
    {
     "data": {
      "text/plain": [
       "都道府県名               category\n",
       "面積（㎡）                  int64\n",
       "建築年                  float64\n",
       "最寄駅：距離（分）              int64\n",
       "最寄駅：名称              category\n",
       "市区町村コード             category\n",
       "地区名                   object\n",
       "間取り                 category\n",
       "建物の構造               category\n",
       "用途                  category\n",
       "今後の利用目的             category\n",
       "都市計画                category\n",
       "改装                  category\n",
       "取引の事情等              category\n",
       "取引時点_enc               int64\n",
       "取引価格（総額）_log         float16\n",
       "最寄駅：名称_enc             int64\n",
       "取引価格（総額）             float16\n",
       "最寄駅：名称_target        float64\n",
       "市区町村コード_enc            int64\n",
       "市区町村_target          float64\n",
       "地区名_enc                int64\n",
       "地区名_target           float16\n",
       "間取り_enc                int64\n",
       "建物の構造_enc              int64\n",
       "用途_enc                 int64\n",
       "今後の利用目的_enc            int64\n",
       "都市計画_enc               int64\n",
       "都道府県名_enc              int64\n",
       "改装_enc                 int64\n",
       "取引の事情等_enc             int64\n",
       "最寄駅：距離（分）_target     float16\n",
       "dtype: object"
      ]
     },
     "execution_count": 189,
     "metadata": {},
     "output_type": "execute_result"
    }
   ],
   "source": [
    "x_train.dtypes"
   ]
  },
  {
   "cell_type": "markdown",
   "id": "f04a8c73-1419-443b-a9e8-8b3154ec18bb",
   "metadata": {},
   "source": [
    "# LightGBM"
   ]
  },
  {
   "cell_type": "code",
   "execution_count": 209,
   "id": "04a12965-a067-45d1-9785-b9210108c0b1",
   "metadata": {},
   "outputs": [
    {
     "data": {
      "text/plain": [
       "都道府県名               category\n",
       "面積（㎡）                  int64\n",
       "建築年                  float64\n",
       "最寄駅：距離（分）              int64\n",
       "最寄駅：名称              category\n",
       "市区町村コード             category\n",
       "地区名                   object\n",
       "間取り                 category\n",
       "建物の構造               category\n",
       "用途                  category\n",
       "今後の利用目的             category\n",
       "都市計画                category\n",
       "改装                  category\n",
       "取引の事情等              category\n",
       "取引時点_enc               int64\n",
       "取引価格（総額）_log         float16\n",
       "最寄駅：名称_enc             int64\n",
       "取引価格（総額）             float16\n",
       "最寄駅：名称_target        float64\n",
       "市区町村コード_enc            int64\n",
       "市区町村_target          float64\n",
       "地区名_enc                int64\n",
       "地区名_target           float64\n",
       "間取り_enc                int64\n",
       "建物の構造_enc              int64\n",
       "用途_enc                 int64\n",
       "今後の利用目的_enc            int64\n",
       "都市計画_enc               int64\n",
       "都道府県名_enc              int64\n",
       "改装_enc                 int64\n",
       "取引の事情等_enc             int64\n",
       "最寄駅：距離（分）_target     float64\n",
       "dtype: object"
      ]
     },
     "execution_count": 209,
     "metadata": {},
     "output_type": "execute_result"
    }
   ],
   "source": [
    "x_train.dtypes"
   ]
  },
  {
   "cell_type": "code",
   "execution_count": 208,
   "id": "a37b93e5-c5f1-448a-aea1-e0dd3cf63034",
   "metadata": {},
   "outputs": [],
   "source": [
    "# 取引価格（総額）_log"
   ]
  },
  {
   "cell_type": "code",
   "execution_count": 259,
   "id": "50498834-ae53-42be-bb92-bd7567b29668",
   "metadata": {},
   "outputs": [
    {
     "name": "stdout",
     "output_type": "stream",
     "text": [
      "CPU times: user 10min 29s, sys: 9.93 s, total: 10min 39s\n",
      "Wall time: 3min 3s\n"
     ]
    },
    {
     "data": {
      "text/plain": [
       "0.07271248232889684"
      ]
     },
     "execution_count": 259,
     "metadata": {},
     "output_type": "execute_result"
    }
   ],
   "source": [
    "%%time\n",
    "\n",
    "from sklearn.model_selection import train_test_split\n",
    "import pickle\n",
    "\n",
    "# x_train[\"地区名_target\"] = x_train[\"地区名_target\"].astype(float)\n",
    "# x_train[\"最寄駅：距離（分）_target\"] = x_train[\"最寄駅：距離（分）_target\"].astype(float)\n",
    "\n",
    "y_train = x_train[\"取引価格（総額）_log\"].astype(float)\n",
    "\n",
    "remove_col = [\"最寄駅：名称\", \"市区町村コード\", \"地区名\", \"間取り\", \"建物の構造\",\n",
    "              \"用途\", \"今後の利用目的\", \"都道府県名\", \"都市計画\", \"改装\", \"取引の事情等\",\n",
    "              \"取引価格（総額）\" ,\"取引価格（総額）_log\"]\n",
    "\n",
    "cat_list = [\"最寄駅：名称_enc\", \"市区町村コード_enc\", \"地区名_enc\", \"間取り_enc\", \"建物の構造_enc\",\n",
    "            \"用途_enc\", \"今後の利用目的_enc\", \"都道府県名_enc\", \"都市計画_enc\", \"改装_enc\",\n",
    "            \"取引の事情等_enc\"]\n",
    "\n",
    "\n",
    "x_tr, x_va, y_tr, y_va = train_test_split(\n",
    "                            x_train.drop(remove_col, axis=1),\n",
    "                            y_train.values,\n",
    "                            shuffle=True,\n",
    "                            random_state=2023,\n",
    "                            test_size=0.2)\n",
    "\n",
    "import lightgbm as lgb\n",
    "\n",
    "# --- base ---\n",
    "params = {\n",
    "    \"boosting_type\"  : \"gbdt\",\n",
    "    \"objective\"      : \"regression_l1\",\n",
    "    \"metric\"         : \"mean_absolute_error\",\n",
    "    \"learning_rate\"  : 0.14235555551694776,\n",
    "    \"num_leaves\"     : 73,\n",
    "    \"n_estimators\"   : 1000,\n",
    "    \"random_state\"   : 2022,\n",
    "    \"importance_type\": \"gain\",\n",
    "}\n",
    "\n",
    "df_pred  = pd.DataFrame()\n",
    "\n",
    "model = lgb.LGBMRegressor(**params)\n",
    "model.fit(x_tr, y_tr,\n",
    "          eval_set=[(x_tr, y_tr), (x_va, y_va)],\n",
    "          categorical_feature=cat_list,\n",
    "          early_stopping_rounds=20,\n",
    "          verbose=0)\n",
    "\n",
    "with open(f\"model_lgb_.h5\", \"wb\") as f:\n",
    "    pickle.dump(model, f, protocol=4)\n",
    "\n",
    "p_va = model.predict(x_va)\n",
    "\n",
    "tmp_pred = pd.DataFrame({\"p_va_lgb\": p_va})\n",
    "df_pred  = pd.concat([df_pred, tmp_pred])\n",
    "\n",
    "mean_absolute_error(y_va, p_va)"
   ]
  },
  {
   "cell_type": "code",
   "execution_count": 260,
   "id": "9b090a2d-d43b-48e6-92c5-53a906975c30",
   "metadata": {},
   "outputs": [
    {
     "data": {
      "text/plain": [
       "0.07271248232889684"
      ]
     },
     "execution_count": 260,
     "metadata": {},
     "output_type": "execute_result"
    }
   ],
   "source": [
    "mean_absolute_error(y_va, p_va)"
   ]
  },
  {
   "cell_type": "code",
   "execution_count": 261,
   "id": "7e303613-643e-49c8-b693-537d069fffdd",
   "metadata": {},
   "outputs": [
    {
     "data": {
      "text/html": [
       "<div>\n",
       "<style scoped>\n",
       "    .dataframe tbody tr th:only-of-type {\n",
       "        vertical-align: middle;\n",
       "    }\n",
       "\n",
       "    .dataframe tbody tr th {\n",
       "        vertical-align: top;\n",
       "    }\n",
       "\n",
       "    .dataframe thead th {\n",
       "        text-align: right;\n",
       "    }\n",
       "</style>\n",
       "<table border=\"1\" class=\"dataframe\">\n",
       "  <thead>\n",
       "    <tr style=\"text-align: right;\">\n",
       "      <th></th>\n",
       "      <th>mean</th>\n",
       "    </tr>\n",
       "    <tr>\n",
       "      <th>col</th>\n",
       "      <th></th>\n",
       "    </tr>\n",
       "  </thead>\n",
       "  <tbody>\n",
       "    <tr>\n",
       "      <th>建築年</th>\n",
       "      <td>1.283310e+06</td>\n",
       "    </tr>\n",
       "    <tr>\n",
       "      <th>地区名_enc</th>\n",
       "      <td>1.029078e+06</td>\n",
       "    </tr>\n",
       "    <tr>\n",
       "      <th>最寄駅：名称_enc</th>\n",
       "      <td>7.137505e+05</td>\n",
       "    </tr>\n",
       "    <tr>\n",
       "      <th>面積（㎡）</th>\n",
       "      <td>6.264755e+05</td>\n",
       "    </tr>\n",
       "    <tr>\n",
       "      <th>市区町村コード_enc</th>\n",
       "      <td>5.392888e+05</td>\n",
       "    </tr>\n",
       "    <tr>\n",
       "      <th>地区名_target</th>\n",
       "      <td>3.307385e+05</td>\n",
       "    </tr>\n",
       "    <tr>\n",
       "      <th>取引時点_enc</th>\n",
       "      <td>2.212515e+05</td>\n",
       "    </tr>\n",
       "    <tr>\n",
       "      <th>最寄駅：名称_target</th>\n",
       "      <td>2.135758e+05</td>\n",
       "    </tr>\n",
       "    <tr>\n",
       "      <th>市区町村_target</th>\n",
       "      <td>1.135994e+05</td>\n",
       "    </tr>\n",
       "    <tr>\n",
       "      <th>改装_enc</th>\n",
       "      <td>8.204046e+04</td>\n",
       "    </tr>\n",
       "    <tr>\n",
       "      <th>都道府県名_enc</th>\n",
       "      <td>7.236851e+04</td>\n",
       "    </tr>\n",
       "    <tr>\n",
       "      <th>最寄駅：距離（分）</th>\n",
       "      <td>7.113168e+04</td>\n",
       "    </tr>\n",
       "    <tr>\n",
       "      <th>間取り_enc</th>\n",
       "      <td>6.529211e+04</td>\n",
       "    </tr>\n",
       "    <tr>\n",
       "      <th>最寄駅：距離（分）_target</th>\n",
       "      <td>3.943172e+04</td>\n",
       "    </tr>\n",
       "    <tr>\n",
       "      <th>取引の事情等_enc</th>\n",
       "      <td>3.206340e+04</td>\n",
       "    </tr>\n",
       "    <tr>\n",
       "      <th>都市計画_enc</th>\n",
       "      <td>1.815525e+04</td>\n",
       "    </tr>\n",
       "    <tr>\n",
       "      <th>今後の利用目的_enc</th>\n",
       "      <td>1.712945e+04</td>\n",
       "    </tr>\n",
       "    <tr>\n",
       "      <th>建物の構造_enc</th>\n",
       "      <td>5.461584e+03</td>\n",
       "    </tr>\n",
       "    <tr>\n",
       "      <th>用途_enc</th>\n",
       "      <td>2.881197e+03</td>\n",
       "    </tr>\n",
       "  </tbody>\n",
       "</table>\n",
       "</div>"
      ],
      "text/plain": [
       "                          mean\n",
       "col                           \n",
       "建築年               1.283310e+06\n",
       "地区名_enc           1.029078e+06\n",
       "最寄駅：名称_enc        7.137505e+05\n",
       "面積（㎡）             6.264755e+05\n",
       "市区町村コード_enc       5.392888e+05\n",
       "地区名_target        3.307385e+05\n",
       "取引時点_enc          2.212515e+05\n",
       "最寄駅：名称_target     2.135758e+05\n",
       "市区町村_target       1.135994e+05\n",
       "改装_enc            8.204046e+04\n",
       "都道府県名_enc         7.236851e+04\n",
       "最寄駅：距離（分）         7.113168e+04\n",
       "間取り_enc           6.529211e+04\n",
       "最寄駅：距離（分）_target  3.943172e+04\n",
       "取引の事情等_enc        3.206340e+04\n",
       "都市計画_enc          1.815525e+04\n",
       "今後の利用目的_enc       1.712945e+04\n",
       "建物の構造_enc         5.461584e+03\n",
       "用途_enc            2.881197e+03"
      ]
     },
     "execution_count": 261,
     "metadata": {},
     "output_type": "execute_result"
    }
   ],
   "source": [
    "df_imp = pd.DataFrame({\"col\": x_tr.columns, \"imp\": model.feature_importances_})\n",
    "\n",
    "df_imp.groupby(\"col\")[\"imp\"].agg([\"mean\"]).sort_values(by=\"mean\", ascending=False)"
   ]
  },
  {
   "cell_type": "markdown",
   "id": "e35146e8-cfb1-466c-80ef-eb31c2ffaa74",
   "metadata": {},
   "source": [
    "# catboost"
   ]
  },
  {
   "cell_type": "code",
   "execution_count": 266,
   "id": "03836c92-36f7-4402-943d-2a0a3a80e32d",
   "metadata": {},
   "outputs": [
    {
     "name": "stderr",
     "output_type": "stream",
     "text": [
      "Custom logger is already specified. Specify more than one logger at same time is not thread safe."
     ]
    },
    {
     "name": "stdout",
     "output_type": "stream",
     "text": [
      "CPU times: user 1h 25min 29s, sys: 8min 38s, total: 1h 34min 8s\n",
      "Wall time: 29min\n"
     ]
    },
    {
     "data": {
      "text/plain": [
       "0.07617441634284869"
      ]
     },
     "execution_count": 266,
     "metadata": {},
     "output_type": "execute_result"
    }
   ],
   "source": [
    "%%time\n",
    "\n",
    "import catboost as cat\n",
    "\n",
    "params = {\n",
    "    \"loss_function\": \"MAE\",\n",
    "    \"learning_rate\"  : 0.14235555551694776,\n",
    "    \"depth\": 7\n",
    "}\n",
    "\n",
    "model = cat.CatBoostRegressor(**params)\n",
    "model.fit(x_tr, y_tr, \n",
    "          eval_set=[(x_tr, y_tr), (x_va, y_va)],\n",
    "          cat_features=cat_list,\n",
    "          early_stopping_rounds=20,\n",
    "          verbose=0)\n",
    "\n",
    "with open(f\"model_cat_.h5\", \"wb\") as f:\n",
    "    pickle.dump(model, f, protocol=4)\n",
    "\n",
    "# valid\n",
    "p_va = model.predict(x_va)\n",
    "\n",
    "tmp_pred = pd.DataFrame({\"p_va_cat\": p_va})\n",
    "df_pred  = pd.concat([df_pred, tmp_pred], axis=1)\n",
    "\n",
    "mean_absolute_error(y_va, p_va)"
   ]
  },
  {
   "cell_type": "code",
   "execution_count": 267,
   "id": "63827faf-be97-437a-b54c-b575846b9f30",
   "metadata": {},
   "outputs": [
    {
     "data": {
      "text/plain": [
       "0.07617441634284869"
      ]
     },
     "execution_count": 267,
     "metadata": {},
     "output_type": "execute_result"
    }
   ],
   "source": [
    "mean_absolute_error(y_va, p_va)"
   ]
  },
  {
   "cell_type": "markdown",
   "id": "d1a9b97b-c174-443b-9959-eba04048cd23",
   "metadata": {},
   "source": [
    "# xgboost"
   ]
  },
  {
   "cell_type": "code",
   "execution_count": 268,
   "id": "28424d27-1c86-4199-a463-2f2a5c3c17cc",
   "metadata": {},
   "outputs": [
    {
     "name": "stdout",
     "output_type": "stream",
     "text": [
      "[01:19:48] WARNING: /Users/runner/miniforge3/conda-bld/xgboost_1593723618214/work/src/objective/regression_obj.cu:170: reg:linear is now deprecated in favor of reg:squarederror.\n",
      "[01:19:48] WARNING: /Users/runner/miniforge3/conda-bld/xgboost_1593723618214/work/src/learner.cc:480: \n",
      "Parameters: { enable_categorical } might not be used.\n",
      "\n",
      "  This may not be accurate due to some parameters are only used in language bindings but\n",
      "  passed down to XGBoost core.  Or some parameters are not used but slip through this\n",
      "  verification. Please open an issue if you find above cases.\n",
      "\n",
      "\n",
      "[01:39:24] WARNING: /Users/runner/miniforge3/conda-bld/xgboost_1593723618214/work/src/objective/regression_obj.cu:170: reg:linear is now deprecated in favor of reg:squarederror.\n",
      "CPU times: user 1h 2min 30s, sys: 36.8 s, total: 1h 3min 7s\n",
      "Wall time: 19min 42s\n"
     ]
    },
    {
     "data": {
      "text/plain": [
       "0.07510298458284495"
      ]
     },
     "execution_count": 268,
     "metadata": {},
     "output_type": "execute_result"
    }
   ],
   "source": [
    "%%time\n",
    "\n",
    "import xgboost as xgb\n",
    "\n",
    "params = {\n",
    "    \"objective\": \"reg:linear\",\n",
    "    \"eval_metric\": \"mae\",\n",
    "    \"n_estimators\": 1000,\n",
    "    \"learning_rate\"  : 0.14235555551694776,\n",
    "    \"max_depth\": 7,\n",
    "    \"random_state\": 2023,\n",
    "}\n",
    "\n",
    "model = xgb.XGBRegressor(**params, enable_categorical=True)\n",
    "model.fit(x_tr, y_tr, \n",
    "          eval_set=[(x_tr, y_tr), (x_va, y_va)],\n",
    "          early_stopping_rounds=20, verbose=0)\n",
    "\n",
    "with open(f\"model_xgb_.h5\", \"wb\") as f:\n",
    "    pickle.dump(model, f, protocol=4)\n",
    "\n",
    "# valid\n",
    "p_va = model.predict(x_va)\n",
    "\n",
    "tmp_pred = pd.DataFrame({\"p_va_xgb\": p_va})\n",
    "df_pred  = pd.concat([df_pred, tmp_pred], axis=1)\n",
    "\n",
    "mean_absolute_error(y_va, p_va)"
   ]
  },
  {
   "cell_type": "code",
   "execution_count": 269,
   "id": "87cb6cc6-bf20-40d3-b659-1559a5f9eb73",
   "metadata": {},
   "outputs": [
    {
     "data": {
      "text/plain": [
       "0.07510298458284495"
      ]
     },
     "execution_count": 269,
     "metadata": {},
     "output_type": "execute_result"
    }
   ],
   "source": [
    "mean_absolute_error(y_va, p_va)"
   ]
  },
  {
   "cell_type": "markdown",
   "id": "0f8000da-eaf6-4be4-a155-baeeb6529b97",
   "metadata": {},
   "source": [
    "# ensemble"
   ]
  },
  {
   "cell_type": "code",
   "execution_count": 278,
   "id": "05a8de2e-1fda-4f4b-8a48-b76b9e30b719",
   "metadata": {},
   "outputs": [
    {
     "data": {
      "text/plain": [
       "0.0713108277879112"
      ]
     },
     "execution_count": 278,
     "metadata": {},
     "output_type": "execute_result"
    }
   ],
   "source": [
    "lgb = 0.7\n",
    "cat = 0.1\n",
    "xgb = 0.2\n",
    "\n",
    "p_va = (df_pred[\"p_va_lgb\"]*lgb + df_pred[\"p_va_cat\"]*cat + df_pred[\"p_va_xgb\"]*xgb)\n",
    "\n",
    "mean_absolute_error(y_va, p_va)"
   ]
  },
  {
   "cell_type": "code",
   "execution_count": null,
   "id": "a301f870-c746-4e00-a76d-85276697a2c9",
   "metadata": {},
   "outputs": [],
   "source": []
  },
  {
   "cell_type": "markdown",
   "id": "bd7cfc92-b53c-47e0-ac0a-45e0d951b7f9",
   "metadata": {},
   "source": [
    "# inference"
   ]
  },
  {
   "cell_type": "code",
   "execution_count": 279,
   "id": "9bcd702b-c161-4916-8f80-bdd942de3b31",
   "metadata": {},
   "outputs": [],
   "source": [
    "remove_col = [\"最寄駅：名称\", \"市区町村コード\", \"地区名\", \"間取り\", \"建物の構造\",\n",
    "              \"用途\", \"今後の利用目的\", \"都道府県名\", \"都市計画\", \"改装\", \"取引の事情等\"]\n",
    "\n",
    "x_te = x_test.drop(remove_col, axis=1)"
   ]
  },
  {
   "cell_type": "code",
   "execution_count": 280,
   "id": "35278e74-4eae-48df-a57e-8a4cb90532c8",
   "metadata": {},
   "outputs": [],
   "source": [
    "# LGBM predict function\n",
    "def ensemble_predict(input_x, input_id):\n",
    "    # モデル読み込み\n",
    "    with open(f\"./model_lgb_.h5\", \"rb\") as f:\n",
    "        lgb_model = pickle.load(f)\n",
    "    with open(f\"./model_cat_.h5\", \"rb\") as f:\n",
    "        cat_model = pickle.load(f)\n",
    "    with open(f\"./model_xgb_.h5\", \"rb\") as f:\n",
    "        xgb_model = pickle.load(f)\n",
    "\n",
    "    # 推論\n",
    "    lgb_pred = lgb_model.predict(input_x)\n",
    "    cat_pred = cat_model.predict(input_x)\n",
    "    xgb_pred = xgb_model.predict(input_x)\n",
    "\n",
    "    # 予測値の格納\n",
    "    input_id[\"lgb_pred\"] = lgb_pred\n",
    "    input_id[\"cat_pred\"] = cat_pred\n",
    "    input_id[\"xgb_pred\"] = xgb_pred\n",
    "\n",
    "    return input_id"
   ]
  },
  {
   "cell_type": "code",
   "execution_count": 281,
   "id": "fb30012a-3dd7-48ad-967c-aabc36de65ed",
   "metadata": {},
   "outputs": [
    {
     "name": "stdout",
     "output_type": "stream",
     "text": [
      "[01:41:38] WARNING: /Users/runner/miniforge3/conda-bld/xgboost_1593723618214/work/src/objective/regression_obj.cu:170: reg:linear is now deprecated in favor of reg:squarederror.\n"
     ]
    }
   ],
   "source": [
    "i_te = test[[\"ID\"]]\n",
    "\n",
    "df_test_pred = ensemble_predict(x_te, i_te)"
   ]
  },
  {
   "cell_type": "markdown",
   "id": "4fef7f5f-4c90-46a4-acd6-0828b14da04a",
   "metadata": {},
   "source": [
    "# ensemble（test）"
   ]
  },
  {
   "cell_type": "code",
   "execution_count": 282,
   "id": "4c140812-a58c-4433-b3e7-e1dee6c836db",
   "metadata": {},
   "outputs": [],
   "source": [
    "pred = (df_test_pred[\"lgb_pred\"]*lgb + df_test_pred[\"cat_pred\"]*cat + df_test_pred[\"xgb_pred\"]*xgb)"
   ]
  },
  {
   "cell_type": "markdown",
   "id": "441b7c0b-26db-4442-9e94-4d77a7f77f6c",
   "metadata": {},
   "source": [
    "# stacking"
   ]
  },
  {
   "cell_type": "code",
   "execution_count": 284,
   "id": "c671b099-1e5b-40b3-9f69-dcb566f085ef",
   "metadata": {},
   "outputs": [],
   "source": [
    "# 第1段階の予測値を積み重ねる\n",
    "stack_pred = np.column_stack((df_pred[\"p_va_lgb\"],\n",
    "                              df_pred[\"p_va_cat\"],\n",
    "                              df_pred[\"p_va_xgb\"]))"
   ]
  },
  {
   "cell_type": "code",
   "execution_count": 301,
   "id": "92f94c6f-f223-4910-ac3c-c7056a6c7891",
   "metadata": {},
   "outputs": [
    {
     "name": "stdout",
     "output_type": "stream",
     "text": [
      "[01:50:23] WARNING: /Users/runner/miniforge3/conda-bld/xgboost_1593723618214/work/src/objective/regression_obj.cu:170: reg:linear is now deprecated in favor of reg:squarederror.\n"
     ]
    }
   ],
   "source": [
    "with open(f\"./model_lgb_.h5\", \"rb\") as f:\n",
    "    lgb_model = pickle.load(f)\n",
    "with open(f\"./model_cat_.h5\", \"rb\") as f:\n",
    "    cat_model = pickle.load(f)\n",
    "with open(f\"./model_xgb_.h5\", \"rb\") as f:\n",
    "    xgb_model = pickle.load(f)"
   ]
  },
  {
   "cell_type": "code",
   "execution_count": 303,
   "id": "9623ffdb-8a6f-463b-895e-6bf7b33e62a7",
   "metadata": {},
   "outputs": [],
   "source": [
    "lgb_model.fit(stack_pred, y_va)\n",
    "cat_model.fit(stack_pred, y_va)\n",
    "xgb_model.fit(stack_pred, y_va)"
   ]
  },
  {
   "cell_type": "code",
   "execution_count": 294,
   "id": "45e2bc7c-b565-441e-a0a5-828a5e8dffe6",
   "metadata": {},
   "outputs": [],
   "source": [
    "# 各モデルの検証データを積み重ねる\n",
    "stack_test_pred = np.column_stack((df_test_pred[\"lgb_pred\"],\n",
    "                                   df_test_pred[\"cat_pred\"],\n",
    "                                   df_test_pred[\"xgb_pred\"]))\n",
    "\n"
   ]
  },
  {
   "cell_type": "code",
   "execution_count": 305,
   "id": "b0a87e73-b307-4942-96df-0def9cd42d29",
   "metadata": {},
   "outputs": [],
   "source": [
    "# スタッキング\n",
    "lgb_test_pred = lgb_model.predict(stack_test_pred)\n",
    "cat_test_pred = cat_model.predict(stack_test_pred)\n",
    "xgb_test_pred = xgb_model.predict(stack_test_pred)"
   ]
  },
  {
   "cell_type": "code",
   "execution_count": 308,
   "id": "4bdba8b6-e03e-45c4-a598-7d20bff3b03f",
   "metadata": {},
   "outputs": [],
   "source": [
    "pred = (lgb_test_pred*lgb + cat_test_pred*cat + xgb_test_pred*xgb)"
   ]
  },
  {
   "cell_type": "markdown",
   "id": "04d81e38-1a01-4be6-811f-35668a377db1",
   "metadata": {},
   "source": [
    "# submit"
   ]
  },
  {
   "cell_type": "code",
   "execution_count": 309,
   "id": "92778077-3f3d-4a99-8453-ab82b35e693a",
   "metadata": {},
   "outputs": [],
   "source": [
    "submit[\"取引価格（総額）_log\"] = pred\n",
    "submit.to_csv(\"submission.csv\", index=False)"
   ]
  },
  {
   "cell_type": "markdown",
   "id": "b990f372-9d9a-484f-913a-70a8d2af226b",
   "metadata": {},
   "source": [
    "# optuna"
   ]
  },
  {
   "cell_type": "markdown",
   "id": "2d308462-ce7e-48b4-9227-a760293c9ab3",
   "metadata": {},
   "source": [
    "# lightgbm"
   ]
  },
  {
   "cell_type": "code",
   "execution_count": 258,
   "id": "c8936ff7-b91a-4dd0-9930-b744793f40cd",
   "metadata": {},
   "outputs": [
    {
     "name": "stdout",
     "output_type": "stream",
     "text": [
      "Best Param: {'learning_rate': 0.14235555551694776, 'num_leaves': 73}\n",
      "Best Metric: 0.07271248232889684\n"
     ]
    }
   ],
   "source": [
    "# %%time\n",
    "import optuna\n",
    "\n",
    "def objective(trial):\n",
    "    \n",
    "    learning_rate = trial.suggest_uniform('learning_rate', 0.02, 0.4)\n",
    "    num_leaves =  trial.suggest_int(\"num_leaves\", 10, 80)    \n",
    "    \n",
    "    params = {\n",
    "        \"boosting_type\"  : \"gbdt\",\n",
    "        \"objective\"      : \"regression_l1\",\n",
    "        \"metric\"         : \"mean_absolute_error\",\n",
    "        \"n_estimators\"   : 1000,\n",
    "        \"random_state\"   : 2022,\n",
    "        \"importance_type\": \"gain\",\n",
    "        \n",
    "        # adjustment\n",
    "        'learning_rate': learning_rate,\n",
    "        'num_leaves': num_leaves,\n",
    "    }\n",
    "        \n",
    "    \n",
    "    model = lgb.LGBMRegressor(**params)\n",
    "    model.fit(x_tr, y_tr,\n",
    "              eval_set=[(x_tr, y_tr), (x_va, y_va)],\n",
    "              categorical_feature=cat_list,\n",
    "              early_stopping_rounds=20,\n",
    "              verbose=0)\n",
    "\n",
    "    p_va = model.predict(x_va)\n",
    "    score = mean_absolute_error(y_va, p_va)\n",
    "    print(score)\n",
    "    return score\n",
    "\n",
    "# パラメータ最適化\n",
    "study = optuna.create_study(sampler=optuna.samplers.RandomSampler(seed=2023))\n",
    "study.optimize(objective, n_trials=30)\n",
    "print()\n",
    "print(\"Best Param:\", study.best_params)    \n",
    "print(\"Best Metric:\", study.best_value)"
   ]
  },
  {
   "cell_type": "markdown",
   "id": "ebe9a79a-37b9-4a72-89d0-3350dbb225e0",
   "metadata": {},
   "source": [
    "# catboost"
   ]
  },
  {
   "cell_type": "code",
   "execution_count": 265,
   "id": "132565c8-e708-41fd-b4de-52e837d11c33",
   "metadata": {},
   "outputs": [],
   "source": [
    "%%time\n",
    "\n",
    "import catboost as cat\n",
    "\n",
    "def objective(trial):\n",
    "    \n",
    "    learning_rate = trial.suggest_loguniform('learning_rate', 0.02, 0.4)\n",
    "    depth =  trial.suggest_int('depth', 3, 15)  \n",
    "            \n",
    "    params = {\n",
    "        \"loss_function\": \"MAE\",\n",
    "        \n",
    "        # adjustment\n",
    "        'learning_rate': learning_rate,\n",
    "        'depth': depth,\n",
    "    }\n",
    "        \n",
    "    model = cat.CatBoostRegressor(**params)\n",
    "    model.fit(x_tr, y_tr, \n",
    "              eval_set=[(x_tr, y_tr), (x_va, y_va)],\n",
    "              cat_features=cat_list,\n",
    "              early_stopping_rounds=20,\n",
    "              verbose=0)\n",
    "\n",
    "    # valid\n",
    "    p_va = model.predict(x_va)\n",
    "\n",
    "    score = mean_absolute_error(y_va, p_va)\n",
    "    print(score)\n",
    "    return score\n",
    "\n",
    "# パラメータ最適化\n",
    "study = optuna.create_study(sampler=optuna.samplers.RandomSampler(seed=2023))\n",
    "study.optimize(objective, n_trials=3)\n",
    "print()\n",
    "print(\"Best Param:\", study.best_params)    \n",
    "print(\"Best Metric:\", study.best_value)"
   ]
  },
  {
   "cell_type": "markdown",
   "id": "0986d83b-2c75-4e20-937d-de23d1e55974",
   "metadata": {},
   "source": [
    "# xgboost"
   ]
  },
  {
   "cell_type": "code",
   "execution_count": 264,
   "id": "7b03848f-ed27-4e1d-8c48-4f45d5097d7f",
   "metadata": {},
   "outputs": [
    {
     "name": "stderr",
     "output_type": "stream",
     "text": [
      "\u001b[32m[I 2023-01-06 00:44:13,025]\u001b[0m A new study created in memory with name: no-name-38515b58-d05f-4f52-8bac-33bff6d3c4e1\u001b[0m\n"
     ]
    },
    {
     "name": "stdout",
     "output_type": "stream",
     "text": [
      "[00:44:14] WARNING: /Users/runner/miniforge3/conda-bld/xgboost_1593723618214/work/src/objective/regression_obj.cu:170: reg:linear is now deprecated in favor of reg:squarederror.\n",
      "[00:44:14] WARNING: /Users/runner/miniforge3/conda-bld/xgboost_1593723618214/work/src/learner.cc:480: \n",
      "Parameters: { enable_categorical } might not be used.\n",
      "\n",
      "  This may not be accurate due to some parameters are only used in language bindings but\n",
      "  passed down to XGBoost core.  Or some parameters are not used but slip through this\n",
      "  verification. Please open an issue if you find above cases.\n",
      "\n",
      "\n"
     ]
    },
    {
     "name": "stderr",
     "output_type": "stream",
     "text": [
      "\n",
      "KeyboardInterrupt\n",
      "\n"
     ]
    }
   ],
   "source": [
    "%%time\n",
    "\n",
    "import xgboost as xgb\n",
    "\n",
    "def objective(trial):\n",
    "    \n",
    "    learning_rate = trial.suggest_uniform('learning_rate', 0.02, 0.4)\n",
    "    max_depth =  trial.suggest_int('max_depth', 3, 15)  \n",
    "        \n",
    "    params = {\n",
    "        \"objective\": \"reg:linear\",\n",
    "        \"eval_metric\": \"mae\",\n",
    "        \"n_estimators\": 1000,\n",
    "        \"random_state\": 2023,\n",
    "        \n",
    "        # adjustment\n",
    "        'learning_rate': learning_rate,\n",
    "        'max_depth': max_depth,\n",
    "    }\n",
    "        \n",
    "    \n",
    "    model = xgb.XGBRegressor(**params, enable_categorical=True)\n",
    "    model.fit(x_tr, y_tr, \n",
    "          eval_set=[(x_tr, y_tr), (x_va, y_va)],\n",
    "          early_stopping_rounds=20, verbose=0)\n",
    "\n",
    "    # valid\n",
    "    p_va = model.predict(x_va)\n",
    "\n",
    "    score = mean_absolute_error(y_va, p_va)\n",
    "    print(score)\n",
    "    return score\n",
    "\n",
    "# パラメータ最適化\n",
    "study = optuna.create_study(sampler=optuna.samplers.RandomSampler(seed=2023))\n",
    "study.optimize(objective, n_trials=5)\n",
    "print()\n",
    "print(\"Best Param:\", study.best_params)    \n",
    "print(\"Best Metric:\", study.best_value)"
   ]
  },
  {
   "cell_type": "code",
   "execution_count": null,
   "id": "b7fd6952-2f83-4d05-b49e-40ced2914a04",
   "metadata": {},
   "outputs": [],
   "source": []
  }
 ],
 "metadata": {
  "kernelspec": {
   "display_name": "Python 3",
   "language": "python",
   "name": "python3"
  },
  "language_info": {
   "codemirror_mode": {
    "name": "ipython",
    "version": 3
   },
   "file_extension": ".py",
   "mimetype": "text/x-python",
   "name": "python",
   "nbconvert_exporter": "python",
   "pygments_lexer": "ipython3",
   "version": "3.8.8"
  }
 },
 "nbformat": 4,
 "nbformat_minor": 5
}
