{
 "cells": [
  {
   "cell_type": "code",
   "execution_count": 1,
   "id": "cccf63a1-58aa-4649-a9c5-7fb5860cfd6b",
   "metadata": {},
   "outputs": [],
   "source": [
    "import warnings\n",
    "import pandas as pd\n",
    "\n",
    "from sklearn.metrics import mean_absolute_error\n",
    "\n",
    "pd.set_option(\"display.max_columns\", 50)\n",
    "warnings.simplefilter(\"ignore\")\n",
    "\n",
    "train  = pd.read_csv(\"train/01.csv\")\n",
    "test   = pd.read_csv(\"test.csv\")\n",
    "submit = pd.read_csv(\"sample_submission.csv\")"
   ]
  },
  {
   "cell_type": "code",
   "execution_count": 2,
   "id": "f1081557-026d-47c5-8813-3cbf854a4ece",
   "metadata": {},
   "outputs": [
    {
     "data": {
      "text/plain": [
       "((24800, 28), (21405, 27))"
      ]
     },
     "execution_count": 2,
     "metadata": {},
     "output_type": "execute_result"
    }
   ],
   "source": [
    "train.shape, test.shape"
   ]
  },
  {
   "cell_type": "code",
   "execution_count": 5,
   "id": "cc67b4e8-5a52-4fe2-b48c-ff2b92bc37fc",
   "metadata": {},
   "outputs": [
    {
     "name": "stdout",
     "output_type": "stream",
     "text": [
      "-------- Train --------\n",
      "[ 70  80  60  85  95  75  55  30  90  65  15  20 100  45  50  25  40 110\n",
      " 135 105  35 200 115 145 120 130 125 150 165 170 140 155 360 250 260  10\n",
      " 190 710 160 180 210 440 185 220]\n",
      "\n",
      "-------- Test --------\n",
      "['50' '15' '45' '70' '40' '30' '55' '75' '65' '80' '100' '20' '60' '120'\n",
      " '35' '90' '105' '125' '95' '85' '25' '110' '115' '145' '130' '2000㎡以上'\n",
      " '10' '135' '140' '160' '180' '560' '150' '200' '170' '175' '230' '210'\n",
      " '1100' '490' '500' '600' '155' '360' '400' '165' '250' '195']\n"
     ]
    }
   ],
   "source": [
    "print(\"-------- Train --------\")\n",
    "print(train[\"面積（㎡）\"].unique())\n",
    "print()\n",
    "print(\"-------- Test --------\")\n",
    "print(test[\"面積（㎡）\"].unique())"
   ]
  },
  {
   "cell_type": "code",
   "execution_count": 6,
   "id": "1f26f6e6-8c2b-45a0-8b2a-2505a181991b",
   "metadata": {},
   "outputs": [],
   "source": [
    "test[\"面積（㎡）\"] = test[\"面積（㎡）\"].replace(\"2000㎡以上\", \"2000\").astype(int)\n",
    "\n",
    "x_train = train[[\"面積（㎡）\"]]\n",
    "y_train = train[[\"取引価格（総額）_log\"]]\n",
    "i_train = train[[\"ID\"]]\n",
    "\n",
    "x_test  = test[[\"面積（㎡）\"]]\n",
    "i_test  = test[[\"ID\"]]"
   ]
  },
  {
   "cell_type": "code",
   "execution_count": 29,
   "id": "4983fb66-c65c-420e-8af6-f461af71a094",
   "metadata": {},
   "outputs": [
    {
     "name": "stdout",
     "output_type": "stream",
     "text": [
      "Fold: 0\n",
      "train_x: (19840, 1), valid_x: (4960, 1)\n",
      "training start!\n",
      "\n",
      "Fold: 1\n",
      "train_x: (19840, 1), valid_x: (4960, 1)\n",
      "training start!\n",
      "\n",
      "Fold: 2\n",
      "train_x: (19840, 1), valid_x: (4960, 1)\n",
      "training start!\n",
      "\n",
      "Fold: 3\n",
      "train_x: (19840, 1), valid_x: (4960, 1)\n",
      "training start!\n",
      "\n",
      "Fold: 4\n",
      "train_x: (19840, 1), valid_x: (4960, 1)\n",
      "training start!\n",
      "\n"
     ]
    }
   ],
   "source": [
    "import pickle\n",
    "import numpy as np\n",
    "import lightgbm as lgb\n",
    "\n",
    "from sklearn.model_selection import KFold\n",
    "\n",
    "params = {\n",
    "    \"boosting_type\"  : \"gbdt\",\n",
    "    \"objective\"      : \"regression_l1\",\n",
    "    \"metric\"         : \"mean_absolute_error\",\n",
    "    \"learning_rate\"  : 0.02,\n",
    "    \"num_leaves\"     : 31,\n",
    "    \"n_estimators\"   : 1000,\n",
    "    \"random_state\"   : 2022,\n",
    "    \"importance_type\": \"gain\"\n",
    "}\n",
    "\n",
    "df_imp  = pd.DataFrame()\n",
    "df_lgb_pred = pd.DataFrame()\n",
    "\n",
    "metrics = []\n",
    "\n",
    "n_splits = 5\n",
    "cv = list(KFold(n_splits=n_splits, shuffle=True, random_state=2022).split(x_train))\n",
    "\n",
    "for nfold, i in enumerate(cv):\n",
    "    print(f\"Fold: {nfold}\")\n",
    "    i_tr, i_va = i[0], i[1]\n",
    "    x_tr, y_tr, i_tr = x_train.loc[i_tr], y_train.loc[i_tr], i_train.loc[i_tr]\n",
    "    x_va, y_va, i_va = x_train.loc[i_va], y_train.loc[i_va], i_train.loc[i_va]\n",
    "    print(f\"train_x: {x_tr.shape}, valid_x: {x_va.shape}\")\n",
    "    \n",
    "    print(\"training start!\")\n",
    "    model = lgb.LGBMRegressor(**params)\n",
    "    model.fit(x_tr,\n",
    "              y_tr,\n",
    "              eval_set=[(x_tr, y_tr), (x_va, y_va)],\n",
    "              categorical_feature=[],\n",
    "              early_stopping_rounds=100,\n",
    "              verbose=0)\n",
    "        \n",
    "    # valid\n",
    "    p_va = model.predict(x_va)\n",
    "    tmp_pred = pd.DataFrame({\"p_va\": p_va, \"y_va\": np.array(y_va).reshape(-1)})\n",
    "    df_lgb_pred = pd.concat([df_lgb_pred, tmp_pred], ignore_index=True)\n",
    "    \n",
    "    # metrics\n",
    "    metric_va = mean_absolute_error(y_va, p_va)\n",
    "    metrics.append([nfold, metric_va])\n",
    "    \n",
    "    # importance\n",
    "    tmp_imp = pd.DataFrame({\"col\"  : x_tr.columns,\n",
    "                            \"imp\"  : model.feature_importances_,\n",
    "                            \"nfold\": nfold\n",
    "                           })\n",
    "    tmp_imp = tmp_imp.sort_values(by=\"imp\", ascending=False)\n",
    "    df_imp = pd.concat([df_imp, tmp_imp], ignore_index=True)\n",
    "    \n",
    "    print()"
   ]
  },
  {
   "cell_type": "code",
   "execution_count": 30,
   "id": "4ad2af97-8ca5-425f-a028-b509e589bd55",
   "metadata": {},
   "outputs": [
    {
     "name": "stdout",
     "output_type": "stream",
     "text": [
      "MAE: 0.188119\n"
     ]
    }
   ],
   "source": [
    "df_metrics = pd.DataFrame(metrics, columns=[\"nfold\", \"mae\"])\n",
    "mae_mean = df_metrics[\"mae\"].mean()\n",
    "print(f\"MAE: {round(mae_mean, 6)}\")"
   ]
  },
  {
   "cell_type": "code",
   "execution_count": 11,
   "id": "15fc8902-8675-4952-a0e1-a171289e9c06",
   "metadata": {},
   "outputs": [
    {
     "data": {
      "text/plain": [
       "0.18811914634765328"
      ]
     },
     "execution_count": 11,
     "metadata": {},
     "output_type": "execute_result"
    }
   ],
   "source": [
    "np.abs(df_lgb_pred[\"y_va\"] - df_lgb_pred[\"p_va\"]).mean()"
   ]
  },
  {
   "cell_type": "markdown",
   "id": "1b9bc11e-42a2-426a-9079-6d4e6e51f52f",
   "metadata": {},
   "source": [
    "# cv : 0.188119\n",
    "# cv(all_data): 0.074967\n",
    "# public_score:(all_data): 0.0781"
   ]
  },
  {
   "cell_type": "markdown",
   "id": "7b2de566-64c2-47a1-b5a0-6925bb3fb389",
   "metadata": {},
   "source": [
    "## ------------------------------------\n",
    "# XGBoost"
   ]
  },
  {
   "cell_type": "code",
   "execution_count": 10,
   "id": "d4165bfe-23bf-449c-9fb8-e40df08351cd",
   "metadata": {},
   "outputs": [
    {
     "name": "stdout",
     "output_type": "stream",
     "text": [
      "Fold: 0\n",
      "training start!\n",
      "[15:44:36] WARNING: /Users/runner/miniforge3/conda-bld/xgboost_1593723618214/work/src/objective/regression_obj.cu:170: reg:linear is now deprecated in favor of reg:squarederror.\n",
      "[15:44:38] WARNING: /Users/runner/miniforge3/conda-bld/xgboost_1593723618214/work/src/objective/regression_obj.cu:170: reg:linear is now deprecated in favor of reg:squarederror.\n",
      "0.1891005196616664\n",
      "\n",
      "Fold: 1\n",
      "training start!\n",
      "[15:44:38] WARNING: /Users/runner/miniforge3/conda-bld/xgboost_1593723618214/work/src/objective/regression_obj.cu:170: reg:linear is now deprecated in favor of reg:squarederror.\n",
      "[15:44:40] WARNING: /Users/runner/miniforge3/conda-bld/xgboost_1593723618214/work/src/objective/regression_obj.cu:170: reg:linear is now deprecated in favor of reg:squarederror.\n",
      "0.19420852900052982\n",
      "\n",
      "Fold: 2\n",
      "training start!\n",
      "[15:44:40] WARNING: /Users/runner/miniforge3/conda-bld/xgboost_1593723618214/work/src/objective/regression_obj.cu:170: reg:linear is now deprecated in favor of reg:squarederror.\n",
      "[15:44:42] WARNING: /Users/runner/miniforge3/conda-bld/xgboost_1593723618214/work/src/objective/regression_obj.cu:170: reg:linear is now deprecated in favor of reg:squarederror.\n",
      "0.18566349212412278\n",
      "\n",
      "Fold: 3\n",
      "training start!\n",
      "[15:44:42] WARNING: /Users/runner/miniforge3/conda-bld/xgboost_1593723618214/work/src/objective/regression_obj.cu:170: reg:linear is now deprecated in favor of reg:squarederror.\n",
      "[15:44:46] WARNING: /Users/runner/miniforge3/conda-bld/xgboost_1593723618214/work/src/objective/regression_obj.cu:170: reg:linear is now deprecated in favor of reg:squarederror.\n",
      "0.19029452247143466\n",
      "\n",
      "Fold: 4\n",
      "training start!\n",
      "[15:44:46] WARNING: /Users/runner/miniforge3/conda-bld/xgboost_1593723618214/work/src/objective/regression_obj.cu:170: reg:linear is now deprecated in favor of reg:squarederror.\n",
      "[15:44:57] WARNING: /Users/runner/miniforge3/conda-bld/xgboost_1593723618214/work/src/objective/regression_obj.cu:170: reg:linear is now deprecated in favor of reg:squarederror.\n",
      "0.18702449582522881\n",
      "\n"
     ]
    }
   ],
   "source": [
    "import xgboost as xgb\n",
    "\n",
    "params = {\n",
    "    \"objective\": \"reg:linear\",\n",
    "    \"n_estimators\": 1000,\n",
    "    \"learning_rate\": 0.1,\n",
    "    \"eval_metric\": \"mae\",\n",
    "    \"random_state\": 2023,\n",
    "}\n",
    "\n",
    "df_xgb_pred = pd.DataFrame()\n",
    "metrics = []\n",
    "\n",
    "for nfold, (tr_i, va_i) in enumerate(cv):\n",
    "    print(f\"Fold: {nfold}\")\n",
    "    x_tr, y_tr = x_train.loc[tr_i], y_train.loc[tr_i]\n",
    "    x_va, y_va = x_train.loc[va_i], y_train.loc[va_i]\n",
    "    \n",
    "    print(\"training start!\")\n",
    "    model = xgb.XGBRegressor(**params)\n",
    "    model.fit(x_tr, y_tr, \n",
    "              eval_set=[(x_tr, y_tr), (x_va, y_va)],\n",
    "              early_stopping_rounds=20, verbose=0)\n",
    "\n",
    "    # valid\n",
    "    p_va = model.predict(x_va)\n",
    "    tmp_pred = pd.DataFrame({\"p_va\": p_va, \"y_va\": y_va.values.reshape(-1)})\n",
    "    df_xgb_pred = pd.concat([df_xgb_pred, tmp_pred], ignore_index=True)\n",
    "    \n",
    "    # metrics\n",
    "    metric_va = mean_absolute_error(y_va, p_va)\n",
    "    metrics.append([nfold, metric_va])\n",
    "    print(metric_va)\n",
    "    print()"
   ]
  },
  {
   "cell_type": "code",
   "execution_count": 11,
   "id": "66213819-365b-4db1-9759-fe91a5b40618",
   "metadata": {},
   "outputs": [
    {
     "data": {
      "text/plain": [
       "0.1892583118165965"
      ]
     },
     "execution_count": 11,
     "metadata": {},
     "output_type": "execute_result"
    }
   ],
   "source": [
    "pd.DataFrame(metrics, columns=[\"nfold\", \"mae\"])[\"mae\"].mean()"
   ]
  },
  {
   "cell_type": "code",
   "execution_count": 12,
   "id": "3b9fbdb6-7533-4b6e-ab63-0e381282a772",
   "metadata": {},
   "outputs": [
    {
     "data": {
      "text/plain": [
       "0.18925831181659103"
      ]
     },
     "execution_count": 12,
     "metadata": {},
     "output_type": "execute_result"
    }
   ],
   "source": [
    "np.abs(df_xgb_pred[\"y_va\"] - df_xgb_pred[\"p_va\"]).mean()"
   ]
  },
  {
   "cell_type": "markdown",
   "id": "6fc8c88d-b20e-4dd3-bdce-82c391932054",
   "metadata": {},
   "source": [
    "# Catboost"
   ]
  },
  {
   "cell_type": "code",
   "execution_count": 34,
   "id": "669e5e69-b5c9-4422-9813-4b022c1bd062",
   "metadata": {},
   "outputs": [
    {
     "name": "stdout",
     "output_type": "stream",
     "text": [
      "Fold: 0\n",
      "training start!\n",
      "0.18810220677198206\n",
      "\n",
      "Fold: 1\n",
      "training start!\n",
      "0.1932535717880487\n",
      "\n",
      "Fold: 2\n",
      "training start!\n",
      "0.184779154167478\n",
      "\n",
      "Fold: 3\n",
      "training start!\n",
      "0.18945039554784857\n",
      "\n",
      "Fold: 4\n",
      "training start!\n",
      "0.18487999956506546\n",
      "\n"
     ]
    }
   ],
   "source": [
    "import catboost as cat\n",
    "\n",
    "params = {\n",
    "    \"loss_function\": \"MAE\",\n",
    "    \"learning_rate\": 0.1,\n",
    "    \n",
    "}\n",
    "\n",
    "df_cat_pred = pd.DataFrame()\n",
    "metrics = []\n",
    "\n",
    "for nfold, (tr_i, va_i) in enumerate(cv):\n",
    "    print(f\"Fold: {nfold}\")\n",
    "    x_tr, y_tr = x_train.loc[tr_i], y_train.loc[tr_i]\n",
    "    x_va, y_va = x_train.loc[va_i], y_train.loc[va_i]\n",
    "    \n",
    "    print(\"training start!\")\n",
    "    model = cat.CatBoostRegressor(**params)\n",
    "    model.fit(x_tr, y_tr, \n",
    "              eval_set=[(x_tr, y_tr), (x_va, y_va)],\n",
    "              cat_features=[],\n",
    "              early_stopping_rounds=20,\n",
    "              verbose=0)\n",
    "\n",
    "    # valid\n",
    "    p_va = model.predict(x_va)\n",
    "    tmp_pred = pd.DataFrame({\"p_va\": p_va, \"y_va\": y_va.values.reshape(-1)})\n",
    "    df_cat_pred = pd.concat([df_cat_pred, tmp_pred], ignore_index=True)\n",
    "    \n",
    "    # metrics\n",
    "    metric_va = mean_absolute_error(y_va, p_va)\n",
    "    metrics.append([nfold, metric_va])\n",
    "    print(metric_va)\n",
    "    print()"
   ]
  },
  {
   "cell_type": "code",
   "execution_count": 35,
   "id": "796171c8-1edb-4b8b-8a0e-7b086d0753bd",
   "metadata": {},
   "outputs": [
    {
     "data": {
      "text/plain": [
       "0.18809306556808458"
      ]
     },
     "execution_count": 35,
     "metadata": {},
     "output_type": "execute_result"
    }
   ],
   "source": [
    "pd.DataFrame(metrics, columns=[\"nfold\", \"mae\"])[\"mae\"].mean()"
   ]
  },
  {
   "cell_type": "code",
   "execution_count": 24,
   "id": "e4034f3f-de3d-4a3f-af4f-1b1998806933",
   "metadata": {},
   "outputs": [
    {
     "data": {
      "text/plain": [
       "0.18809306556808678"
      ]
     },
     "execution_count": 24,
     "metadata": {},
     "output_type": "execute_result"
    }
   ],
   "source": [
    "np.abs(df_cat_pred[\"y_va\"] - df_cat_pred[\"p_va\"]).mean()"
   ]
  },
  {
   "cell_type": "code",
   "execution_count": null,
   "id": "4aea3871-4107-47bb-9e13-8a34795e85cd",
   "metadata": {},
   "outputs": [],
   "source": []
  },
  {
   "cell_type": "code",
   "execution_count": null,
   "id": "b9c2bec0-84ba-497c-9434-a5538f50704a",
   "metadata": {},
   "outputs": [],
   "source": []
  },
  {
   "cell_type": "code",
   "execution_count": null,
   "id": "94a5d9d5-75ce-4e4d-8c1c-a54ca845f1eb",
   "metadata": {},
   "outputs": [],
   "source": []
  }
 ],
 "metadata": {
  "kernelspec": {
   "display_name": "Python 3",
   "language": "python",
   "name": "python3"
  },
  "language_info": {
   "codemirror_mode": {
    "name": "ipython",
    "version": 3
   },
   "file_extension": ".py",
   "mimetype": "text/x-python",
   "name": "python",
   "nbconvert_exporter": "python",
   "pygments_lexer": "ipython3",
   "version": "3.8.8"
  }
 },
 "nbformat": 4,
 "nbformat_minor": 5
}
