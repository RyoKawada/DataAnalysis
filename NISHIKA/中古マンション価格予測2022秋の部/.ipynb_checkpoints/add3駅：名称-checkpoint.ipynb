{
 "cells": [
  {
   "cell_type": "code",
   "execution_count": 1,
   "id": "99c6f2f0-4902-4435-ae96-57dc6e77529f",
   "metadata": {},
   "outputs": [],
   "source": [
    "import warnings\n",
    "import pandas as pd\n",
    "\n",
    "from sklearn.metrics import mean_absolute_error\n",
    "\n",
    "pd.set_option(\"display.max_columns\", 50)\n",
    "warnings.simplefilter(\"ignore\")\n",
    "\n",
    "train  = pd.read_csv(\"train/01.csv\")\n",
    "test   = pd.read_csv(\"test.csv\")\n",
    "submit = pd.read_csv(\"sample_submission.csv\")"
   ]
  },
  {
   "cell_type": "code",
   "execution_count": 13,
   "id": "2066fe44-b8bd-4f28-a3a6-0172a478898d",
   "metadata": {},
   "outputs": [],
   "source": [
    "# 種類：中古マンション等のみ 必要なし\n",
    "del train[\"種類\"]\n",
    "del test[\"種類\"]\n",
    "\n",
    "# 種類：nanのみ 必要なし\n",
    "del train[\"地域\"]\n",
    "del test[\"地域\"]"
   ]
  },
  {
   "cell_type": "code",
   "execution_count": 15,
   "id": "13f40de0-cfc8-4170-99f0-dd8f453816c6",
   "metadata": {},
   "outputs": [
    {
     "data": {
      "text/plain": [
       "array(['中島公園', '美園', '札幌(ＪＲ)', 'ひばりが丘(北海道)', '銭函', '東札幌', '苫小牧', '福住',\n",
       "       '新さっぽろ', '南平岸', '苗穂', '旭川', '澄川', '手稲', '朝里', '西１１丁目', '真駒内',\n",
       "       '西１８丁目', 'バスセンター前', '北１３条東', '琴似(札幌市営)', '市役所前(函館)', '中の島',\n",
       "       '琴似(ＪＲ)', '麻生', '西２８丁目', '円山公園', '白石(札幌市営)', '北３４条', 'あいの里教育大',\n",
       "       '幌平橋', '豊水すすきの', '二十四軒', '環状通東', '宮の沢', '大谷地', '森林公園(北海道)',\n",
       "       '学園前(札幌)', '発寒', '百合が原', '稲穂', '青葉', '桑園', '函館', '栄町(札幌)', '南小樽',\n",
       "       '菊水', nan, '発寒南', '西線６条', '西線１６条', '釧路', '月寒中央', '新札幌', '元町(札幌)',\n",
       "       '南郷１８丁目', '東区役所前', '南郷７丁目', '北１８条', '湯の川', '南郷１３丁目', '篠路', '野幌',\n",
       "       '東屯田通', '星置', '北２４条', '白石(ＪＲ北海道)', '豊平公園', '北１２条', '五稜郭',\n",
       "       'さっぽろ(札幌市営)', '新琴似', '上野幌', '五稜郭公園前', '平岸(札幌市営)', '大麻', '厚別',\n",
       "       '小樽築港', '八軒', '十字街', '自衛隊前', '高砂(北海道)', '太平', '小樽', '帯広', '稲積公園',\n",
       "       '発寒中央', '七重浜', '新川(北海道)', 'すすきの(市営)', '西線１１条', '新道東', '中央図書館前',\n",
       "       '大通', '青柳町', '中央病院前', '北見', '平和', '西線１４条', '江別', '西線９条旭山公園通',\n",
       "       '湯の川温泉', '電車事業所前', '大町(北海道)', '山鼻１９条', '堀川町', '函館アリーナ前', '深堀町',\n",
       "       'ロープウェイ入口', '末広町(函館)', '松風町', '競馬場前(函館)', '幌南小学校前', '中島公園通',\n",
       "       '函館駅前', '石山通', '函館どつく前', '旭川四条', '近文', '静修学園前', 'あいの里公園', '杉並町',\n",
       "       '糸井', '新川町(函館)', '千代台', '南永山', '永山', '豊幌', '宝来町', '山鼻９条'],\n",
       "      dtype=object)"
      ]
     },
     "execution_count": 15,
     "metadata": {},
     "output_type": "execute_result"
    }
   ],
   "source": [
    "train[\"最寄駅：名称\"].unique()"
   ]
  },
  {
   "cell_type": "markdown",
   "id": "1d560a2e-64e0-4b13-9136-74783c50dd8e",
   "metadata": {},
   "source": [
    "array(['中島公園', '美園', '札幌(ＪＲ)', 'ひばりが丘(北海道)', '銭函', '東札幌', '苫小牧', '福住',\n",
    "       '新さっぽろ', '南平岸', '苗穂', '旭川', '澄川', '手稲', '朝里', '西１１丁目', '真駒内',\n",
    "       '西１８丁目', 'バスセンター前', '北１３条東', '琴似(札幌市営)', '市役所前(函館)', '中の島',\n",
    "       '琴似(ＪＲ)', '麻生', '西２８丁目', '円山公園', '白石(札幌市営)', '北３４条', 'あいの里教育大',\n",
    "       '幌平橋', '豊水すすきの', '二十四軒', '環状通東', '宮の沢', '大谷地', '森林公園(北海道)',\n",
    "       '学園前(札幌)', '発寒', '百合が原', '稲穂', '青葉', '桑園', '函館', '栄町(札幌)', '南小樽',\n",
    "       '菊水', nan, '発寒南', '西線６条', '西線１６条', '釧路', '月寒中央', '新札幌', '元町(札幌)',\n",
    "       '南郷１８丁目', '東区役所前', '南郷７丁目', '北１８条', '湯の川', '南郷１３丁目', '篠路', '野幌',\n",
    "       '東屯田通', '星置', '北２４条', '白石(ＪＲ北海道)', '豊平公園', '北１２条', '五稜郭',\n",
    "       'さっぽろ(札幌市営)', '新琴似', '上野幌', '五稜郭公園前', '平岸(札幌市営)', '大麻', '厚別',\n",
    "       '小樽築港', '八軒', '十字街', '自衛隊前', '高砂(北海道)', '太平', '小樽', '帯広', '稲積公園',\n",
    "       '発寒中央', '七重浜', '新川(北海道)', 'すすきの(市営)', '西線１１条', '新道東', '中央図書館前',\n",
    "       '大通', '青柳町', '中央病院前', '北見', '平和', '西線１４条', '江別', '西線９条旭山公園通',\n",
    "       '湯の川温泉', '電車事業所前', '大町(北海道)', '山鼻１９条', '堀川町', '函館アリーナ前', '深堀町',\n",
    "       'ロープウェイ入口', '末広町(函館)', '松風町', '競馬場前(函館)', '幌南小学校前', '中島公園通',\n",
    "       '函館駅前', '石山通', '函館どつく前', '旭川四条', '近文', '静修学園前', 'あいの里公園', '杉並町',\n",
    "       '糸井', '新川町(函館)', '千代台', '南永山', '永山', '豊幌', '宝来町', '山鼻９条'],\n",
    "      dtype=object)"
   ]
  },
  {
   "cell_type": "code",
   "execution_count": 23,
   "id": "c166cfc5-db07-4f11-94c6-c785b256de34",
   "metadata": {},
   "outputs": [],
   "source": [
    "test[\"面積（㎡）\"] = test[\"面積（㎡）\"].replace(\"2000㎡以上\", \"2000\").astype(int)\n",
    "\n",
    "train[\"最寄駅：距離（分）\"] = train[\"最寄駅：距離（分）\"].replace([\"30分?60分\",\"1H?1H30\",\"1H30?2H\", \"2H?\"], [\"45\",\"75\",\"105\",\"120\"])\n",
    "test[\"最寄駅：距離（分）\"]  = test[\"最寄駅：距離（分）\"].replace([\"30分?60分\",\"1H?1H30\",\"1H30?2H\",\"2H?\"], [\"45\",\"75\",\"105\",\"120\"])\n",
    "\n",
    "features = [\"面積（㎡）\", \"建築年\", \"最寄駅：距離（分）\", \"最寄駅：名称\"]\n",
    "\n",
    "x_train = train[features]\n",
    "y_train = train[[\"取引価格（総額）_log\"]]\n",
    "i_train = train[[\"ID\"]]\n",
    "\n",
    "x_test  = test[features]\n",
    "i_test  = test[[\"ID\"]]"
   ]
  },
  {
   "cell_type": "code",
   "execution_count": 26,
   "id": "0f070c84-d9a3-435b-9d8d-2880274278fe",
   "metadata": {},
   "outputs": [],
   "source": [
    "for col in x_train.columns:\n",
    "    if x_train[col].dtype == \"O\":\n",
    "        x_train[col] = x_train[col].astype(\"category\")\n",
    "\n",
    "for col in x_train.columns:\n",
    "    if x_test[col].dtype == \"O\":\n",
    "        x_test[col] = x_test[col].astype(\"category\")"
   ]
  },
  {
   "cell_type": "code",
   "execution_count": 27,
   "id": "08c6b12d-dbad-49af-ac6b-e29d97d731d1",
   "metadata": {},
   "outputs": [],
   "source": [
    "params = {\n",
    "    \"boosting_type\"  : \"gbdt\",\n",
    "    \"objective\"      : \"regression_l1\",\n",
    "    \"metric\"         : \"mean_absolute_error\",\n",
    "    \"learning_rate\"  : 0.02,\n",
    "    \"num_leaves\"     : 31,\n",
    "    \"n_estimators\"   : 1000,\n",
    "    \"random_state\"   : 2022,\n",
    "    \"importance_type\": \"gain\"\n",
    "}"
   ]
  },
  {
   "cell_type": "code",
   "execution_count": 28,
   "id": "535276e2-1b7a-4746-b996-b9ba6f6ab20b",
   "metadata": {},
   "outputs": [
    {
     "name": "stdout",
     "output_type": "stream",
     "text": [
      "Fold: 0\n",
      "train_x: (19840, 4), valid_x: (4960, 4)\n",
      "training start!\n",
      "Training until validation scores don't improve for 100 rounds\n",
      "[500]\ttraining's l1: 0.0995402\tvalid_1's l1: 0.115358\n",
      "[1000]\ttraining's l1: 0.0951587\tvalid_1's l1: 0.114257\n",
      "Did not meet early stopping. Best iteration is:\n",
      "[1000]\ttraining's l1: 0.0951587\tvalid_1's l1: 0.114257\n",
      "\n",
      "Fold: 1\n",
      "train_x: (19840, 4), valid_x: (4960, 4)\n",
      "training start!\n",
      "Training until validation scores don't improve for 100 rounds\n",
      "[500]\ttraining's l1: 0.0996898\tvalid_1's l1: 0.114767\n",
      "[1000]\ttraining's l1: 0.0951947\tvalid_1's l1: 0.113767\n",
      "Did not meet early stopping. Best iteration is:\n",
      "[1000]\ttraining's l1: 0.0951947\tvalid_1's l1: 0.113767\n",
      "\n",
      "Fold: 2\n",
      "train_x: (19840, 4), valid_x: (4960, 4)\n",
      "training start!\n",
      "Training until validation scores don't improve for 100 rounds\n",
      "[500]\ttraining's l1: 0.0999316\tvalid_1's l1: 0.110776\n",
      "[1000]\ttraining's l1: 0.0952001\tvalid_1's l1: 0.1102\n",
      "Did not meet early stopping. Best iteration is:\n",
      "[1000]\ttraining's l1: 0.0952001\tvalid_1's l1: 0.1102\n",
      "\n",
      "Fold: 3\n",
      "train_x: (19840, 4), valid_x: (4960, 4)\n",
      "training start!\n",
      "Training until validation scores don't improve for 100 rounds\n",
      "[500]\ttraining's l1: 0.0998284\tvalid_1's l1: 0.1133\n",
      "[1000]\ttraining's l1: 0.0954711\tvalid_1's l1: 0.112483\n",
      "Did not meet early stopping. Best iteration is:\n",
      "[1000]\ttraining's l1: 0.0954711\tvalid_1's l1: 0.112483\n",
      "\n",
      "Fold: 4\n",
      "train_x: (19840, 4), valid_x: (4960, 4)\n",
      "training start!\n",
      "Training until validation scores don't improve for 100 rounds\n",
      "[500]\ttraining's l1: 0.100836\tvalid_1's l1: 0.109332\n",
      "[1000]\ttraining's l1: 0.0963099\tvalid_1's l1: 0.108387\n",
      "Did not meet early stopping. Best iteration is:\n",
      "[1000]\ttraining's l1: 0.0963099\tvalid_1's l1: 0.108387\n",
      "\n"
     ]
    }
   ],
   "source": [
    "import pickle\n",
    "import numpy as np\n",
    "import lightgbm as lgb\n",
    "\n",
    "from sklearn.model_selection import KFold\n",
    "\n",
    "df_valid_pred = pd.DataFrame()\n",
    "metrics = []\n",
    "df_imp  = pd.DataFrame()\n",
    "\n",
    "n_splits = 5\n",
    "cv = list(KFold(n_splits=n_splits, shuffle=True, random_state=2022).split(x_train))\n",
    "\n",
    "for nfold, i in enumerate(cv):\n",
    "    print(f\"Fold: {nfold}\")\n",
    "    i_tr, i_va = i[0], i[1]\n",
    "    x_tr, y_tr, i_tr = x_train.loc[i_tr], y_train.loc[i_tr], i_train.loc[i_tr]\n",
    "    x_va, y_va, i_va = x_train.loc[i_va], y_train.loc[i_va], i_train.loc[i_va]\n",
    "    print(f\"train_x: {x_tr.shape}, valid_x: {x_va.shape}\")\n",
    "    \n",
    "    print(\"training start!\")\n",
    "    model = lgb.LGBMRegressor(**params)\n",
    "    model.fit(x_tr,\n",
    "              y_tr,\n",
    "              eval_set=[(x_tr, y_tr), (x_va, y_va)],\n",
    "              early_stopping_rounds=100,\n",
    "              verbose=500)\n",
    "    \n",
    "    with open(f\"model_lgb_fold{nfold}.h5\", \"wb\") as f:\n",
    "        pickle.dump(model, f, protocol=4)\n",
    "    \n",
    "    p_va = model.predict(x_va)\n",
    "    tmp_pred = pd.DataFrame({\"p_va\": p_va, \"y_va\": np.array(y_va).reshape(-1)})\n",
    "    \n",
    "    df_valid_pred = pd.concat([df_valid_pred, tmp_pred], ignore_index=True)\n",
    "    \n",
    "    metric_va = mean_absolute_error(y_va, p_va)\n",
    "    metrics.append([nfold, metric_va])\n",
    "    \n",
    "    tmp_imp = pd.DataFrame({\"col\"  : x_tr.columns,\n",
    "                            \"imp\"  : model.feature_importances_,\n",
    "                            \"nfold\": nfold\n",
    "                           })\n",
    "    tmp_imp.sort_values(by=\"imp\", ascending=False)\n",
    "    df_imp = pd.concat([df_imp, tmp_imp], ignore_index=True)\n",
    "    \n",
    "    print()"
   ]
  },
  {
   "cell_type": "code",
   "execution_count": 29,
   "id": "7f1348a7-86af-478f-ae4e-7d5cb9b78fdf",
   "metadata": {},
   "outputs": [
    {
     "name": "stdout",
     "output_type": "stream",
     "text": [
      "MAE: 0.111819\n"
     ]
    }
   ],
   "source": [
    "df_metrics = pd.DataFrame(metrics, columns=[\"nfold\", \"mae\"])\n",
    "mae_mean = df_metrics[\"mae\"].mean()\n",
    "print(f\"MAE: {round(mae_mean, 6)}\")"
   ]
  },
  {
   "cell_type": "code",
   "execution_count": 30,
   "id": "abfe978f-ac6a-4d5a-9d73-4d46323340c9",
   "metadata": {},
   "outputs": [
    {
     "data": {
      "text/plain": [
       "-0.010220925213425972"
      ]
     },
     "execution_count": 30,
     "metadata": {},
     "output_type": "execute_result"
    }
   ],
   "source": [
    "(df_valid_pred[\"y_va\"] - df_valid_pred[\"p_va\"]).mean()"
   ]
  },
  {
   "cell_type": "code",
   "execution_count": 46,
   "id": "cb226e0a-4fb4-4fe1-b5f1-4dc7854b5226",
   "metadata": {},
   "outputs": [
    {
     "data": {
      "text/html": [
       "<div>\n",
       "<style scoped>\n",
       "    .dataframe tbody tr th:only-of-type {\n",
       "        vertical-align: middle;\n",
       "    }\n",
       "\n",
       "    .dataframe tbody tr th {\n",
       "        vertical-align: top;\n",
       "    }\n",
       "\n",
       "    .dataframe thead th {\n",
       "        text-align: right;\n",
       "    }\n",
       "</style>\n",
       "<table border=\"1\" class=\"dataframe\">\n",
       "  <thead>\n",
       "    <tr style=\"text-align: right;\">\n",
       "      <th></th>\n",
       "      <th>mean</th>\n",
       "    </tr>\n",
       "    <tr>\n",
       "      <th>col</th>\n",
       "      <th></th>\n",
       "    </tr>\n",
       "  </thead>\n",
       "  <tbody>\n",
       "    <tr>\n",
       "      <th>建築年</th>\n",
       "      <td>494659.797483</td>\n",
       "    </tr>\n",
       "    <tr>\n",
       "      <th>最寄駅：名称</th>\n",
       "      <td>187493.966949</td>\n",
       "    </tr>\n",
       "    <tr>\n",
       "      <th>面積（㎡）</th>\n",
       "      <td>165662.240981</td>\n",
       "    </tr>\n",
       "    <tr>\n",
       "      <th>最寄駅：距離（分）</th>\n",
       "      <td>95447.170380</td>\n",
       "    </tr>\n",
       "  </tbody>\n",
       "</table>\n",
       "</div>"
      ],
      "text/plain": [
       "                    mean\n",
       "col                     \n",
       "建築年        494659.797483\n",
       "最寄駅：名称     187493.966949\n",
       "面積（㎡）      165662.240981\n",
       "最寄駅：距離（分）   95447.170380"
      ]
     },
     "execution_count": 46,
     "metadata": {},
     "output_type": "execute_result"
    }
   ],
   "source": [
    "df_imp.groupby(\"col\")[\"imp\"].agg([\"mean\"]).sort_values(by=\"mean\", ascending=False)"
   ]
  },
  {
   "cell_type": "code",
   "execution_count": 31,
   "id": "4241def1-ef9e-49e0-a9b8-294a8bd368a5",
   "metadata": {},
   "outputs": [],
   "source": [
    "n_folds = 5\n",
    "\n",
    "def predict_lgb(input_x, input_id, n_folds):\n",
    "    for nfold in range(n_folds):\n",
    "        print(\"-\"*20, \" Fold: \", nfold, \" \", \"-\"*20)\n",
    "        print()\n",
    "        # モデル読み込み\n",
    "        with open(f\"./model_lgb_fold{nfold}.h5\", \"rb\") as f:\n",
    "            model = pickle.load(f)\n",
    "\n",
    "        # 推論\n",
    "        pred = model.predict(input_x)\n",
    "\n",
    "        # 予測値の格納\n",
    "        input_id[f\"fold{nfold}\"] = pred\n",
    "            \n",
    "    return input_id"
   ]
  },
  {
   "cell_type": "code",
   "execution_count": 32,
   "id": "370f5882-a0bf-4313-98a9-3162fd4d42d3",
   "metadata": {},
   "outputs": [
    {
     "name": "stdout",
     "output_type": "stream",
     "text": [
      "--------------------  Fold:  0   --------------------\n",
      "\n",
      "--------------------  Fold:  1   --------------------\n",
      "\n",
      "--------------------  Fold:  2   --------------------\n",
      "\n",
      "--------------------  Fold:  3   --------------------\n",
      "\n",
      "--------------------  Fold:  4   --------------------\n",
      "\n"
     ]
    }
   ],
   "source": [
    "# 学習モデルを用いた推論処理\n",
    "df_test_pred = predict_lgb(x_test, i_test, n_folds)"
   ]
  },
  {
   "cell_type": "code",
   "execution_count": 33,
   "id": "b6dfcc48-896d-4a6b-97cf-a4d43afe2843",
   "metadata": {},
   "outputs": [],
   "source": [
    "submit[\"取引価格（総額）_log\"] = df_test_pred[[\"fold0\",\"fold1\",\"fold2\",\"fold3\",\"fold4\"]].mean(axis=1)\n",
    "submit.to_csv(\"submission.csv\", index=False)"
   ]
  },
  {
   "cell_type": "markdown",
   "id": "31d87f09-0b79-4dbf-ae34-a4bd8cdda254",
   "metadata": {},
   "source": [
    "# cv: 0.111819\n",
    "# public_score: 0.3805"
   ]
  }
 ],
 "metadata": {
  "kernelspec": {
   "display_name": "Python 3",
   "language": "python",
   "name": "python3"
  },
  "language_info": {
   "codemirror_mode": {
    "name": "ipython",
    "version": 3
   },
   "file_extension": ".py",
   "mimetype": "text/x-python",
   "name": "python",
   "nbconvert_exporter": "python",
   "pygments_lexer": "ipython3",
   "version": "3.8.8"
  }
 },
 "nbformat": 4,
 "nbformat_minor": 5
}
