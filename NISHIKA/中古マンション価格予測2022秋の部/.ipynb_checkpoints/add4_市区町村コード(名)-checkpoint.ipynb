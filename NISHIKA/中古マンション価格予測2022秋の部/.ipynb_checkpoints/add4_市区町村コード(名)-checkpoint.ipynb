{
 "cells": [
  {
   "cell_type": "code",
   "execution_count": 63,
   "id": "8c3853a0-1605-47ac-b491-e273ba14deee",
   "metadata": {},
   "outputs": [],
   "source": [
    "import warnings\n",
    "import pandas as pd\n",
    "\n",
    "from sklearn.metrics import mean_absolute_error\n",
    "\n",
    "pd.set_option(\"display.max_columns\", 50)\n",
    "warnings.simplefilter(\"ignore\")\n",
    "\n",
    "train  = pd.read_csv(\"train/01.csv\")\n",
    "test   = pd.read_csv(\"test.csv\")\n",
    "submit = pd.read_csv(\"sample_submission.csv\")"
   ]
  },
  {
   "cell_type": "code",
   "execution_count": 64,
   "id": "bce2b93c-42c4-4362-ab0f-bca7a2533369",
   "metadata": {},
   "outputs": [],
   "source": [
    "# 種類：中古マンション等のみ 必要なし\n",
    "del train[\"種類\"]\n",
    "del test[\"種類\"]\n",
    "\n",
    "# 種類：nanのみ 必要なし\n",
    "del train[\"地域\"]\n",
    "del test[\"地域\"]\n",
    "\n",
    "# 重複 \"市区町村名\" 必要なし\n",
    "del train[\"市区町村名\"]\n",
    "del test[\"市区町村名\"]"
   ]
  },
  {
   "cell_type": "markdown",
   "id": "dede9c3e-6891-416d-a50e-3b4670171df8",
   "metadata": {},
   "source": [
    "- 'ID'\n",
    "- '市区町村コード'\n",
    "- '都道府県名'\n",
    "- '市区町村名'\n",
    "- '地区名'\n",
    "- '間取り'\n",
    "- '土地の形状'\n",
    "- '間口', '延床面積（㎡）'\n",
    "- '建物の構造'\n",
    "- '用途'\n",
    "- '今後の利用目的'\n",
    "- '前面道路：方位'\n",
    "- '前面道路：種類'\n",
    "- '前面道路：幅員（ｍ）'\n",
    "- '都市計画'\n",
    "- '建ぺい率（％）'\n",
    "- '容積率（％）'\n",
    "- '取引時点'\n",
    "- '改装'\n",
    "- '取引の事情等'"
   ]
  },
  {
   "cell_type": "code",
   "execution_count": 78,
   "id": "238001c5-f100-41a5-8d2e-a3c76d377b40",
   "metadata": {},
   "outputs": [
    {
     "data": {
      "text/plain": [
       "array(['札幌市中央区', '札幌市豊平区', '札幌市北区', '札幌市厚別区', '小樽市', '札幌市白石区', '苫小牧市',\n",
       "       '札幌市東区', '旭川市', '札幌市手稲区', '札幌市南区', '札幌市西区', '函館市', '釧路市', '札幌市清田区',\n",
       "       '江別市', '帯広市', '北見市'], dtype=object)"
      ]
     },
     "execution_count": 78,
     "metadata": {},
     "output_type": "execute_result"
    }
   ],
   "source": [
    "train[\"市区町村名\"].unique()"
   ]
  },
  {
   "cell_type": "code",
   "execution_count": 65,
   "id": "2f3eeb52-f31a-4d5a-af3e-30a35056f57f",
   "metadata": {},
   "outputs": [
    {
     "data": {
      "text/plain": [
       "array([1101, 1105, 1102, 1108, 1203, 1104, 1213, 1103, 1204, 1109, 1106,\n",
       "       1107, 1202, 1206, 1110, 1217, 1207, 1208])"
      ]
     },
     "execution_count": 65,
     "metadata": {},
     "output_type": "execute_result"
    }
   ],
   "source": [
    "train[\"市区町村コード\"].unique()"
   ]
  },
  {
   "cell_type": "code",
   "execution_count": 79,
   "id": "01fa066a-bb1c-4aac-beae-b05e78de1dcd",
   "metadata": {},
   "outputs": [],
   "source": [
    "test[\"面積（㎡）\"] = test[\"面積（㎡）\"].replace(\"2000㎡以上\", \"2000\").astype(int)\n",
    "\n",
    "train[\"最寄駅：距離（分）\"] = train[\"最寄駅：距離（分）\"].replace([\"30分?60分\",\"1H?1H30\",\"1H30?2H\", \"2H?\"], [\"45\",\"75\",\"105\",\"120\"])\n",
    "test[\"最寄駅：距離（分）\"]  = test[\"最寄駅：距離（分）\"].replace([\"30分?60分\",\"1H?1H30\",\"1H30?2H\",\"2H?\"], [\"45\",\"75\",\"105\",\"120\"])\n",
    "\n",
    "train[\"市区町村コード\"] = train[\"市区町村コード\"].astype(\"category\")\n",
    "test[\"市区町村コード\"] = test[\"市区町村コード\"].astype(\"category\")\n",
    "\n",
    "features = [\"面積（㎡）\", \"建築年\", \"最寄駅：距離（分）\", \"最寄駅：名称\",\n",
    "            \"市区町村コード\"\n",
    "           ]\n",
    "\n",
    "x_train = train[features]\n",
    "y_train = train[[\"取引価格（総額）_log\"]]\n",
    "i_train = train[[\"ID\"]]\n",
    "\n",
    "x_test  = test[features]\n",
    "i_test  = test[[\"ID\"]]"
   ]
  },
  {
   "cell_type": "code",
   "execution_count": 80,
   "id": "cfdf0e9d-50d2-45ba-8d27-df7ebee50e56",
   "metadata": {},
   "outputs": [],
   "source": [
    "for col in x_train.columns:\n",
    "    if x_train[col].dtype == \"O\":\n",
    "        x_train[col] = x_train[col].astype(\"category\")\n",
    "\n",
    "for col in x_train.columns:\n",
    "    if x_test[col].dtype == \"O\":\n",
    "        x_test[col] = x_test[col].astype(\"category\")"
   ]
  },
  {
   "cell_type": "code",
   "execution_count": 81,
   "id": "fb827c10-3f99-443d-9397-f661d795732e",
   "metadata": {},
   "outputs": [],
   "source": [
    "params = {\n",
    "    \"boosting_type\"  : \"gbdt\",\n",
    "    \"objective\"      : \"regression_l1\",\n",
    "    \"metric\"         : \"mean_absolute_error\",\n",
    "    \"learning_rate\"  : 0.1,\n",
    "    \"num_leaves\"     : 31,\n",
    "    \"n_estimators\"   : 1000,\n",
    "    \"random_state\"   : 2022,\n",
    "    \"importance_type\": \"gain\"\n",
    "}"
   ]
  },
  {
   "cell_type": "code",
   "execution_count": 82,
   "id": "64a972e3-dad7-44ac-a1d7-ff8ee7986f00",
   "metadata": {},
   "outputs": [
    {
     "name": "stdout",
     "output_type": "stream",
     "text": [
      "Fold: 0\n",
      "train_x: (19840, 6), valid_x: (4960, 6)\n",
      "training start!\n",
      "Training until validation scores don't improve for 100 rounds\n",
      "[500]\ttraining's l1: 0.0901971\tvalid_1's l1: 0.113672\n",
      "Early stopping, best iteration is:\n",
      "[729]\ttraining's l1: 0.0883044\tvalid_1's l1: 0.113424\n",
      "\n",
      "Fold: 1\n",
      "train_x: (19840, 6), valid_x: (4960, 6)\n",
      "training start!\n",
      "Training until validation scores don't improve for 100 rounds\n",
      "[500]\ttraining's l1: 0.0897953\tvalid_1's l1: 0.113208\n",
      "Early stopping, best iteration is:\n",
      "[899]\ttraining's l1: 0.087094\tvalid_1's l1: 0.113092\n",
      "\n",
      "Fold: 2\n",
      "train_x: (19840, 6), valid_x: (4960, 6)\n",
      "training start!\n",
      "Training until validation scores don't improve for 100 rounds\n",
      "Early stopping, best iteration is:\n",
      "[399]\ttraining's l1: 0.0912774\tvalid_1's l1: 0.109902\n",
      "\n",
      "Fold: 3\n",
      "train_x: (19840, 6), valid_x: (4960, 6)\n",
      "training start!\n",
      "Training until validation scores don't improve for 100 rounds\n",
      "[500]\ttraining's l1: 0.0903382\tvalid_1's l1: 0.112696\n",
      "[1000]\ttraining's l1: 0.0871327\tvalid_1's l1: 0.112566\n",
      "Did not meet early stopping. Best iteration is:\n",
      "[1000]\ttraining's l1: 0.0871327\tvalid_1's l1: 0.112566\n",
      "\n",
      "Fold: 4\n",
      "train_x: (19840, 6), valid_x: (4960, 6)\n",
      "training start!\n",
      "Training until validation scores don't improve for 100 rounds\n",
      "[500]\ttraining's l1: 0.0910974\tvalid_1's l1: 0.108048\n",
      "Early stopping, best iteration is:\n",
      "[626]\ttraining's l1: 0.089973\tvalid_1's l1: 0.108003\n",
      "\n"
     ]
    }
   ],
   "source": [
    "import pickle\n",
    "import numpy as np\n",
    "import lightgbm as lgb\n",
    "\n",
    "from sklearn.model_selection import KFold\n",
    "\n",
    "df_valid_pred = pd.DataFrame()\n",
    "metrics = []\n",
    "df_imp  = pd.DataFrame()\n",
    "\n",
    "n_splits = 5\n",
    "cv = list(KFold(n_splits=n_splits, shuffle=True, random_state=2022).split(x_train))\n",
    "\n",
    "for nfold, i in enumerate(cv):\n",
    "    print(f\"Fold: {nfold}\")\n",
    "    i_tr, i_va = i[0], i[1]\n",
    "    x_tr, y_tr, i_tr = x_train.loc[i_tr], y_train.loc[i_tr], i_train.loc[i_tr]\n",
    "    x_va, y_va, i_va = x_train.loc[i_va], y_train.loc[i_va], i_train.loc[i_va]\n",
    "    print(f\"train_x: {x_tr.shape}, valid_x: {x_va.shape}\")\n",
    "    \n",
    "    print(\"training start!\")\n",
    "    model = lgb.LGBMRegressor(**params)\n",
    "    model.fit(x_tr,\n",
    "              y_tr,\n",
    "              eval_set=[(x_tr, y_tr), (x_va, y_va)],\n",
    "              early_stopping_rounds=100,\n",
    "              verbose=500)\n",
    "    \n",
    "    with open(f\"model_lgb_fold{nfold}.h5\", \"wb\") as f:\n",
    "        pickle.dump(model, f, protocol=4)\n",
    "    \n",
    "    p_va = model.predict(x_va)\n",
    "    tmp_pred = pd.DataFrame({\"p_va\": p_va, \"y_va\": np.array(y_va).reshape(-1)})\n",
    "    \n",
    "    df_valid_pred = pd.concat([df_valid_pred, tmp_pred], ignore_index=True)\n",
    "    \n",
    "    metric_va = mean_absolute_error(y_va, p_va)\n",
    "    metrics.append([nfold, metric_va])\n",
    "    \n",
    "    tmp_imp = pd.DataFrame({\"col\"  : x_tr.columns,\n",
    "                            \"imp\"  : model.feature_importances_,\n",
    "                            \"nfold\": nfold\n",
    "                           })\n",
    "    tmp_imp.sort_values(by=\"imp\", ascending=False)\n",
    "    df_imp = pd.concat([df_imp, tmp_imp], ignore_index=True)\n",
    "    \n",
    "    print()"
   ]
  },
  {
   "cell_type": "code",
   "execution_count": 83,
   "id": "d30aa810-88d1-4e2a-8ab0-05beb689aff4",
   "metadata": {},
   "outputs": [
    {
     "name": "stdout",
     "output_type": "stream",
     "text": [
      "MAE: 0.111397\n"
     ]
    }
   ],
   "source": [
    "df_metrics = pd.DataFrame(metrics, columns=[\"nfold\", \"mae\"])\n",
    "mae_mean = df_metrics[\"mae\"].mean()\n",
    "print(f\"MAE: {round(mae_mean, 6)}\")"
   ]
  },
  {
   "cell_type": "code",
   "execution_count": 49,
   "id": "3e9d1512-3b2f-4757-8f60-3ce7e9008dc4",
   "metadata": {},
   "outputs": [
    {
     "data": {
      "text/plain": [
       "-0.01013902078902145"
      ]
     },
     "execution_count": 49,
     "metadata": {},
     "output_type": "execute_result"
    }
   ],
   "source": [
    "(df_valid_pred[\"y_va\"] - df_valid_pred[\"p_va\"]).mean()"
   ]
  },
  {
   "cell_type": "code",
   "execution_count": 50,
   "id": "06f060e7-8c58-40a3-8f36-9ba4e8179a29",
   "metadata": {},
   "outputs": [
    {
     "data": {
      "text/html": [
       "<div>\n",
       "<style scoped>\n",
       "    .dataframe tbody tr th:only-of-type {\n",
       "        vertical-align: middle;\n",
       "    }\n",
       "\n",
       "    .dataframe tbody tr th {\n",
       "        vertical-align: top;\n",
       "    }\n",
       "\n",
       "    .dataframe thead th {\n",
       "        text-align: right;\n",
       "    }\n",
       "</style>\n",
       "<table border=\"1\" class=\"dataframe\">\n",
       "  <thead>\n",
       "    <tr style=\"text-align: right;\">\n",
       "      <th></th>\n",
       "      <th>mean</th>\n",
       "    </tr>\n",
       "    <tr>\n",
       "      <th>col</th>\n",
       "      <th></th>\n",
       "    </tr>\n",
       "  </thead>\n",
       "  <tbody>\n",
       "    <tr>\n",
       "      <th>建築年</th>\n",
       "      <td>494545.485434</td>\n",
       "    </tr>\n",
       "    <tr>\n",
       "      <th>最寄駅：名称</th>\n",
       "      <td>183846.555234</td>\n",
       "    </tr>\n",
       "    <tr>\n",
       "      <th>面積（㎡）</th>\n",
       "      <td>164563.024951</td>\n",
       "    </tr>\n",
       "    <tr>\n",
       "      <th>最寄駅：距離（分）</th>\n",
       "      <td>94368.087038</td>\n",
       "    </tr>\n",
       "    <tr>\n",
       "      <th>市区町村コード</th>\n",
       "      <td>7441.152718</td>\n",
       "    </tr>\n",
       "  </tbody>\n",
       "</table>\n",
       "</div>"
      ],
      "text/plain": [
       "                    mean\n",
       "col                     \n",
       "建築年        494545.485434\n",
       "最寄駅：名称     183846.555234\n",
       "面積（㎡）      164563.024951\n",
       "最寄駅：距離（分）   94368.087038\n",
       "市区町村コード      7441.152718"
      ]
     },
     "execution_count": 50,
     "metadata": {},
     "output_type": "execute_result"
    }
   ],
   "source": [
    "df_imp.groupby(\"col\")[\"imp\"].agg([\"mean\"]).sort_values(by=\"mean\", ascending=False)"
   ]
  },
  {
   "cell_type": "code",
   "execution_count": 61,
   "id": "d420e295-281e-4b03-8ec1-8ce7aff832e2",
   "metadata": {},
   "outputs": [],
   "source": [
    "# n_folds = 5\n",
    "\n",
    "# def predict_lgb(input_x, input_id, n_folds):\n",
    "#     for nfold in range(n_folds):\n",
    "#         print(\"-\"*20, \" Fold: \", nfold, \" \", \"-\"*20)\n",
    "#         print()\n",
    "#         # モデル読み込み\n",
    "#         with open(f\"./model_lgb_fold{nfold}.h5\", \"rb\") as f:\n",
    "#             model = pickle.load(f)\n",
    "\n",
    "#         # 推論\n",
    "#         pred = model.predict(input_x)\n",
    "\n",
    "#         # 予測値の格納\n",
    "#         input_id[f\"fold{nfold}\"] = pred\n",
    "            \n",
    "#     return input_id"
   ]
  },
  {
   "cell_type": "code",
   "execution_count": 60,
   "id": "e80cfdf4-8fde-493a-9c8a-4d341957916d",
   "metadata": {},
   "outputs": [],
   "source": [
    "# # 学習モデルを用いた推論処理\n",
    "# df_test_pred = predict_lgb(x_test, i_test, n_folds)"
   ]
  },
  {
   "cell_type": "code",
   "execution_count": 62,
   "id": "d4b0767b-3b2f-46ec-838e-c15fb7117080",
   "metadata": {},
   "outputs": [],
   "source": [
    "# submit[\"取引価格（総額）_log\"] = df_test_pred[[\"fold0\",\"fold1\",\"fold2\",\"fold3\",\"fold4\"]].mean(axis=1)\n",
    "# submit.to_csv(\"submission.csv\", index=False)"
   ]
  },
  {
   "cell_type": "markdown",
   "id": "b0cf4935-af31-4831-b0e2-b424c37f6d18",
   "metadata": {},
   "source": [
    "# learning_rate: 0.02\n",
    "# cv: 0.111731\n",
    "# public_score: なし\n",
    "# public_score(all_data): 0.1140(cv: 0.091347)\n",
    "# ---------------------------------------------\n",
    "# learning_rate: 0.1\n",
    "# cv: 0.111397\n",
    "# public_score(all_data): 0.1127(cv: 0.090326)"
   ]
  }
 ],
 "metadata": {
  "kernelspec": {
   "display_name": "Python 3",
   "language": "python",
   "name": "python3"
  },
  "language_info": {
   "codemirror_mode": {
    "name": "ipython",
    "version": 3
   },
   "file_extension": ".py",
   "mimetype": "text/x-python",
   "name": "python",
   "nbconvert_exporter": "python",
   "pygments_lexer": "ipython3",
   "version": "3.8.8"
  }
 },
 "nbformat": 4,
 "nbformat_minor": 5
}
