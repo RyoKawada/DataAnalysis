{
 "cells": [
  {
   "cell_type": "code",
   "execution_count": 1,
   "id": "c8a03d2b-341f-4dd0-8412-45d574473a7c",
   "metadata": {},
   "outputs": [],
   "source": [
    "import warnings\n",
    "import pandas as pd\n",
    "\n",
    "from sklearn.metrics import mean_absolute_error\n",
    "\n",
    "pd.set_option(\"display.max_columns\", 50)\n",
    "warnings.simplefilter(\"ignore\")\n",
    "\n",
    "train  = pd.read_csv(\"train/01.csv\")\n",
    "test   = pd.read_csv(\"test.csv\")\n",
    "submit = pd.read_csv(\"sample_submission.csv\")"
   ]
  },
  {
   "cell_type": "code",
   "execution_count": 2,
   "id": "cfdedc5a-d807-4b07-ad18-f05f0369e82d",
   "metadata": {},
   "outputs": [],
   "source": [
    "# 種類：中古マンション等のみ 必要なし\n",
    "del train[\"種類\"]\n",
    "del test[\"種類\"]\n",
    "\n",
    "# 種類：nanのみ 必要なし\n",
    "del train[\"地域\"]\n",
    "del test[\"地域\"]"
   ]
  },
  {
   "cell_type": "code",
   "execution_count": 14,
   "id": "d3a3a1bf-a929-4ccf-931d-b322f2044cbf",
   "metadata": {},
   "outputs": [
    {
     "name": "stdout",
     "output_type": "stream",
     "text": [
      "-------- Train --------\n",
      "['平成8年' '平成19年' '平成25年' '平成10年' '平成7年' '平成15年' '平成6年' '昭和64年' '平成21年'\n",
      " '平成3年' '平成18年' nan '平成11年' '平成13年' '平成16年' '昭和57年' '昭和58年' '平成2年' '平成17年'\n",
      " '昭和49年' '平成9年' '平成14年' '昭和55年' '平成5年' '平成4年' '昭和48年' '昭和53年' '昭和52年'\n",
      " '昭和62年' '昭和61年' '昭和59年' '平成24年' '昭和60年' '平成20年' '昭和56年' '昭和63年' '昭和54年'\n",
      " '平成22年' '昭和50年' '平成12年' '平成23年' '昭和45年' '平成26年' '昭和51年' '令和3年' '平成27年'\n",
      " '平成28年' '昭和46年' '昭和44年' '令和2年' '平成29年' '平成30年' '平成31年' '昭和43年' '昭和47年'\n",
      " '昭和39年' '戦前']\n",
      "\n",
      "-------- Test --------\n",
      "['昭和64年' '平成3年' '昭和61年' '昭和59年' '平成2年' '平成9年' '平成19年' '平成16年' '令和2年'\n",
      " '平成31年' '昭和49年' '昭和57年' '平成28年' '平成24年' '平成18年' '平成14年' '平成17年' '平成26年'\n",
      " '平成30年' '平成21年' '昭和45年' '平成29年' '令和3年' '平成25年' '昭和53年' '昭和60年' '昭和54年'\n",
      " '平成4年' '平成11年' '平成6年' '昭和63年' '平成5年' '平成7年' '平成8年' '昭和51年' '昭和56年'\n",
      " '昭和48年' '昭和44年' '平成15年' '平成13年' '昭和46年' '平成12年' '昭和55年' '平成27年' nan\n",
      " '昭和62年' '昭和39年' '平成20年' '平成10年' '昭和52年' '昭和58年' '平成22年' '昭和50年' '昭和47年'\n",
      " '平成23年' '令和4年' '昭和43年' '昭和42年' '昭和41年' '昭和37年' '昭和25年' '昭和40年' '戦前'\n",
      " '昭和23年']\n"
     ]
    }
   ],
   "source": [
    "print(\"-------- Train --------\")\n",
    "print(train[\"建築年\"].unique())\n",
    "print()\n",
    "print(\"-------- Test --------\")\n",
    "print(test[\"建築年\"].unique())"
   ]
  },
  {
   "cell_type": "code",
   "execution_count": null,
   "id": "bbe88a7a-80e6-4bda-84cf-3273d8c8edc6",
   "metadata": {},
   "outputs": [],
   "source": [
    "def convert_wareki_to_seireki(wareki):\n",
    "    if wareki == wareki:\n",
    "        if wareki == '戦前':\n",
    "            wareki = '昭和20年'\n",
    "        value = wareki[2:-1]\n",
    "        if value == '元':\n",
    "            value = 1\n",
    "        else:\n",
    "            value = int(value)\n",
    "        if '昭和' in wareki:\n",
    "            seireki = 1925+value\n",
    "        elif '平成' in wareki:\n",
    "            seireki = 1988+value\n",
    "        elif '令和' in wareki:\n",
    "            seireki = 2018+value\n",
    "    else:\n",
    "        seireki = wareki\n",
    "    return seireki"
   ]
  },
  {
   "cell_type": "code",
   "execution_count": 25,
   "id": "77cfbfc2-c118-4518-9a84-d2d2d8777363",
   "metadata": {},
   "outputs": [
    {
     "name": "stdout",
     "output_type": "stream",
     "text": [
      "[1996. 2007. 2013. 1998. 1995. 2003. 1994. 1989. 2009. 1991. 2006.   nan\n",
      " 1999. 2001. 2004. 1982. 1983. 1990. 2005. 1974. 1997. 2002. 1980. 1993.\n",
      " 1992. 1973. 1978. 1977. 1987. 1986. 1984. 2012. 1985. 2008. 1981. 1988.\n",
      " 1979. 2010. 1975. 2000. 2011. 1970. 2014. 1976. 2021. 2015. 2016. 1971.\n",
      " 1969. 2020. 2017. 2018. 2019. 1968. 1972. 1964. 1945.]\n",
      "\n",
      "[1989. 1991. 1986. 1984. 1990. 1997. 2007. 2004. 2020. 2019. 1974. 1982.\n",
      " 2016. 2012. 2006. 2002. 2005. 2014. 2018. 2009. 1970. 2017. 2021. 2013.\n",
      " 1978. 1985. 1979. 1992. 1999. 1994. 1988. 1993. 1995. 1996. 1976. 1981.\n",
      " 1973. 1969. 2003. 2001. 1971. 2000. 1980. 2015.   nan 1987. 1964. 2008.\n",
      " 1998. 1977. 1983. 2010. 1975. 1972. 2011. 2022. 1968. 1967. 1966. 1962.\n",
      " 1950. 1965. 1945. 1948.]\n"
     ]
    }
   ],
   "source": [
    "def convert_wareki_to_seireki(wareki):\n",
    "    if wareki == wareki:\n",
    "        # convert 戦前\n",
    "        if wareki == \"戦前\":\n",
    "            wareki = \"昭和20年\"\n",
    "            \n",
    "        # storing number\n",
    "        value = wareki[2:-1]\n",
    "        \n",
    "        if value == \"元\":\n",
    "            value = 1\n",
    "        else:\n",
    "            value = int(value)\n",
    "        \n",
    "        # convert 元号\n",
    "        if \"昭和\" in wareki:\n",
    "            seireki = 1925 + value\n",
    "        elif \"平成\" in wareki:\n",
    "            seireki = 1988 + value\n",
    "        elif \"令和\" in wareki:\n",
    "            seireki = 2018 + value    \n",
    "    else:\n",
    "        seireki = wareki\n",
    "    return seireki\n",
    "\n",
    "print(train[\"建築年\"].apply(lambda x: convert_wareki_to_seireki(x)).unique())\n",
    "print()\n",
    "print(test[\"建築年\"].apply(lambda x: convert_wareki_to_seireki(x)).unique())"
   ]
  },
  {
   "cell_type": "code",
   "execution_count": 26,
   "id": "399fcbee-f686-4d8e-a0ff-7a65c685ff02",
   "metadata": {},
   "outputs": [],
   "source": [
    "test[\"面積（㎡）\"] = test[\"面積（㎡）\"].replace(\"2000㎡以上\", \"2000\").astype(int)\n",
    "\n",
    "train[\"建築年\"] = train[\"建築年\"].apply(lambda x: convert_wareki_to_seireki(x))\n",
    "test[\"建築年\"]  = test[\"建築年\"].apply(lambda x: convert_wareki_to_seireki(x))\n",
    "\n",
    "features = [\"面積（㎡）\", \"建築年\"]\n",
    "\n",
    "x_train = train[features]\n",
    "y_train = train[[\"取引価格（総額）_log\"]]\n",
    "i_train = train[[\"ID\"]]\n",
    "\n",
    "x_test  = test[features]\n",
    "i_test  = test[[\"ID\"]]"
   ]
  },
  {
   "cell_type": "code",
   "execution_count": 27,
   "id": "58313d90-de0e-4464-9c30-12d70d1eb93d",
   "metadata": {},
   "outputs": [],
   "source": [
    "for col in x_train.columns:\n",
    "    if x_train[col].dtype == \"O\":\n",
    "        x_train[col] = x_train[col].astype(\"category\")\n",
    "\n",
    "for col in x_test.columns:\n",
    "    if x_test[col].dtype == \"O\":\n",
    "        x_test[col] = x_test[col].astype(\"category\")"
   ]
  },
  {
   "cell_type": "code",
   "execution_count": 28,
   "id": "0e9ddae2-3234-405e-9137-21ce76502dd2",
   "metadata": {},
   "outputs": [],
   "source": [
    "params = {\n",
    "    \"boosting_type\"  : \"gbdt\",\n",
    "    \"objective\"      : \"regression_l1\",\n",
    "    \"metric\"         : \"mean_absolute_error\",\n",
    "    \"learning_rate\"  : 0.02,\n",
    "    \"num_leaves\"     : 31,\n",
    "    \"n_estimators\"   : 1000,\n",
    "    \"random_state\"   : 2022,\n",
    "    \"importance_type\": \"gain\"\n",
    "}"
   ]
  },
  {
   "cell_type": "code",
   "execution_count": 29,
   "id": "cc989a27-abf6-406c-96bb-1072083bb129",
   "metadata": {},
   "outputs": [
    {
     "name": "stdout",
     "output_type": "stream",
     "text": [
      "Fold: 0\n",
      "train_x: (19840, 2), valid_x: (4960, 2)\n",
      "training start!\n",
      "Training until validation scores don't improve for 100 rounds\n",
      "[500]\ttraining's l1: 0.135599\tvalid_1's l1: 0.138617\n",
      "Early stopping, best iteration is:\n",
      "[530]\ttraining's l1: 0.135483\tvalid_1's l1: 0.138581\n",
      "\n",
      "Fold: 1\n",
      "train_x: (19840, 2), valid_x: (4960, 2)\n",
      "training start!\n",
      "Training until validation scores don't improve for 100 rounds\n",
      "[500]\ttraining's l1: 0.135016\tvalid_1's l1: 0.14259\n",
      "[1000]\ttraining's l1: 0.134266\tvalid_1's l1: 0.142396\n",
      "Did not meet early stopping. Best iteration is:\n",
      "[1000]\ttraining's l1: 0.134266\tvalid_1's l1: 0.142396\n",
      "\n",
      "Fold: 2\n",
      "train_x: (19840, 2), valid_x: (4960, 2)\n",
      "training start!\n",
      "Training until validation scores don't improve for 100 rounds\n",
      "[500]\ttraining's l1: 0.136739\tvalid_1's l1: 0.136582\n",
      "[1000]\ttraining's l1: 0.135997\tvalid_1's l1: 0.136104\n",
      "Did not meet early stopping. Best iteration is:\n",
      "[1000]\ttraining's l1: 0.135997\tvalid_1's l1: 0.136104\n",
      "\n",
      "Fold: 3\n",
      "train_x: (19840, 2), valid_x: (4960, 2)\n",
      "training start!\n",
      "Training until validation scores don't improve for 100 rounds\n",
      "[500]\ttraining's l1: 0.135439\tvalid_1's l1: 0.139768\n",
      "Early stopping, best iteration is:\n",
      "[527]\ttraining's l1: 0.135386\tvalid_1's l1: 0.139735\n",
      "\n",
      "Fold: 4\n",
      "train_x: (19840, 2), valid_x: (4960, 2)\n",
      "training start!\n",
      "Training until validation scores don't improve for 100 rounds\n",
      "[500]\ttraining's l1: 0.136559\tvalid_1's l1: 0.136048\n",
      "Early stopping, best iteration is:\n",
      "[622]\ttraining's l1: 0.136332\tvalid_1's l1: 0.135988\n",
      "\n"
     ]
    }
   ],
   "source": [
    "import pickle\n",
    "import numpy as np\n",
    "import lightgbm as lgb\n",
    "\n",
    "from sklearn.model_selection import KFold\n",
    "\n",
    "df_valid_pred = pd.DataFrame()\n",
    "metrics = []\n",
    "df_imp  = pd.DataFrame()\n",
    "\n",
    "n_splits = 5\n",
    "cv = list(KFold(n_splits=n_splits, shuffle=True, random_state=2022).split(x_train))\n",
    "\n",
    "for nfold, i in enumerate(cv):\n",
    "    print(f\"Fold: {nfold}\")\n",
    "    i_tr, i_va = i[0], i[1]\n",
    "    x_tr, y_tr, i_tr = x_train.loc[i_tr], y_train.loc[i_tr], i_train.loc[i_tr]\n",
    "    x_va, y_va, i_va = x_train.loc[i_va], y_train.loc[i_va], i_train.loc[i_va]\n",
    "    print(f\"train_x: {x_tr.shape}, valid_x: {x_va.shape}\")\n",
    "    \n",
    "    print(\"training start!\")\n",
    "    model = lgb.LGBMRegressor(**params)\n",
    "    model.fit(x_tr,\n",
    "              y_tr,\n",
    "              eval_set=[(x_tr, y_tr), (x_va, y_va)],\n",
    "              early_stopping_rounds=100,\n",
    "              verbose=500)\n",
    "    \n",
    "    with open(f\"model_lgb_fold{nfold}.h5\", \"wb\") as f:\n",
    "        pickle.dump(model, f, protocol=4)\n",
    "    \n",
    "    # valid\n",
    "    p_va = model.predict(x_va)\n",
    "    tmp_pred = pd.DataFrame({\"p_va\": p_va, \"y_va\": np.array(y_va).reshape(-1)})\n",
    "    df_valid_pred = pd.concat([df_valid_pred, tmp_pred], ignore_index=True)\n",
    "    \n",
    "    # metrics\n",
    "    metric_va = mean_absolute_error(y_va, p_va)\n",
    "    metrics.append([nfold, metric_va])\n",
    "    \n",
    "    # importance\n",
    "    tmp_imp = pd.DataFrame({\"col\"  : x_tr.columns,\n",
    "                            \"imp\"  : model.feature_importances_,\n",
    "                            \"nfold\": nfold\n",
    "                           })\n",
    "    tmp_imp.sort_values(by=\"imp\", ascending=False)\n",
    "    df_imp = pd.concat([df_imp, tmp_imp], ignore_index=True)\n",
    "    \n",
    "    print()"
   ]
  },
  {
   "cell_type": "code",
   "execution_count": 30,
   "id": "324a60f1-ac83-4c1f-8908-e456f33c3bcd",
   "metadata": {},
   "outputs": [
    {
     "name": "stdout",
     "output_type": "stream",
     "text": [
      "MAE: 0.138561\n"
     ]
    }
   ],
   "source": [
    "df_metrics = pd.DataFrame(metrics, columns=[\"nfold\", \"mae\"])\n",
    "mae_mean = df_metrics[\"mae\"].mean()\n",
    "print(f\"MAE: {round(mae_mean, 6)}\")"
   ]
  },
  {
   "cell_type": "code",
   "execution_count": 31,
   "id": "aaa6f2be-b7fb-4734-9bf5-3735d3f55b84",
   "metadata": {},
   "outputs": [
    {
     "data": {
      "text/plain": [
       "0.1385607810559552"
      ]
     },
     "execution_count": 31,
     "metadata": {},
     "output_type": "execute_result"
    }
   ],
   "source": [
    "np.abs(df_valid_pred[\"y_va\"] - df_valid_pred[\"p_va\"]).mean()"
   ]
  },
  {
   "cell_type": "markdown",
   "id": "fa575d62-4d40-48c9-b0e4-2bc817d76768",
   "metadata": {},
   "source": [
    "# cv: 0.138808 → 0.138561\n",
    "# public_score: 0.3275"
   ]
  }
 ],
 "metadata": {
  "kernelspec": {
   "display_name": "Python 3",
   "language": "python",
   "name": "python3"
  },
  "language_info": {
   "codemirror_mode": {
    "name": "ipython",
    "version": 3
   },
   "file_extension": ".py",
   "mimetype": "text/x-python",
   "name": "python",
   "nbconvert_exporter": "python",
   "pygments_lexer": "ipython3",
   "version": "3.8.8"
  }
 },
 "nbformat": 4,
 "nbformat_minor": 5
}
