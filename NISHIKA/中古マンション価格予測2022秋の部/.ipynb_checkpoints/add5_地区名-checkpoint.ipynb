{
 "cells": [
  {
   "cell_type": "code",
   "execution_count": 2,
   "id": "a94129fc-bbb7-42b7-97b2-5c2802db3e92",
   "metadata": {},
   "outputs": [],
   "source": [
    "import warnings\n",
    "import pandas as pd\n",
    "\n",
    "from sklearn.metrics import mean_absolute_error\n",
    "\n",
    "pd.set_option(\"display.max_columns\", 50)\n",
    "warnings.simplefilter(\"ignore\")\n",
    "\n",
    "train  = pd.read_csv(\"train/01.csv\")\n",
    "test   = pd.read_csv(\"test.csv\")\n",
    "submit = pd.read_csv(\"sample_submission.csv\")\n",
    "\n",
    "# 種類：中古マンション等のみ 必要なし\n",
    "del train[\"種類\"]\n",
    "del test[\"種類\"]\n",
    "\n",
    "# 種類：nanのみ 必要なし\n",
    "del train[\"地域\"]\n",
    "del test[\"地域\"]"
   ]
  },
  {
   "cell_type": "markdown",
   "id": "5b9d5ae8-1a94-4d71-be63-5d4865ffd94d",
   "metadata": {},
   "source": [
    "- '都道府県名'\n",
    "- '地区名'\n",
    "- '間取り'\n",
    "- '土地の形状'\n",
    "- '間口', '延床面積（㎡）'\n",
    "- '建物の構造'\n",
    "- '用途'\n",
    "- '今後の利用目的'\n",
    "- '前面道路：方位'\n",
    "- '前面道路：種類'\n",
    "- '前面道路：幅員（ｍ）'\n",
    "- '都市計画'\n",
    "- '建ぺい率（％）'\n",
    "- '容積率（％）'\n",
    "- '取引時点'\n",
    "- '改装'\n",
    "- '取引の事情等'"
   ]
  },
  {
   "cell_type": "code",
   "execution_count": 12,
   "id": "4480520b-f2f9-457b-be5f-2e2b5b9715e5",
   "metadata": {},
   "outputs": [
    {
     "data": {
      "text/plain": [
       "array(['南９条西', '平岸５条', '北７条西', '厚別南', '銭函', '中央１条', '三光町', '月寒東１条',\n",
       "       '厚別中央２条', '中の島１条', '北５条東', '宮下通', '錦町', '平岸１条', '富丘１条', '朝里川温泉',\n",
       "       '北４条西', '真駒内泉町', '北２条東', '南５条西', '北１条東', '北１３条西', '山の手３条', '大手町',\n",
       "       '真駒内上町', '月寒中央通', '南８条西', '北４０条西', '北６条西', '北門町', '北１条西', '平岸２条',\n",
       "       '北３条東', '南郷通', '北３５条西', '北３６条西', '宮の森３条', '北３条西', 'あいの里２条',\n",
       "       '南１３条西', '南６条西', '東札幌１条', '北３４条西', '５条通', '二十四軒３条', '北１７条東',\n",
       "       '発寒６条', '二十四軒４条', '南１６条西', '福住１条', '大谷地東', '厚別東５条', '北３２条西',\n",
       "       '山の手１条', '青葉町', '新中野町', '二十四軒２条', '琴似１条', '前田５条', '菊水８条', '真駒内緑町',\n",
       "       '豊平６条', '菊水７条', '豊平７条', '新発寒５条', '宮の森２条', '大通西', '屯田６条', '東札幌２条',\n",
       "       '南１２条西', '南３２条西', '曙２条', '南４条西', '石山１条', '大成町', '本郷通', '北９条東',\n",
       "       '北３５条東', '北１９条東', '北１０条西', '北４２条東', '潮見台', '菊水４条', '伏古４条', '発寒１５条',\n",
       "       '西町北', '山の手２条', '澄川４条', '南１８条西', '豊平１条', '西宮の沢３条', '発寒７条', '浪花町',\n",
       "       '福住３条', '宮前町', '月寒西４条', 'もみじ台北', '新琴似８条', '大谷地西', '麻生町', '北２６条東',\n",
       "       '旭町', '３条通', '二十四軒１条', '山の手４条', '中の島２条', '北７条東', '北１９条西', '南２４条西',\n",
       "       '南１７条西', '北１２条東', '稲穂１条', '北３７条西', '南１条東', '琴似４条', '南１５条西',\n",
       "       '南１０条西', '平岸４条', '８条通', '南１９条西', '湯川町', '川沿９条', '真駒内南町', '南２１条西',\n",
       "       '天神', '本町', '琴似２条', '月寒東５条', '真栄１条', '澄川２条', '西野１条', '篠路６条',\n",
       "       '東野幌本町', '北２２条東', '南２条東', '南２０条西', '星置１条', '北２３条西', '北郷８条', '栄通',\n",
       "       '美園９条', 'あいの里３条', '厚別中央３条', '西岡２条', '北１１条西', '東札幌６条', '円山西町',\n",
       "       '北８条西', '北１７条西', '豊平３条', '五稜郭町', '南１４条西', '豊岡３条', '本通', '大通東',\n",
       "       '北４１条東', '発寒１０条', '北１３条東', '月寒東４条', '豊平４条', '宇賀浦町', '新琴似１１条',\n",
       "       '平岸７条', '伏見', '末広町', '厚別北２条', '福住２条', '南１条西', '里塚２条', '川端町６条',\n",
       "       '東雲町', '南１１条西', '石山東', 'あいの里１条', '北２条西', '高砂台', '前田２条', '北２４条西',\n",
       "       '北４条東', '新琴似５条', '１条通', '野幌東町', '月寒西３条', '北２９条西', '緑町', '南３条東',\n",
       "       '豊平９条', '北１４条西', '中ノ沢', '大麻北町', '厚別中央４条', '発寒８条', '川沿１７条', '北５条西',\n",
       "       '厚別中央５条', '屯田９条', '北郷９条', '南２３条西', '築港', '八軒５条東', '北２０条西', '南大通',\n",
       "       '西町南', '菊水１条', '東札幌５条', '琴似３条', '鶴ケ岱', '北郷５条', '厚別中央１条', '西岡４条',\n",
       "       '美しが丘３条', '菊水９条', '北８条東', '澄川３条', '港町', '東札幌３条', '高砂町', '南２条西',\n",
       "       '北野１条', '澄川６条', '太平１条', '里塚１条', '大川町', '月寒東２条', '美園６条', '八軒２条東',\n",
       "       '稲穂', '山の手５条', '月寒西１条', '北郷１条', '八軒９条東', '百合が原', '平岸３条', '北光町',\n",
       "       '西１条南', '定山渓温泉西', '万代町', '新琴似９条', '北１６条東', '北９条西', '西宮の沢１条',\n",
       "       '清田１条', '表町', '菊水元町３条', '月寒西５条', '北１０条東', '宮の森４条', '豊平８条', '平和通',\n",
       "       '菊水元町１条', '元中野町', '花園', '宮の森１条', '水車町', '上江別', '川沿１条', '美園３条',\n",
       "       '西宮の沢５条', '平岡４条', '発寒９条', '八軒４条東', '北２５条西', '南３３条西', '手稲本町１条',\n",
       "       '平岡２条', '菊水２条', '北４６条東', '海岸町', '南３条西', '南５条東', '平岡公園東', '北４７条東',\n",
       "       '発寒１１条', '八軒３条東', '厚別東２条', '美園７条', '大麻中町', '宮の沢３条', '手稲本町２条',\n",
       "       '北郷３条', '八軒２条西', '船見町', '南２８条西', '北３６条東', '北４０条東', '野幌若葉町', '川沿３条',\n",
       "       '文京台', '奥沢', '北２１条西', '宮の沢２条', '川原町', '真駒内本町', '澄川５条', '北３１条東',\n",
       "       '北２０条東', '平岡５条', '清田２条', '南７条東', '春光町', '北３３条西', '八軒１条西', '北１１条東',\n",
       "       '北３９条西', '厚別東４条', '新光', '北２２条西', '平岸６条', '新橋大通', '美園８条', '南７条西',\n",
       "       '北郷７条', '西岡３条', '西６条南', '東苗穂５条', '青柳町', '南２２条西', '北３１条西', '北３８条東',\n",
       "       '中央２条', '宮の沢４条', '西野２条', '北２７条東', '前田４条', '北１８条東', '発寒５条', '南２７条西',\n",
       "       '赤岩', '発寒１２条', '篠路３条', '桜', '南３４条西', '宮の沢１条', '杉並町', '八軒４条西',\n",
       "       '星置２条', '若松', '南３０条西', '曙１条', '北１５条東', '篠路８条', '新川５条', '元町',\n",
       "       '菊水６条', '稲穂２条', '発寒３条', '南２６条西', '平岡６条', '北１８条西', '色内', '伏古２条',\n",
       "       '清田４条', '八軒５条西', '西宮の沢６条', '上江別南町', '真駒内柏丘', '新川４条', '３条', '西９条南',\n",
       "       '真駒内曙町', '北４３条東', '西１６条南', '真栄', '本町１条', '富岡', '中道', '梁川町', '菊水５条',\n",
       "       '北野７条', '北ノ沢', '北３３条東', '野幌末広町', '真栄５条', '駒場町', '八軒１条東', '大森町',\n",
       "       '菊水上町１条', '川沿１５条', '北２８条東', '八軒６条西', '八軒７条西', '西２条南', '手稲本町３条',\n",
       "       '新琴似７条', '北３４条東', '弁天町', '北３７条東', '柳町', '共栄大通', '千歳町', '的場町',\n",
       "       '美園１条', '７条通', '双葉町', '北野５条', '川沿５条', '北郷２条', '住ノ江', '４条通',\n",
       "       '厚別北３条', '北３９条東', '新発寒２条', '深堀町', '東野幌町', '前田１条', '北６条東', '上野幌３条',\n",
       "       '美園２条', '西４条南', '張碓町', '白金町', '野幌住吉町', '春光５条', '大麻東町', '厚別東１条',\n",
       "       '発寒４条', '東札幌４条', '北２４条東', '厚別北１条', '月寒東３条', '東光５条', '５条', '新川１条',\n",
       "       '山の手７条', '６条通', '本町２条', '上江別東町', '豊平２条', '澄川１条', '発寒１４条', '北１２条西',\n",
       "       '永山４条', '川沿４条', '北２５条東', '北郷４条', '寿町', '美園１２条', '北２７条西', '常盤通',\n",
       "       '菊水３条', '美園４条', '１０条通', '柏木町', '山下町', '朝里', '若松町', '野幌町', '伏古６条',\n",
       "       '篠路７条', '北３８条西', '緑', '若草町', '西野３条', '八軒７条東', '厚別東３条', '東３条',\n",
       "       '春光２条', '旭ケ丘', '富丘２条', '美原', '神楽２条', '菊水元町６条', '月寒西２条', '北２１条東',\n",
       "       '北郷６条', '治水町', '日の出町', '最上', '北２６条西', '北２３条東', '北野２条', '神山',\n",
       "       '平岡１条', '豊岡４条', '北３２条東', '宮ケ丘', '稲穂３条', '山田町', '住吉町', '５条西', '９条通',\n",
       "       '富丘３条', '新川２条', '菊水元町２条', '湯浜町', '里塚３条', '南２５条西', '長橋', '松陰町',\n",
       "       '川端町２条', '美園５条', '北３０条東', '若竹町', '厚別西３条', '桜町', '新川３条', '豊平５条',\n",
       "       '暁町', '旭町１条', '八軒８条東', '伏古９条', '八軒１０条東', '住之江町', '日吉町', '北１４条東',\n",
       "       '菊水元町４条', '平岸８条', '前田７条', '東７条南', '４条西', '八軒３条西', '東苗穂４条', '千代台町',\n",
       "       '大町２条', '吉川町', '南３１条西', '大麻園町', '北４４条東', '川端町４条', '上江別西町', '日新町',\n",
       "       '王子町', '４条', 'しらかば町', '菊水元町５条', '苗穂町', '文京台東町', '伏古８条', '東苗穂６条',\n",
       "       '富岡町', '上野幌１条', '西３条南', '春日町', '新琴似６条', '旭町２条', '中島町', '花園町',\n",
       "       '石山２条', '川沿６条', '北１５条西', '三住町', '八軒６条東', '北美原', '西宮の沢４条', '伏古１条',\n",
       "       '松ケ枝', '宮前１条', '屯田１条', '入船', '西岡５条', '山の手６条', '時任町', '伏古３条',\n",
       "       '明野新町', '北野６条', '北１６条西', '幸町', '西野４条', '２条通', '東５条', '八軒８条西',\n",
       "       '厚別西２条', '東１条南', '南３７条西', '神楽４条', '東苗穂１４条', '川沿２条', '発寒１３条',\n",
       "       '発寒１条', '木場町', '東光１条', '南４条東'], dtype=object)"
      ]
     },
     "execution_count": 12,
     "metadata": {},
     "output_type": "execute_result"
    }
   ],
   "source": [
    "train[\"地区名\"].unique()"
   ]
  },
  {
   "cell_type": "code",
   "execution_count": 13,
   "id": "d8be48b3-c04f-4727-be49-84148a84bb87",
   "metadata": {},
   "outputs": [],
   "source": [
    "test[\"面積（㎡）\"] = test[\"面積（㎡）\"].replace(\"2000㎡以上\", \"2000\").astype(int)\n",
    "\n",
    "train[\"最寄駅：距離（分）\"] = train[\"最寄駅：距離（分）\"].replace([\"30分?60分\",\"1H?1H30\",\"1H30?2H\", \"2H?\"], [\"45\",\"75\",\"105\",\"120\"])\n",
    "test[\"最寄駅：距離（分）\"]  = test[\"最寄駅：距離（分）\"].replace([\"30分?60分\",\"1H?1H30\",\"1H30?2H\",\"2H?\"], [\"45\",\"75\",\"105\",\"120\"])\n",
    "\n",
    "train[\"市区町村コード\"] = train[\"市区町村コード\"].astype(\"category\")\n",
    "test[\"市区町村コード\"] = test[\"市区町村コード\"].astype(\"category\")\n",
    "\n",
    "features = [\"面積（㎡）\", \"建築年\", \"最寄駅：距離（分）\", \"最寄駅：名称\",\n",
    "            \"市区町村コード\", \"地区名\"\n",
    "           ]\n",
    "\n",
    "x_train = train[features]\n",
    "y_train = train[[\"取引価格（総額）_log\"]]\n",
    "i_train = train[[\"ID\"]]\n",
    "\n",
    "x_test  = test[features]\n",
    "i_test  = test[[\"ID\"]]"
   ]
  },
  {
   "cell_type": "code",
   "execution_count": 14,
   "id": "08c00869-54c1-4536-a865-68996219215e",
   "metadata": {},
   "outputs": [],
   "source": [
    "for col in x_train.columns:\n",
    "    if x_train[col].dtype == \"O\":\n",
    "        x_train[col] = x_train[col].astype(\"category\")\n",
    "\n",
    "for col in x_train.columns:\n",
    "    if x_test[col].dtype == \"O\":\n",
    "        x_test[col] = x_test[col].astype(\"category\")"
   ]
  },
  {
   "cell_type": "code",
   "execution_count": 15,
   "id": "934944ae-94bb-4410-a332-b42d262370c3",
   "metadata": {},
   "outputs": [],
   "source": [
    "params = {\n",
    "    \"boosting_type\"  : \"gbdt\",\n",
    "    \"objective\"      : \"regression_l1\",\n",
    "    \"metric\"         : \"mean_absolute_error\",\n",
    "    \"learning_rate\"  : 0.1,\n",
    "    \"num_leaves\"     : 31,\n",
    "    \"n_estimators\"   : 1000,\n",
    "    \"random_state\"   : 2022,\n",
    "    \"importance_type\": \"gain\"\n",
    "}"
   ]
  },
  {
   "cell_type": "code",
   "execution_count": 16,
   "id": "f3f3ee87-8ae3-41e1-ac22-4edaf780e998",
   "metadata": {},
   "outputs": [
    {
     "name": "stdout",
     "output_type": "stream",
     "text": [
      "Fold: 0\n",
      "train_x: (19840, 7), valid_x: (4960, 7)\n",
      "training start!\n",
      "Training until validation scores don't improve for 100 rounds\n",
      "[500]\ttraining's l1: 0.0879867\tvalid_1's l1: 0.111615\n",
      "Early stopping, best iteration is:\n",
      "[846]\ttraining's l1: 0.0861055\tvalid_1's l1: 0.111409\n",
      "\n",
      "Fold: 1\n",
      "train_x: (19840, 7), valid_x: (4960, 7)\n",
      "training start!\n",
      "Training until validation scores don't improve for 100 rounds\n",
      "[500]\ttraining's l1: 0.0876383\tvalid_1's l1: 0.112413\n",
      "Early stopping, best iteration is:\n",
      "[732]\ttraining's l1: 0.0861423\tvalid_1's l1: 0.112355\n",
      "\n",
      "Fold: 2\n",
      "train_x: (19840, 7), valid_x: (4960, 7)\n",
      "training start!\n",
      "Training until validation scores don't improve for 100 rounds\n",
      "[500]\ttraining's l1: 0.0880034\tvalid_1's l1: 0.108085\n",
      "Early stopping, best iteration is:\n",
      "[492]\ttraining's l1: 0.0880743\tvalid_1's l1: 0.108072\n",
      "\n",
      "Fold: 3\n",
      "train_x: (19840, 7), valid_x: (4960, 7)\n",
      "training start!\n",
      "Training until validation scores don't improve for 100 rounds\n",
      "[500]\ttraining's l1: 0.0876256\tvalid_1's l1: 0.110999\n",
      "Early stopping, best iteration is:\n",
      "[717]\ttraining's l1: 0.0862222\tvalid_1's l1: 0.110916\n",
      "\n",
      "Fold: 4\n",
      "train_x: (19840, 7), valid_x: (4960, 7)\n",
      "training start!\n",
      "Training until validation scores don't improve for 100 rounds\n",
      "[500]\ttraining's l1: 0.088841\tvalid_1's l1: 0.10737\n",
      "Early stopping, best iteration is:\n",
      "[711]\ttraining's l1: 0.0874909\tvalid_1's l1: 0.107314\n",
      "\n"
     ]
    }
   ],
   "source": [
    "import pickle\n",
    "import numpy as np\n",
    "import lightgbm as lgb\n",
    "\n",
    "from sklearn.model_selection import KFold\n",
    "\n",
    "df_valid_pred = pd.DataFrame()\n",
    "metrics = []\n",
    "df_imp  = pd.DataFrame()\n",
    "\n",
    "n_splits = 5\n",
    "cv = list(KFold(n_splits=n_splits, shuffle=True, random_state=2022).split(x_train))\n",
    "\n",
    "for nfold, i in enumerate(cv):\n",
    "    print(f\"Fold: {nfold}\")\n",
    "    i_tr, i_va = i[0], i[1]\n",
    "    x_tr, y_tr, i_tr = x_train.loc[i_tr], y_train.loc[i_tr], i_train.loc[i_tr]\n",
    "    x_va, y_va, i_va = x_train.loc[i_va], y_train.loc[i_va], i_train.loc[i_va]\n",
    "    print(f\"train_x: {x_tr.shape}, valid_x: {x_va.shape}\")\n",
    "    \n",
    "    print(\"training start!\")\n",
    "    model = lgb.LGBMRegressor(**params)\n",
    "    model.fit(x_tr,\n",
    "              y_tr,\n",
    "              eval_set=[(x_tr, y_tr), (x_va, y_va)],\n",
    "              early_stopping_rounds=100,\n",
    "              verbose=500)\n",
    "    \n",
    "    with open(f\"model_lgb_fold{nfold}.h5\", \"wb\") as f:\n",
    "        pickle.dump(model, f, protocol=4)\n",
    "    \n",
    "    p_va = model.predict(x_va)\n",
    "    tmp_pred = pd.DataFrame({\"p_va\": p_va, \"y_va\": np.array(y_va).reshape(-1)})\n",
    "    \n",
    "    df_valid_pred = pd.concat([df_valid_pred, tmp_pred], ignore_index=True)\n",
    "    \n",
    "    metric_va = mean_absolute_error(y_va, p_va)\n",
    "    metrics.append([nfold, metric_va])\n",
    "    \n",
    "    tmp_imp = pd.DataFrame({\"col\"  : x_tr.columns,\n",
    "                            \"imp\"  : model.feature_importances_,\n",
    "                            \"nfold\": nfold\n",
    "                           })\n",
    "    tmp_imp.sort_values(by=\"imp\", ascending=False)\n",
    "    df_imp = pd.concat([df_imp, tmp_imp], ignore_index=True)\n",
    "    \n",
    "    print()"
   ]
  },
  {
   "cell_type": "code",
   "execution_count": 17,
   "id": "09b90182-64d0-4582-9190-ccf7face81b2",
   "metadata": {},
   "outputs": [
    {
     "name": "stdout",
     "output_type": "stream",
     "text": [
      "MAE: 0.110013\n"
     ]
    }
   ],
   "source": [
    "df_metrics = pd.DataFrame(metrics, columns=[\"nfold\", \"mae\"])\n",
    "mae_mean = df_metrics[\"mae\"].mean()\n",
    "print(f\"MAE: {round(mae_mean, 6)}\")"
   ]
  },
  {
   "cell_type": "code",
   "execution_count": 18,
   "id": "c2e2aca2-46be-4ecf-92d1-35c375879810",
   "metadata": {},
   "outputs": [
    {
     "data": {
      "text/plain": [
       "-0.009228932327402179"
      ]
     },
     "execution_count": 18,
     "metadata": {},
     "output_type": "execute_result"
    }
   ],
   "source": [
    "(df_valid_pred[\"y_va\"] - df_valid_pred[\"p_va\"]).mean()"
   ]
  },
  {
   "cell_type": "code",
   "execution_count": 19,
   "id": "f91816d0-37d4-4548-b28a-144986d01143",
   "metadata": {},
   "outputs": [
    {
     "data": {
      "text/html": [
       "<div>\n",
       "<style scoped>\n",
       "    .dataframe tbody tr th:only-of-type {\n",
       "        vertical-align: middle;\n",
       "    }\n",
       "\n",
       "    .dataframe tbody tr th {\n",
       "        vertical-align: top;\n",
       "    }\n",
       "\n",
       "    .dataframe thead th {\n",
       "        text-align: right;\n",
       "    }\n",
       "</style>\n",
       "<table border=\"1\" class=\"dataframe\">\n",
       "  <thead>\n",
       "    <tr style=\"text-align: right;\">\n",
       "      <th></th>\n",
       "      <th>mean</th>\n",
       "    </tr>\n",
       "    <tr>\n",
       "      <th>col</th>\n",
       "      <th></th>\n",
       "    </tr>\n",
       "  </thead>\n",
       "  <tbody>\n",
       "    <tr>\n",
       "      <th>建築年</th>\n",
       "      <td>116539.475197</td>\n",
       "    </tr>\n",
       "    <tr>\n",
       "      <th>地区名</th>\n",
       "      <td>102092.757532</td>\n",
       "    </tr>\n",
       "    <tr>\n",
       "      <th>最寄駅：距離（分）</th>\n",
       "      <td>36073.604515</td>\n",
       "    </tr>\n",
       "    <tr>\n",
       "      <th>面積（㎡）</th>\n",
       "      <td>35781.308751</td>\n",
       "    </tr>\n",
       "    <tr>\n",
       "      <th>最寄駅：名称</th>\n",
       "      <td>30941.481604</td>\n",
       "    </tr>\n",
       "    <tr>\n",
       "      <th>市区町村コード</th>\n",
       "      <td>726.459340</td>\n",
       "    </tr>\n",
       "    <tr>\n",
       "      <th>市区町村名</th>\n",
       "      <td>0.000000</td>\n",
       "    </tr>\n",
       "  </tbody>\n",
       "</table>\n",
       "</div>"
      ],
      "text/plain": [
       "                    mean\n",
       "col                     \n",
       "建築年        116539.475197\n",
       "地区名        102092.757532\n",
       "最寄駅：距離（分）   36073.604515\n",
       "面積（㎡）       35781.308751\n",
       "最寄駅：名称      30941.481604\n",
       "市区町村コード       726.459340\n",
       "市区町村名           0.000000"
      ]
     },
     "execution_count": 19,
     "metadata": {},
     "output_type": "execute_result"
    }
   ],
   "source": [
    "df_imp.groupby(\"col\")[\"imp\"].agg([\"mean\"]).sort_values(by=\"mean\", ascending=False)"
   ]
  },
  {
   "cell_type": "markdown",
   "id": "d9d2f99a-fc02-43c4-9fad-222a3e4db142",
   "metadata": {},
   "source": [
    "# cv: 0.110013\n",
    "# cv(all_data): 0.089208"
   ]
  }
 ],
 "metadata": {
  "kernelspec": {
   "display_name": "Python 3",
   "language": "python",
   "name": "python3"
  },
  "language_info": {
   "codemirror_mode": {
    "name": "ipython",
    "version": 3
   },
   "file_extension": ".py",
   "mimetype": "text/x-python",
   "name": "python",
   "nbconvert_exporter": "python",
   "pygments_lexer": "ipython3",
   "version": "3.8.8"
  }
 },
 "nbformat": 4,
 "nbformat_minor": 5
}
