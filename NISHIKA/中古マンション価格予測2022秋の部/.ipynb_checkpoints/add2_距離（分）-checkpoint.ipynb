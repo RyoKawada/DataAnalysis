{
 "cells": [
  {
   "cell_type": "code",
   "execution_count": 1,
   "id": "24a6f280-fa53-4030-8e73-4db0c1e83427",
   "metadata": {},
   "outputs": [],
   "source": [
    "import warnings\n",
    "import pandas as pd\n",
    "\n",
    "from sklearn.metrics import mean_absolute_error\n",
    "\n",
    "pd.set_option(\"display.max_columns\", 50)\n",
    "warnings.simplefilter(\"ignore\")\n",
    "\n",
    "train  = pd.read_csv(\"train/01.csv\")\n",
    "test   = pd.read_csv(\"test.csv\")\n",
    "submit = pd.read_csv(\"sample_submission.csv\")"
   ]
  },
  {
   "cell_type": "code",
   "execution_count": 2,
   "id": "ccc68e94-ae15-4858-859b-22573eb8bad4",
   "metadata": {},
   "outputs": [],
   "source": [
    "# 種類：中古マンション等のみ 必要なし\n",
    "del train[\"種類\"]\n",
    "del test[\"種類\"]\n",
    "\n",
    "# 種類：nanのみ 必要なし\n",
    "del train[\"地域\"]\n",
    "del test[\"地域\"]"
   ]
  },
  {
   "cell_type": "code",
   "execution_count": 3,
   "id": "84d9c9fc-7301-47d7-aa54-e9cf5e233b29",
   "metadata": {},
   "outputs": [
    {
     "data": {
      "text/plain": [
       "array(['5', '11', '3', '1', '8', '30分?60分', '2', '15', nan, '28', '9',\n",
       "       '10', '6', '4', '18', '7', '0', '21', '13', '12', '29', '14', '24',\n",
       "       '25', '20', '23', '16', '27', '19', '22', '1H?1H30', '17', '26',\n",
       "       '2H?', '1H30?2H'], dtype=object)"
      ]
     },
     "execution_count": 3,
     "metadata": {},
     "output_type": "execute_result"
    }
   ],
   "source": [
    "train[\"最寄駅：距離（分）\"].unique()"
   ]
  },
  {
   "cell_type": "markdown",
   "id": "0f02ad10-67a5-4413-a42b-449f8c00ab73",
   "metadata": {},
   "source": [
    "array(['5', '11', '3', '1', '8', '30分?60分', '2', '15', nan, '28', '9',\n",
    "       '10', '6', '4', '18', '7', '0', '21', '13', '12', '29', '14', '24',\n",
    "       '25', '20', '23', '16', '27', '19', '22', '1H?1H30', '17', '26',\n",
    "       '2H?', '1H30?2H'], dtype=object)"
   ]
  },
  {
   "cell_type": "code",
   "execution_count": 4,
   "id": "1fa75719-fff7-4d70-bdd0-11decb54a337",
   "metadata": {},
   "outputs": [],
   "source": [
    "test[\"面積（㎡）\"] = test[\"面積（㎡）\"].replace(\"2000㎡以上\", \"2000\").astype(int)\n",
    "\n",
    "train[\"最寄駅：距離（分）\"] = train[\"最寄駅：距離（分）\"].replace([\"30分?60分\",\"1H?1H30\",\"1H30?2H\", \"2H?\"], [\"45\",\"75\",\"105\",\"120\"])\n",
    "test[\"最寄駅：距離（分）\"]  = test[\"最寄駅：距離（分）\"].replace([\"30分?60分\",\"1H?1H30\",\"1H30?2H\",\"2H?\"], [\"45\",\"75\",\"105\",\"120\"])\n",
    "\n",
    "features = [\"面積（㎡）\", \"建築年\", \"最寄駅：距離（分）\"]\n",
    "\n",
    "x_train = train[features]\n",
    "y_train = train[[\"取引価格（総額）_log\"]]\n",
    "i_train = train[[\"ID\"]]\n",
    "\n",
    "x_test  = test[features]\n",
    "i_test  = test[[\"ID\"]]"
   ]
  },
  {
   "cell_type": "code",
   "execution_count": 5,
   "id": "395e88f1-1b78-4a02-833f-84e6925f5137",
   "metadata": {},
   "outputs": [],
   "source": [
    "for col in x_train.columns:\n",
    "    if x_train[col].dtype == \"O\":\n",
    "        x_train[col] = x_train[col].astype(\"category\")\n",
    "\n",
    "for col in x_test.columns:\n",
    "    if x_test[col].dtype == \"O\":\n",
    "        x_test[col] = x_test[col].astype(\"category\")"
   ]
  },
  {
   "cell_type": "code",
   "execution_count": 6,
   "id": "9aa4c7c9-1161-40e9-bd2e-71910060dcad",
   "metadata": {},
   "outputs": [],
   "source": [
    "params = {\n",
    "    \"boosting_type\"  : \"gbdt\",\n",
    "    \"objective\"      : \"regression_l1\",\n",
    "    \"metric\"         : \"mean_absolute_error\",\n",
    "    \"learning_rate\"  : 0.02,\n",
    "    \"num_leaves\"     : 31,\n",
    "    \"n_estimators\"   : 1000,\n",
    "    \"random_state\"   : 2022,\n",
    "    \"importance_type\": \"gain\"\n",
    "}"
   ]
  },
  {
   "cell_type": "code",
   "execution_count": 7,
   "id": "6012d5a7-0304-490f-a0e7-0a2680dd5e21",
   "metadata": {},
   "outputs": [
    {
     "name": "stdout",
     "output_type": "stream",
     "text": [
      "Fold: 0\n",
      "train_x: (19840, 3), valid_x: (4960, 3)\n",
      "training start!\n",
      "Training until validation scores don't improve for 100 rounds\n",
      "[500]\ttraining's l1: 0.119631\tvalid_1's l1: 0.128775\n",
      "[1000]\ttraining's l1: 0.116105\tvalid_1's l1: 0.128301\n",
      "Did not meet early stopping. Best iteration is:\n",
      "[1000]\ttraining's l1: 0.116105\tvalid_1's l1: 0.128301\n",
      "\n",
      "Fold: 1\n",
      "train_x: (19840, 3), valid_x: (4960, 3)\n",
      "training start!\n",
      "Training until validation scores don't improve for 100 rounds\n",
      "[500]\ttraining's l1: 0.118821\tvalid_1's l1: 0.13177\n",
      "[1000]\ttraining's l1: 0.115158\tvalid_1's l1: 0.130945\n",
      "Did not meet early stopping. Best iteration is:\n",
      "[1000]\ttraining's l1: 0.115158\tvalid_1's l1: 0.130945\n",
      "\n",
      "Fold: 2\n",
      "train_x: (19840, 3), valid_x: (4960, 3)\n",
      "training start!\n",
      "Training until validation scores don't improve for 100 rounds\n",
      "[500]\ttraining's l1: 0.120058\tvalid_1's l1: 0.123635\n",
      "Early stopping, best iteration is:\n",
      "[736]\ttraining's l1: 0.117982\tvalid_1's l1: 0.123475\n",
      "\n",
      "Fold: 3\n",
      "train_x: (19840, 3), valid_x: (4960, 3)\n",
      "training start!\n",
      "Training until validation scores don't improve for 100 rounds\n",
      "[500]\ttraining's l1: 0.119143\tvalid_1's l1: 0.129474\n",
      "[1000]\ttraining's l1: 0.115675\tvalid_1's l1: 0.128729\n",
      "Did not meet early stopping. Best iteration is:\n",
      "[1000]\ttraining's l1: 0.115675\tvalid_1's l1: 0.128729\n",
      "\n",
      "Fold: 4\n",
      "train_x: (19840, 3), valid_x: (4960, 3)\n",
      "training start!\n",
      "Training until validation scores don't improve for 100 rounds\n",
      "[500]\ttraining's l1: 0.120189\tvalid_1's l1: 0.125676\n",
      "[1000]\ttraining's l1: 0.116694\tvalid_1's l1: 0.125015\n",
      "Did not meet early stopping. Best iteration is:\n",
      "[1000]\ttraining's l1: 0.116694\tvalid_1's l1: 0.125015\n",
      "\n"
     ]
    }
   ],
   "source": [
    "import pickle\n",
    "import numpy as np\n",
    "import lightgbm as lgb\n",
    "\n",
    "from sklearn.model_selection import KFold\n",
    "\n",
    "df_valid_pred = pd.DataFrame()\n",
    "metrics = []\n",
    "df_imp  = pd.DataFrame()\n",
    "\n",
    "n_splits = 5\n",
    "cv = list(KFold(n_splits=n_splits, shuffle=True, random_state=2022).split(x_train))\n",
    "\n",
    "for nfold, i in enumerate(cv):\n",
    "    print(f\"Fold: {nfold}\")\n",
    "    i_tr, i_va = i[0], i[1]\n",
    "    x_tr, y_tr, i_tr = x_train.loc[i_tr], y_train.loc[i_tr], i_train.loc[i_tr]\n",
    "    x_va, y_va, i_va = x_train.loc[i_va], y_train.loc[i_va], i_train.loc[i_va]\n",
    "    print(f\"train_x: {x_tr.shape}, valid_x: {x_va.shape}\")\n",
    "    \n",
    "    print(\"training start!\")\n",
    "    model = lgb.LGBMRegressor(**params)\n",
    "    model.fit(x_tr,\n",
    "              y_tr,\n",
    "              eval_set=[(x_tr, y_tr), (x_va, y_va)],\n",
    "              early_stopping_rounds=100,\n",
    "              verbose=500)\n",
    "    \n",
    "    with open(f\"model_lgb_fold{nfold}.h5\", \"wb\") as f:\n",
    "        pickle.dump(model, f, protocol=4)\n",
    "    \n",
    "    p_va = model.predict(x_va)\n",
    "    tmp_pred = pd.DataFrame({\"p_va\": p_va, \"y_va\": np.array(y_va).reshape(-1)})\n",
    "    \n",
    "    df_valid_pred = pd.concat([df_valid_pred, tmp_pred], ignore_index=True)\n",
    "    \n",
    "    metric_va = mean_absolute_error(y_va, p_va)\n",
    "    metrics.append([nfold, metric_va])\n",
    "    \n",
    "    tmp_imp = pd.DataFrame({\"col\"  : x_tr.columns,\n",
    "                            \"imp\"  : model.feature_importances_,\n",
    "                            \"nfold\": nfold\n",
    "                           })\n",
    "    tmp_imp.sort_values(by=\"imp\", ascending=False)\n",
    "    df_imp = pd.concat([df_imp, tmp_imp], ignore_index=True)\n",
    "    \n",
    "    print()"
   ]
  },
  {
   "cell_type": "code",
   "execution_count": 8,
   "id": "fbbe8628-60ea-42bd-80d4-c14d0c663598",
   "metadata": {},
   "outputs": [
    {
     "name": "stdout",
     "output_type": "stream",
     "text": [
      "MAE: 0.127293\n"
     ]
    }
   ],
   "source": [
    "df_metrics = pd.DataFrame(metrics, columns=[\"nfold\", \"mae\"])\n",
    "mae_mean = df_metrics[\"mae\"].mean()\n",
    "print(f\"MAE: {round(mae_mean, 6)}\")"
   ]
  },
  {
   "cell_type": "code",
   "execution_count": 9,
   "id": "d38a4772-8458-43b5-aaed-0768e16a9e8a",
   "metadata": {},
   "outputs": [
    {
     "data": {
      "text/plain": [
       "-0.012248011713519127"
      ]
     },
     "execution_count": 9,
     "metadata": {},
     "output_type": "execute_result"
    }
   ],
   "source": [
    "(df_valid_pred[\"y_va\"] - df_valid_pred[\"p_va\"]).mean()"
   ]
  },
  {
   "cell_type": "code",
   "execution_count": 10,
   "id": "f2306b65-ac41-4f9c-bf24-596fadf71dde",
   "metadata": {},
   "outputs": [
    {
     "data": {
      "text/html": [
       "<div>\n",
       "<style scoped>\n",
       "    .dataframe tbody tr th:only-of-type {\n",
       "        vertical-align: middle;\n",
       "    }\n",
       "\n",
       "    .dataframe tbody tr th {\n",
       "        vertical-align: top;\n",
       "    }\n",
       "\n",
       "    .dataframe thead th {\n",
       "        text-align: right;\n",
       "    }\n",
       "</style>\n",
       "<table border=\"1\" class=\"dataframe\">\n",
       "  <thead>\n",
       "    <tr style=\"text-align: right;\">\n",
       "      <th></th>\n",
       "      <th>mean</th>\n",
       "    </tr>\n",
       "    <tr>\n",
       "      <th>col</th>\n",
       "      <th></th>\n",
       "    </tr>\n",
       "  </thead>\n",
       "  <tbody>\n",
       "    <tr>\n",
       "      <th>建築年</th>\n",
       "      <td>456844.268695</td>\n",
       "    </tr>\n",
       "    <tr>\n",
       "      <th>面積（㎡）</th>\n",
       "      <td>172898.548331</td>\n",
       "    </tr>\n",
       "    <tr>\n",
       "      <th>最寄駅：距離（分）</th>\n",
       "      <td>77273.748341</td>\n",
       "    </tr>\n",
       "  </tbody>\n",
       "</table>\n",
       "</div>"
      ],
      "text/plain": [
       "                    mean\n",
       "col                     \n",
       "建築年        456844.268695\n",
       "面積（㎡）      172898.548331\n",
       "最寄駅：距離（分）   77273.748341"
      ]
     },
     "execution_count": 10,
     "metadata": {},
     "output_type": "execute_result"
    }
   ],
   "source": [
    "df_imp.groupby(\"col\")[\"imp\"].agg([\"mean\"]).sort_values(by=\"mean\", ascending=False)"
   ]
  },
  {
   "cell_type": "code",
   "execution_count": 97,
   "id": "4edcd042-7931-448d-af38-665912488e17",
   "metadata": {},
   "outputs": [],
   "source": [
    "n_folds = 5\n",
    "\n",
    "def predict_lgb(input_x, input_id, n_folds):\n",
    "    for nfold in range(n_folds):\n",
    "        print(\"-\"*20, \" Fold: \", nfold, \" \", \"-\"*20)\n",
    "        print()\n",
    "        # モデル読み込み\n",
    "        with open(f\"./model_lgb_fold{nfold}.h5\", \"rb\") as f:\n",
    "            model = pickle.load(f)\n",
    "\n",
    "        # 推論\n",
    "        pred = model.predict(input_x)\n",
    "\n",
    "        # 予測値の格納\n",
    "        input_id[f\"fold{nfold}\"] = pred\n",
    "            \n",
    "    return input_id"
   ]
  },
  {
   "cell_type": "code",
   "execution_count": 98,
   "id": "12d31599-8ca1-476e-8c3a-7ca542bf4ef1",
   "metadata": {},
   "outputs": [
    {
     "name": "stdout",
     "output_type": "stream",
     "text": [
      "--------------------  Fold:  0   --------------------\n",
      "\n",
      "--------------------  Fold:  1   --------------------\n",
      "\n",
      "--------------------  Fold:  2   --------------------\n",
      "\n",
      "--------------------  Fold:  3   --------------------\n",
      "\n",
      "--------------------  Fold:  4   --------------------\n",
      "\n"
     ]
    }
   ],
   "source": [
    "# 学習モデルを用いた推論処理\n",
    "df_test_pred = predict_lgb(x_test, i_test, n_folds)"
   ]
  },
  {
   "cell_type": "code",
   "execution_count": 99,
   "id": "45a603fc-6358-40f4-8b4e-bd041698cb27",
   "metadata": {},
   "outputs": [],
   "source": [
    "submit[\"取引価格（総額）_log\"] = df_test_pred[[\"fold0\",\"fold1\",\"fold2\",\"fold3\",\"fold4\"]].mean(axis=1)\n",
    "submit.to_csv(\"submission.csv\", index=False)"
   ]
  },
  {
   "cell_type": "markdown",
   "id": "e84aa11f-0813-4858-bc62-9fecb7e79890",
   "metadata": {},
   "source": [
    "# cv: 0.127293\n",
    "# public_score: 0.3252"
   ]
  }
 ],
 "metadata": {
  "kernelspec": {
   "display_name": "Python 3",
   "language": "python",
   "name": "python3"
  },
  "language_info": {
   "codemirror_mode": {
    "name": "ipython",
    "version": 3
   },
   "file_extension": ".py",
   "mimetype": "text/x-python",
   "name": "python",
   "nbconvert_exporter": "python",
   "pygments_lexer": "ipython3",
   "version": "3.8.8"
  }
 },
 "nbformat": 4,
 "nbformat_minor": 5
}
